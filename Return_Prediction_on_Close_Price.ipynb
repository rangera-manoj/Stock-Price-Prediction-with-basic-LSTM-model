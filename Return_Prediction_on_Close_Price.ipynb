{
  "nbformat": 4,
  "nbformat_minor": 0,
  "metadata": {
    "colab": {
      "name": "Return_Prediction_on_Close_Price_final.ipynb",
      "provenance": [],
      "collapsed_sections": []
    },
    "kernelspec": {
      "name": "python3",
      "display_name": "Python 3"
    },
    "language_info": {
      "name": "python"
    },
    "accelerator": "GPU"
  },
  "cells": [
    {
      "cell_type": "code",
      "metadata": {
        "id": "CFpTow0RCjrY"
      },
      "source": [
        "import numpy as np\n",
        "import pandas as pd\n",
        "import tensorflow as tf\n",
        "import matplotlib.pyplot as plt"
      ],
      "execution_count": 1,
      "outputs": []
    },
    {
      "cell_type": "code",
      "metadata": {
        "id": "xIa8-F4nDVUR"
      },
      "source": [
        "df = pd.read_csv('/content/drive/MyDrive/google_stock/GOOGL.csv', index_col= 'Date', parse_dates=True)"
      ],
      "execution_count": 4,
      "outputs": []
    },
    {
      "cell_type": "code",
      "metadata": {
        "colab": {
          "base_uri": "https://localhost:8080/",
          "height": 235
        },
        "id": "i8XgHS9gDgyJ",
        "outputId": "30011713-bf4d-4519-9975-731586b78c75"
      },
      "source": [
        "df.head()"
      ],
      "execution_count": 5,
      "outputs": [
        {
          "output_type": "execute_result",
          "data": {
            "text/html": [
              "<div>\n",
              "<style scoped>\n",
              "    .dataframe tbody tr th:only-of-type {\n",
              "        vertical-align: middle;\n",
              "    }\n",
              "\n",
              "    .dataframe tbody tr th {\n",
              "        vertical-align: top;\n",
              "    }\n",
              "\n",
              "    .dataframe thead th {\n",
              "        text-align: right;\n",
              "    }\n",
              "</style>\n",
              "<table border=\"1\" class=\"dataframe\">\n",
              "  <thead>\n",
              "    <tr style=\"text-align: right;\">\n",
              "      <th></th>\n",
              "      <th>Open</th>\n",
              "      <th>High</th>\n",
              "      <th>Low</th>\n",
              "      <th>Close</th>\n",
              "      <th>Adj Close</th>\n",
              "      <th>Volume</th>\n",
              "    </tr>\n",
              "    <tr>\n",
              "      <th>Date</th>\n",
              "      <th></th>\n",
              "      <th></th>\n",
              "      <th></th>\n",
              "      <th></th>\n",
              "      <th></th>\n",
              "      <th></th>\n",
              "    </tr>\n",
              "  </thead>\n",
              "  <tbody>\n",
              "    <tr>\n",
              "      <th>2004-08-19</th>\n",
              "      <td>50.050049</td>\n",
              "      <td>52.082081</td>\n",
              "      <td>48.028027</td>\n",
              "      <td>50.220219</td>\n",
              "      <td>50.220219</td>\n",
              "      <td>44659000</td>\n",
              "    </tr>\n",
              "    <tr>\n",
              "      <th>2004-08-20</th>\n",
              "      <td>50.555557</td>\n",
              "      <td>54.594593</td>\n",
              "      <td>50.300301</td>\n",
              "      <td>54.209209</td>\n",
              "      <td>54.209209</td>\n",
              "      <td>22834300</td>\n",
              "    </tr>\n",
              "    <tr>\n",
              "      <th>2004-08-23</th>\n",
              "      <td>55.430431</td>\n",
              "      <td>56.796795</td>\n",
              "      <td>54.579578</td>\n",
              "      <td>54.754753</td>\n",
              "      <td>54.754753</td>\n",
              "      <td>18256100</td>\n",
              "    </tr>\n",
              "    <tr>\n",
              "      <th>2004-08-24</th>\n",
              "      <td>55.675674</td>\n",
              "      <td>55.855854</td>\n",
              "      <td>51.836838</td>\n",
              "      <td>52.487488</td>\n",
              "      <td>52.487488</td>\n",
              "      <td>15247300</td>\n",
              "    </tr>\n",
              "    <tr>\n",
              "      <th>2004-08-25</th>\n",
              "      <td>52.532532</td>\n",
              "      <td>54.054054</td>\n",
              "      <td>51.991993</td>\n",
              "      <td>53.053055</td>\n",
              "      <td>53.053055</td>\n",
              "      <td>9188600</td>\n",
              "    </tr>\n",
              "  </tbody>\n",
              "</table>\n",
              "</div>"
            ],
            "text/plain": [
              "                 Open       High        Low      Close  Adj Close    Volume\n",
              "Date                                                                       \n",
              "2004-08-19  50.050049  52.082081  48.028027  50.220219  50.220219  44659000\n",
              "2004-08-20  50.555557  54.594593  50.300301  54.209209  54.209209  22834300\n",
              "2004-08-23  55.430431  56.796795  54.579578  54.754753  54.754753  18256100\n",
              "2004-08-24  55.675674  55.855854  51.836838  52.487488  52.487488  15247300\n",
              "2004-08-25  52.532532  54.054054  51.991993  53.053055  53.053055   9188600"
            ]
          },
          "metadata": {
            "tags": []
          },
          "execution_count": 5
        }
      ]
    },
    {
      "cell_type": "code",
      "metadata": {
        "colab": {
          "base_uri": "https://localhost:8080/"
        },
        "id": "7xOHF8P3DjK7",
        "outputId": "8cb95382-a642-4974-ff8a-b20c9b84deac"
      },
      "source": [
        "len(df)"
      ],
      "execution_count": 6,
      "outputs": [
        {
          "output_type": "execute_result",
          "data": {
            "text/plain": [
              "4041"
            ]
          },
          "metadata": {
            "tags": []
          },
          "execution_count": 6
        }
      ]
    },
    {
      "cell_type": "code",
      "metadata": {
        "colab": {
          "base_uri": "https://localhost:8080/"
        },
        "id": "3ejw28ZlDnNm",
        "outputId": "c018536c-e2e7-4358-e264-7f2f0d419d14"
      },
      "source": [
        "df.isna().sum()"
      ],
      "execution_count": 7,
      "outputs": [
        {
          "output_type": "execute_result",
          "data": {
            "text/plain": [
              "Open         0\n",
              "High         0\n",
              "Low          0\n",
              "Close        0\n",
              "Adj Close    0\n",
              "Volume       0\n",
              "dtype: int64"
            ]
          },
          "metadata": {
            "tags": []
          },
          "execution_count": 7
        }
      ]
    },
    {
      "cell_type": "code",
      "metadata": {
        "colab": {
          "base_uri": "https://localhost:8080/"
        },
        "id": "bR3q4AqXDqGe",
        "outputId": "d855d59b-9cfd-4254-d298-5f905954b538"
      },
      "source": [
        "df.info()"
      ],
      "execution_count": 8,
      "outputs": [
        {
          "output_type": "stream",
          "text": [
            "<class 'pandas.core.frame.DataFrame'>\n",
            "DatetimeIndex: 4041 entries, 2004-08-19 to 2020-09-04\n",
            "Data columns (total 6 columns):\n",
            " #   Column     Non-Null Count  Dtype  \n",
            "---  ------     --------------  -----  \n",
            " 0   Open       4041 non-null   float64\n",
            " 1   High       4041 non-null   float64\n",
            " 2   Low        4041 non-null   float64\n",
            " 3   Close      4041 non-null   float64\n",
            " 4   Adj Close  4041 non-null   float64\n",
            " 5   Volume     4041 non-null   int64  \n",
            "dtypes: float64(5), int64(1)\n",
            "memory usage: 221.0 KB\n"
          ],
          "name": "stdout"
        }
      ]
    },
    {
      "cell_type": "code",
      "metadata": {
        "colab": {
          "base_uri": "https://localhost:8080/",
          "height": 235
        },
        "id": "2tT3ccUVDs47",
        "outputId": "1ab0daf7-be63-4583-82c8-c0df4ed1a393"
      },
      "source": [
        "df.tail()"
      ],
      "execution_count": 9,
      "outputs": [
        {
          "output_type": "execute_result",
          "data": {
            "text/html": [
              "<div>\n",
              "<style scoped>\n",
              "    .dataframe tbody tr th:only-of-type {\n",
              "        vertical-align: middle;\n",
              "    }\n",
              "\n",
              "    .dataframe tbody tr th {\n",
              "        vertical-align: top;\n",
              "    }\n",
              "\n",
              "    .dataframe thead th {\n",
              "        text-align: right;\n",
              "    }\n",
              "</style>\n",
              "<table border=\"1\" class=\"dataframe\">\n",
              "  <thead>\n",
              "    <tr style=\"text-align: right;\">\n",
              "      <th></th>\n",
              "      <th>Open</th>\n",
              "      <th>High</th>\n",
              "      <th>Low</th>\n",
              "      <th>Close</th>\n",
              "      <th>Adj Close</th>\n",
              "      <th>Volume</th>\n",
              "    </tr>\n",
              "    <tr>\n",
              "      <th>Date</th>\n",
              "      <th></th>\n",
              "      <th></th>\n",
              "      <th></th>\n",
              "      <th></th>\n",
              "      <th></th>\n",
              "      <th></th>\n",
              "    </tr>\n",
              "  </thead>\n",
              "  <tbody>\n",
              "    <tr>\n",
              "      <th>2020-08-31</th>\n",
              "      <td>1643.569946</td>\n",
              "      <td>1644.500000</td>\n",
              "      <td>1625.329956</td>\n",
              "      <td>1629.530029</td>\n",
              "      <td>1629.530029</td>\n",
              "      <td>1321100</td>\n",
              "    </tr>\n",
              "    <tr>\n",
              "      <th>2020-09-01</th>\n",
              "      <td>1632.160034</td>\n",
              "      <td>1659.219971</td>\n",
              "      <td>1629.530029</td>\n",
              "      <td>1655.079956</td>\n",
              "      <td>1655.079956</td>\n",
              "      <td>1133800</td>\n",
              "    </tr>\n",
              "    <tr>\n",
              "      <th>2020-09-02</th>\n",
              "      <td>1668.010010</td>\n",
              "      <td>1726.099976</td>\n",
              "      <td>1660.189941</td>\n",
              "      <td>1717.390015</td>\n",
              "      <td>1717.390015</td>\n",
              "      <td>2476100</td>\n",
              "    </tr>\n",
              "    <tr>\n",
              "      <th>2020-09-03</th>\n",
              "      <td>1699.520020</td>\n",
              "      <td>1700.000000</td>\n",
              "      <td>1607.709961</td>\n",
              "      <td>1629.510010</td>\n",
              "      <td>1629.510010</td>\n",
              "      <td>3180200</td>\n",
              "    </tr>\n",
              "    <tr>\n",
              "      <th>2020-09-04</th>\n",
              "      <td>1609.000000</td>\n",
              "      <td>1634.989990</td>\n",
              "      <td>1537.970093</td>\n",
              "      <td>1581.209961</td>\n",
              "      <td>1581.209961</td>\n",
              "      <td>2792533</td>\n",
              "    </tr>\n",
              "  </tbody>\n",
              "</table>\n",
              "</div>"
            ],
            "text/plain": [
              "                   Open         High  ...    Adj Close   Volume\n",
              "Date                                  ...                      \n",
              "2020-08-31  1643.569946  1644.500000  ...  1629.530029  1321100\n",
              "2020-09-01  1632.160034  1659.219971  ...  1655.079956  1133800\n",
              "2020-09-02  1668.010010  1726.099976  ...  1717.390015  2476100\n",
              "2020-09-03  1699.520020  1700.000000  ...  1629.510010  3180200\n",
              "2020-09-04  1609.000000  1634.989990  ...  1581.209961  2792533\n",
              "\n",
              "[5 rows x 6 columns]"
            ]
          },
          "metadata": {
            "tags": []
          },
          "execution_count": 9
        }
      ]
    },
    {
      "cell_type": "code",
      "metadata": {
        "id": "7d3LCYeFDwRS"
      },
      "source": [
        "df['last_close'] = df['Close'].shift(1)"
      ],
      "execution_count": 10,
      "outputs": []
    },
    {
      "cell_type": "code",
      "metadata": {
        "colab": {
          "base_uri": "https://localhost:8080/",
          "height": 235
        },
        "id": "pTqpjoPnD6pQ",
        "outputId": "3205ab95-d301-4fef-e36a-8d2455a66625"
      },
      "source": [
        "df.head()"
      ],
      "execution_count": 11,
      "outputs": [
        {
          "output_type": "execute_result",
          "data": {
            "text/html": [
              "<div>\n",
              "<style scoped>\n",
              "    .dataframe tbody tr th:only-of-type {\n",
              "        vertical-align: middle;\n",
              "    }\n",
              "\n",
              "    .dataframe tbody tr th {\n",
              "        vertical-align: top;\n",
              "    }\n",
              "\n",
              "    .dataframe thead th {\n",
              "        text-align: right;\n",
              "    }\n",
              "</style>\n",
              "<table border=\"1\" class=\"dataframe\">\n",
              "  <thead>\n",
              "    <tr style=\"text-align: right;\">\n",
              "      <th></th>\n",
              "      <th>Open</th>\n",
              "      <th>High</th>\n",
              "      <th>Low</th>\n",
              "      <th>Close</th>\n",
              "      <th>Adj Close</th>\n",
              "      <th>Volume</th>\n",
              "      <th>last_close</th>\n",
              "    </tr>\n",
              "    <tr>\n",
              "      <th>Date</th>\n",
              "      <th></th>\n",
              "      <th></th>\n",
              "      <th></th>\n",
              "      <th></th>\n",
              "      <th></th>\n",
              "      <th></th>\n",
              "      <th></th>\n",
              "    </tr>\n",
              "  </thead>\n",
              "  <tbody>\n",
              "    <tr>\n",
              "      <th>2004-08-19</th>\n",
              "      <td>50.050049</td>\n",
              "      <td>52.082081</td>\n",
              "      <td>48.028027</td>\n",
              "      <td>50.220219</td>\n",
              "      <td>50.220219</td>\n",
              "      <td>44659000</td>\n",
              "      <td>NaN</td>\n",
              "    </tr>\n",
              "    <tr>\n",
              "      <th>2004-08-20</th>\n",
              "      <td>50.555557</td>\n",
              "      <td>54.594593</td>\n",
              "      <td>50.300301</td>\n",
              "      <td>54.209209</td>\n",
              "      <td>54.209209</td>\n",
              "      <td>22834300</td>\n",
              "      <td>50.220219</td>\n",
              "    </tr>\n",
              "    <tr>\n",
              "      <th>2004-08-23</th>\n",
              "      <td>55.430431</td>\n",
              "      <td>56.796795</td>\n",
              "      <td>54.579578</td>\n",
              "      <td>54.754753</td>\n",
              "      <td>54.754753</td>\n",
              "      <td>18256100</td>\n",
              "      <td>54.209209</td>\n",
              "    </tr>\n",
              "    <tr>\n",
              "      <th>2004-08-24</th>\n",
              "      <td>55.675674</td>\n",
              "      <td>55.855854</td>\n",
              "      <td>51.836838</td>\n",
              "      <td>52.487488</td>\n",
              "      <td>52.487488</td>\n",
              "      <td>15247300</td>\n",
              "      <td>54.754753</td>\n",
              "    </tr>\n",
              "    <tr>\n",
              "      <th>2004-08-25</th>\n",
              "      <td>52.532532</td>\n",
              "      <td>54.054054</td>\n",
              "      <td>51.991993</td>\n",
              "      <td>53.053055</td>\n",
              "      <td>53.053055</td>\n",
              "      <td>9188600</td>\n",
              "      <td>52.487488</td>\n",
              "    </tr>\n",
              "  </tbody>\n",
              "</table>\n",
              "</div>"
            ],
            "text/plain": [
              "                 Open       High        Low  ...  Adj Close    Volume  last_close\n",
              "Date                                         ...                                 \n",
              "2004-08-19  50.050049  52.082081  48.028027  ...  50.220219  44659000         NaN\n",
              "2004-08-20  50.555557  54.594593  50.300301  ...  54.209209  22834300   50.220219\n",
              "2004-08-23  55.430431  56.796795  54.579578  ...  54.754753  18256100   54.209209\n",
              "2004-08-24  55.675674  55.855854  51.836838  ...  52.487488  15247300   54.754753\n",
              "2004-08-25  52.532532  54.054054  51.991993  ...  53.053055   9188600   52.487488\n",
              "\n",
              "[5 rows x 7 columns]"
            ]
          },
          "metadata": {
            "tags": []
          },
          "execution_count": 11
        }
      ]
    },
    {
      "cell_type": "code",
      "metadata": {
        "id": "clCI8Pj0D_eF"
      },
      "source": [
        " df['return'] = (df['Close'] - df['last_close']) / df['last_close']"
      ],
      "execution_count": 12,
      "outputs": []
    },
    {
      "cell_type": "code",
      "metadata": {
        "colab": {
          "base_uri": "https://localhost:8080/",
          "height": 235
        },
        "id": "DNl2b-wsEG3Z",
        "outputId": "b7100bf8-264b-4263-dded-bac2801509e9"
      },
      "source": [
        "df.head()"
      ],
      "execution_count": 13,
      "outputs": [
        {
          "output_type": "execute_result",
          "data": {
            "text/html": [
              "<div>\n",
              "<style scoped>\n",
              "    .dataframe tbody tr th:only-of-type {\n",
              "        vertical-align: middle;\n",
              "    }\n",
              "\n",
              "    .dataframe tbody tr th {\n",
              "        vertical-align: top;\n",
              "    }\n",
              "\n",
              "    .dataframe thead th {\n",
              "        text-align: right;\n",
              "    }\n",
              "</style>\n",
              "<table border=\"1\" class=\"dataframe\">\n",
              "  <thead>\n",
              "    <tr style=\"text-align: right;\">\n",
              "      <th></th>\n",
              "      <th>Open</th>\n",
              "      <th>High</th>\n",
              "      <th>Low</th>\n",
              "      <th>Close</th>\n",
              "      <th>Adj Close</th>\n",
              "      <th>Volume</th>\n",
              "      <th>last_close</th>\n",
              "      <th>return</th>\n",
              "    </tr>\n",
              "    <tr>\n",
              "      <th>Date</th>\n",
              "      <th></th>\n",
              "      <th></th>\n",
              "      <th></th>\n",
              "      <th></th>\n",
              "      <th></th>\n",
              "      <th></th>\n",
              "      <th></th>\n",
              "      <th></th>\n",
              "    </tr>\n",
              "  </thead>\n",
              "  <tbody>\n",
              "    <tr>\n",
              "      <th>2004-08-19</th>\n",
              "      <td>50.050049</td>\n",
              "      <td>52.082081</td>\n",
              "      <td>48.028027</td>\n",
              "      <td>50.220219</td>\n",
              "      <td>50.220219</td>\n",
              "      <td>44659000</td>\n",
              "      <td>NaN</td>\n",
              "      <td>NaN</td>\n",
              "    </tr>\n",
              "    <tr>\n",
              "      <th>2004-08-20</th>\n",
              "      <td>50.555557</td>\n",
              "      <td>54.594593</td>\n",
              "      <td>50.300301</td>\n",
              "      <td>54.209209</td>\n",
              "      <td>54.209209</td>\n",
              "      <td>22834300</td>\n",
              "      <td>50.220219</td>\n",
              "      <td>0.079430</td>\n",
              "    </tr>\n",
              "    <tr>\n",
              "      <th>2004-08-23</th>\n",
              "      <td>55.430431</td>\n",
              "      <td>56.796795</td>\n",
              "      <td>54.579578</td>\n",
              "      <td>54.754753</td>\n",
              "      <td>54.754753</td>\n",
              "      <td>18256100</td>\n",
              "      <td>54.209209</td>\n",
              "      <td>0.010064</td>\n",
              "    </tr>\n",
              "    <tr>\n",
              "      <th>2004-08-24</th>\n",
              "      <td>55.675674</td>\n",
              "      <td>55.855854</td>\n",
              "      <td>51.836838</td>\n",
              "      <td>52.487488</td>\n",
              "      <td>52.487488</td>\n",
              "      <td>15247300</td>\n",
              "      <td>54.754753</td>\n",
              "      <td>-0.041408</td>\n",
              "    </tr>\n",
              "    <tr>\n",
              "      <th>2004-08-25</th>\n",
              "      <td>52.532532</td>\n",
              "      <td>54.054054</td>\n",
              "      <td>51.991993</td>\n",
              "      <td>53.053055</td>\n",
              "      <td>53.053055</td>\n",
              "      <td>9188600</td>\n",
              "      <td>52.487488</td>\n",
              "      <td>0.010775</td>\n",
              "    </tr>\n",
              "  </tbody>\n",
              "</table>\n",
              "</div>"
            ],
            "text/plain": [
              "                 Open       High        Low  ...    Volume  last_close    return\n",
              "Date                                         ...                                \n",
              "2004-08-19  50.050049  52.082081  48.028027  ...  44659000         NaN       NaN\n",
              "2004-08-20  50.555557  54.594593  50.300301  ...  22834300   50.220219  0.079430\n",
              "2004-08-23  55.430431  56.796795  54.579578  ...  18256100   54.209209  0.010064\n",
              "2004-08-24  55.675674  55.855854  51.836838  ...  15247300   54.754753 -0.041408\n",
              "2004-08-25  52.532532  54.054054  51.991993  ...   9188600   52.487488  0.010775\n",
              "\n",
              "[5 rows x 8 columns]"
            ]
          },
          "metadata": {
            "tags": []
          },
          "execution_count": 13
        }
      ]
    },
    {
      "cell_type": "code",
      "metadata": {
        "colab": {
          "base_uri": "https://localhost:8080/",
          "height": 282
        },
        "id": "vf5d_OH3EQRC",
        "outputId": "3aace12c-8d67-4655-8133-28b2b78dea32"
      },
      "source": [
        "df['return'].hist()"
      ],
      "execution_count": 14,
      "outputs": [
        {
          "output_type": "execute_result",
          "data": {
            "text/plain": [
              "<matplotlib.axes._subplots.AxesSubplot at 0x7f77d3f27c10>"
            ]
          },
          "metadata": {
            "tags": []
          },
          "execution_count": 14
        },
        {
          "output_type": "display_data",
          "data": {
            "image/png": "[encoded data removed]",
            "text/plain": [
              "<Figure size 432x288 with 1 Axes>"
            ]
          },
          "metadata": {
            "tags": [],
            "needs_background": "light"
          }
        }
      ]
    },
    {
      "cell_type": "code",
      "metadata": {
        "id": "LFdwRJIsEVr1"
      },
      "source": [
        "df.drop([ 'Open', 'High', 'Low', 'Close', 'Adj Close', 'Volume',\n",
        "       'last_close'], axis=1,inplace=True)"
      ],
      "execution_count": 15,
      "outputs": []
    },
    {
      "cell_type": "code",
      "metadata": {
        "colab": {
          "base_uri": "https://localhost:8080/",
          "height": 235
        },
        "id": "RHUgDV3DEs3s",
        "outputId": "b9ccd93e-27e9-4e68-eac6-60e1ebe5e51d"
      },
      "source": [
        "df.head()"
      ],
      "execution_count": 16,
      "outputs": [
        {
          "output_type": "execute_result",
          "data": {
            "text/html": [
              "<div>\n",
              "<style scoped>\n",
              "    .dataframe tbody tr th:only-of-type {\n",
              "        vertical-align: middle;\n",
              "    }\n",
              "\n",
              "    .dataframe tbody tr th {\n",
              "        vertical-align: top;\n",
              "    }\n",
              "\n",
              "    .dataframe thead th {\n",
              "        text-align: right;\n",
              "    }\n",
              "</style>\n",
              "<table border=\"1\" class=\"dataframe\">\n",
              "  <thead>\n",
              "    <tr style=\"text-align: right;\">\n",
              "      <th></th>\n",
              "      <th>return</th>\n",
              "    </tr>\n",
              "    <tr>\n",
              "      <th>Date</th>\n",
              "      <th></th>\n",
              "    </tr>\n",
              "  </thead>\n",
              "  <tbody>\n",
              "    <tr>\n",
              "      <th>2004-08-19</th>\n",
              "      <td>NaN</td>\n",
              "    </tr>\n",
              "    <tr>\n",
              "      <th>2004-08-20</th>\n",
              "      <td>0.079430</td>\n",
              "    </tr>\n",
              "    <tr>\n",
              "      <th>2004-08-23</th>\n",
              "      <td>0.010064</td>\n",
              "    </tr>\n",
              "    <tr>\n",
              "      <th>2004-08-24</th>\n",
              "      <td>-0.041408</td>\n",
              "    </tr>\n",
              "    <tr>\n",
              "      <th>2004-08-25</th>\n",
              "      <td>0.010775</td>\n",
              "    </tr>\n",
              "  </tbody>\n",
              "</table>\n",
              "</div>"
            ],
            "text/plain": [
              "              return\n",
              "Date                \n",
              "2004-08-19       NaN\n",
              "2004-08-20  0.079430\n",
              "2004-08-23  0.010064\n",
              "2004-08-24 -0.041408\n",
              "2004-08-25  0.010775"
            ]
          },
          "metadata": {
            "tags": []
          },
          "execution_count": 16
        }
      ]
    },
    {
      "cell_type": "code",
      "metadata": {
        "id": "XGXRcNWyEyE_"
      },
      "source": [
        "df = df[1:]"
      ],
      "execution_count": 17,
      "outputs": []
    },
    {
      "cell_type": "code",
      "metadata": {
        "colab": {
          "base_uri": "https://localhost:8080/",
          "height": 235
        },
        "id": "S-A0LqMFE5Cg",
        "outputId": "2c584558-04ed-49fa-f8dc-12728897d637"
      },
      "source": [
        "df.head()"
      ],
      "execution_count": 18,
      "outputs": [
        {
          "output_type": "execute_result",
          "data": {
            "text/html": [
              "<div>\n",
              "<style scoped>\n",
              "    .dataframe tbody tr th:only-of-type {\n",
              "        vertical-align: middle;\n",
              "    }\n",
              "\n",
              "    .dataframe tbody tr th {\n",
              "        vertical-align: top;\n",
              "    }\n",
              "\n",
              "    .dataframe thead th {\n",
              "        text-align: right;\n",
              "    }\n",
              "</style>\n",
              "<table border=\"1\" class=\"dataframe\">\n",
              "  <thead>\n",
              "    <tr style=\"text-align: right;\">\n",
              "      <th></th>\n",
              "      <th>return</th>\n",
              "    </tr>\n",
              "    <tr>\n",
              "      <th>Date</th>\n",
              "      <th></th>\n",
              "    </tr>\n",
              "  </thead>\n",
              "  <tbody>\n",
              "    <tr>\n",
              "      <th>2004-08-20</th>\n",
              "      <td>0.079430</td>\n",
              "    </tr>\n",
              "    <tr>\n",
              "      <th>2004-08-23</th>\n",
              "      <td>0.010064</td>\n",
              "    </tr>\n",
              "    <tr>\n",
              "      <th>2004-08-24</th>\n",
              "      <td>-0.041408</td>\n",
              "    </tr>\n",
              "    <tr>\n",
              "      <th>2004-08-25</th>\n",
              "      <td>0.010775</td>\n",
              "    </tr>\n",
              "    <tr>\n",
              "      <th>2004-08-26</th>\n",
              "      <td>0.018019</td>\n",
              "    </tr>\n",
              "  </tbody>\n",
              "</table>\n",
              "</div>"
            ],
            "text/plain": [
              "              return\n",
              "Date                \n",
              "2004-08-20  0.079430\n",
              "2004-08-23  0.010064\n",
              "2004-08-24 -0.041408\n",
              "2004-08-25  0.010775\n",
              "2004-08-26  0.018019"
            ]
          },
          "metadata": {
            "tags": []
          },
          "execution_count": 18
        }
      ]
    },
    {
      "cell_type": "code",
      "metadata": {
        "colab": {
          "base_uri": "https://localhost:8080/",
          "height": 482
        },
        "id": "TBVJG2TOE7ME",
        "outputId": "011a6f1c-7c00-40a9-eb0a-fa01b883b33b"
      },
      "source": [
        "df.plot(figsize = (12,8))"
      ],
      "execution_count": 19,
      "outputs": [
        {
          "output_type": "execute_result",
          "data": {
            "text/plain": [
              "<matplotlib.axes._subplots.AxesSubplot at 0x7f77d2b9f050>"
            ]
          },
          "metadata": {
            "tags": []
          },
          "execution_count": 19
        },
        {
          "output_type": "display_data",
          "data": {
            "image/png": "[encoded data removed]",
            "text/plain": [
              "<Figure size 864x576 with 1 Axes>"
            ]
          },
          "metadata": {
            "tags": [],
            "needs_background": "light"
          }
        }
      ]
    },
    {
      "cell_type": "code",
      "metadata": {
        "colab": {
          "base_uri": "https://localhost:8080/"
        },
        "id": "0A-uSQAmwWbz",
        "outputId": "1965862d-ba1d-4d5c-b019-b39374779aa3"
      },
      "source": [
        "len(df)"
      ],
      "execution_count": 20,
      "outputs": [
        {
          "output_type": "execute_result",
          "data": {
            "text/plain": [
              "4040"
            ]
          },
          "metadata": {
            "tags": []
          },
          "execution_count": 20
        }
      ]
    },
    {
      "cell_type": "markdown",
      "metadata": {
        "id": "3lTa-0i2FeBV"
      },
      "source": [
        "## **train test split**"
      ]
    },
    {
      "cell_type": "code",
      "metadata": {
        "id": "c8yfToboFTBj"
      },
      "source": [
        "test_size = 172"
      ],
      "execution_count": 21,
      "outputs": []
    },
    {
      "cell_type": "code",
      "metadata": {
        "id": "QXpr6BSfFhYD"
      },
      "source": [
        "test_ind = len(df)- test_size"
      ],
      "execution_count": 22,
      "outputs": []
    },
    {
      "cell_type": "code",
      "metadata": {
        "id": "lOHzJOLiFj1F"
      },
      "source": [
        "train = df.iloc[:test_ind]\n",
        "test = df.iloc[test_ind:]"
      ],
      "execution_count": 23,
      "outputs": []
    },
    {
      "cell_type": "code",
      "metadata": {
        "colab": {
          "base_uri": "https://localhost:8080/",
          "height": 235
        },
        "id": "3B5aulbOFnxz",
        "outputId": "e16b99da-e827-4128-f01a-480c644ee946"
      },
      "source": [
        "train.head()"
      ],
      "execution_count": 24,
      "outputs": [
        {
          "output_type": "execute_result",
          "data": {
            "text/html": [
              "<div>\n",
              "<style scoped>\n",
              "    .dataframe tbody tr th:only-of-type {\n",
              "        vertical-align: middle;\n",
              "    }\n",
              "\n",
              "    .dataframe tbody tr th {\n",
              "        vertical-align: top;\n",
              "    }\n",
              "\n",
              "    .dataframe thead th {\n",
              "        text-align: right;\n",
              "    }\n",
              "</style>\n",
              "<table border=\"1\" class=\"dataframe\">\n",
              "  <thead>\n",
              "    <tr style=\"text-align: right;\">\n",
              "      <th></th>\n",
              "      <th>return</th>\n",
              "    </tr>\n",
              "    <tr>\n",
              "      <th>Date</th>\n",
              "      <th></th>\n",
              "    </tr>\n",
              "  </thead>\n",
              "  <tbody>\n",
              "    <tr>\n",
              "      <th>2004-08-20</th>\n",
              "      <td>0.079430</td>\n",
              "    </tr>\n",
              "    <tr>\n",
              "      <th>2004-08-23</th>\n",
              "      <td>0.010064</td>\n",
              "    </tr>\n",
              "    <tr>\n",
              "      <th>2004-08-24</th>\n",
              "      <td>-0.041408</td>\n",
              "    </tr>\n",
              "    <tr>\n",
              "      <th>2004-08-25</th>\n",
              "      <td>0.010775</td>\n",
              "    </tr>\n",
              "    <tr>\n",
              "      <th>2004-08-26</th>\n",
              "      <td>0.018019</td>\n",
              "    </tr>\n",
              "  </tbody>\n",
              "</table>\n",
              "</div>"
            ],
            "text/plain": [
              "              return\n",
              "Date                \n",
              "2004-08-20  0.079430\n",
              "2004-08-23  0.010064\n",
              "2004-08-24 -0.041408\n",
              "2004-08-25  0.010775\n",
              "2004-08-26  0.018019"
            ]
          },
          "metadata": {
            "tags": []
          },
          "execution_count": 24
        }
      ]
    },
    {
      "cell_type": "code",
      "metadata": {
        "colab": {
          "base_uri": "https://localhost:8080/",
          "height": 235
        },
        "id": "79ikkFRxFrEv",
        "outputId": "53db4b43-0f50-49e2-e95d-8ddd34a48a07"
      },
      "source": [
        "test.head()"
      ],
      "execution_count": 25,
      "outputs": [
        {
          "output_type": "execute_result",
          "data": {
            "text/html": [
              "<div>\n",
              "<style scoped>\n",
              "    .dataframe tbody tr th:only-of-type {\n",
              "        vertical-align: middle;\n",
              "    }\n",
              "\n",
              "    .dataframe tbody tr th {\n",
              "        vertical-align: top;\n",
              "    }\n",
              "\n",
              "    .dataframe thead th {\n",
              "        text-align: right;\n",
              "    }\n",
              "</style>\n",
              "<table border=\"1\" class=\"dataframe\">\n",
              "  <thead>\n",
              "    <tr style=\"text-align: right;\">\n",
              "      <th></th>\n",
              "      <th>return</th>\n",
              "    </tr>\n",
              "    <tr>\n",
              "      <th>Date</th>\n",
              "      <th></th>\n",
              "    </tr>\n",
              "  </thead>\n",
              "  <tbody>\n",
              "    <tr>\n",
              "      <th>2020-01-02</th>\n",
              "      <td>0.021868</td>\n",
              "    </tr>\n",
              "    <tr>\n",
              "      <th>2020-01-03</th>\n",
              "      <td>-0.005231</td>\n",
              "    </tr>\n",
              "    <tr>\n",
              "      <th>2020-01-06</th>\n",
              "      <td>0.026654</td>\n",
              "    </tr>\n",
              "    <tr>\n",
              "      <th>2020-01-07</th>\n",
              "      <td>-0.001932</td>\n",
              "    </tr>\n",
              "    <tr>\n",
              "      <th>2020-01-08</th>\n",
              "      <td>0.007118</td>\n",
              "    </tr>\n",
              "  </tbody>\n",
              "</table>\n",
              "</div>"
            ],
            "text/plain": [
              "              return\n",
              "Date                \n",
              "2020-01-02  0.021868\n",
              "2020-01-03 -0.005231\n",
              "2020-01-06  0.026654\n",
              "2020-01-07 -0.001932\n",
              "2020-01-08  0.007118"
            ]
          },
          "metadata": {
            "tags": []
          },
          "execution_count": 25
        }
      ]
    },
    {
      "cell_type": "code",
      "metadata": {
        "colab": {
          "base_uri": "https://localhost:8080/"
        },
        "id": "iJwywZbhFsYk",
        "outputId": "f0edf689-46ae-49a4-c793-1810b665d730"
      },
      "source": [
        "len(train)"
      ],
      "execution_count": 26,
      "outputs": [
        {
          "output_type": "execute_result",
          "data": {
            "text/plain": [
              "3868"
            ]
          },
          "metadata": {
            "tags": []
          },
          "execution_count": 26
        }
      ]
    },
    {
      "cell_type": "code",
      "metadata": {
        "colab": {
          "base_uri": "https://localhost:8080/"
        },
        "id": "NUmJCKO-FvWM",
        "outputId": "cf5164c9-8156-4c81-9a91-9c77b8c67af9"
      },
      "source": [
        "len(test)"
      ],
      "execution_count": 27,
      "outputs": [
        {
          "output_type": "execute_result",
          "data": {
            "text/plain": [
              "172"
            ]
          },
          "metadata": {
            "tags": []
          },
          "execution_count": 27
        }
      ]
    },
    {
      "cell_type": "markdown",
      "metadata": {
        "id": "lfz_fJ6GF2GA"
      },
      "source": [
        "## **scaling data**"
      ]
    },
    {
      "cell_type": "code",
      "metadata": {
        "id": "ntfpMHJoFwib"
      },
      "source": [
        "from sklearn.preprocessing import MinMaxScaler"
      ],
      "execution_count": 28,
      "outputs": []
    },
    {
      "cell_type": "code",
      "metadata": {
        "id": "lsmrpHevF58m"
      },
      "source": [
        "scaler = MinMaxScaler()"
      ],
      "execution_count": 29,
      "outputs": []
    },
    {
      "cell_type": "code",
      "metadata": {
        "id": "l4JFKjOYF7ws"
      },
      "source": [
        "scaled_train = scaler.fit_transform(train)\n"
      ],
      "execution_count": 30,
      "outputs": []
    },
    {
      "cell_type": "code",
      "metadata": {
        "colab": {
          "base_uri": "https://localhost:8080/"
        },
        "id": "fKTkjO3eF912",
        "outputId": "112ec75f-de32-498b-e0e2-0470ed79629b"
      },
      "source": [
        "scaled_train"
      ],
      "execution_count": 31,
      "outputs": [
        {
          "output_type": "execute_result",
          "data": {
            "text/plain": [
              "array([[0.61872492],\n",
              "       [0.39921608],\n",
              "       [0.23633566],\n",
              "       ...,\n",
              "       [0.34918373],\n",
              "       [0.33249252],\n",
              "       [0.36661394]])"
            ]
          },
          "metadata": {
            "tags": []
          },
          "execution_count": 31
        }
      ]
    },
    {
      "cell_type": "code",
      "metadata": {
        "colab": {
          "base_uri": "https://localhost:8080/"
        },
        "id": "_ZZ_vuIJGBO0",
        "outputId": "6ae34978-9594-4d08-a260-10ce5983b85d"
      },
      "source": [
        "scaled_train.shape\n"
      ],
      "execution_count": 32,
      "outputs": [
        {
          "output_type": "execute_result",
          "data": {
            "text/plain": [
              "(3868, 1)"
            ]
          },
          "metadata": {
            "tags": []
          },
          "execution_count": 32
        }
      ]
    },
    {
      "cell_type": "code",
      "metadata": {
        "id": "nwsd-xpFGGhu"
      },
      "source": [
        "scaled_test = scaler.transform(test)"
      ],
      "execution_count": 33,
      "outputs": []
    },
    {
      "cell_type": "code",
      "metadata": {
        "colab": {
          "base_uri": "https://localhost:8080/"
        },
        "id": "Mfu8You7GI3D",
        "outputId": "1e89f365-2ebb-4881-e5a8-cebc625c38c9"
      },
      "source": [
        "scaled_test"
      ],
      "execution_count": 34,
      "outputs": [
        {
          "output_type": "execute_result",
          "data": {
            "text/plain": [
              "array([[ 0.43657133],\n",
              "       [ 0.35081515],\n",
              "       [ 0.45171616],\n",
              "       [ 0.36125701],\n",
              "       [ 0.38989374],\n",
              "       [ 0.40059024],\n",
              "       [ 0.38780799],\n",
              "       [ 0.39188479],\n",
              "       [ 0.34662499],\n",
              "       [ 0.38641511],\n",
              "       [ 0.39146853],\n",
              "       [ 0.43143802],\n",
              "       [ 0.37320873],\n",
              "       [ 0.37082824],\n",
              "       [ 0.36911829],\n",
              "       [ 0.32789611],\n",
              "       [ 0.29303641],\n",
              "       [ 0.40885622],\n",
              "       [ 0.38089583],\n",
              "       [ 0.36204748],\n",
              "       [ 0.32065042],\n",
              "       [ 0.47740379],\n",
              "       [ 0.28799077],\n",
              "       [ 0.36877089],\n",
              "       [ 0.43284546],\n",
              "       [ 0.37410189],\n",
              "       [ 0.43059067],\n",
              "       [ 0.3703063 ],\n",
              "       [ 0.3853289 ],\n",
              "       [ 0.3564507 ],\n",
              "       [ 0.37853551],\n",
              "       [ 0.36884898],\n",
              "       [ 0.37867868],\n",
              "       [ 0.35101668],\n",
              "       [ 0.29742498],\n",
              "       [ 0.2316994 ],\n",
              "       [ 0.29261788],\n",
              "       [ 0.37684275],\n",
              "       [ 0.1954981 ],\n",
              "       [ 0.42584889],\n",
              "       [ 0.47859038],\n",
              "       [ 0.25643274],\n",
              "       [ 0.47117152],\n",
              "       [ 0.21427592],\n",
              "       [ 0.32159049],\n",
              "       [ 0.17211388],\n",
              "       [ 0.52192546],\n",
              "       [ 0.20787583],\n",
              "       [ 0.10773478],\n",
              "       [ 0.65980475],\n",
              "       [-0.00079179],\n",
              "       [ 0.5002607 ],\n",
              "       [ 0.29131813],\n",
              "       [ 0.42676269],\n",
              "       [ 0.24365585],\n",
              "       [ 0.3256589 ],\n",
              "       [ 0.59516079],\n",
              "       [ 0.28786605],\n",
              "       [ 0.54345883],\n",
              "       [ 0.22407341],\n",
              "       [ 0.47012037],\n",
              "       [ 0.41054497],\n",
              "       [ 0.20437248],\n",
              "       [ 0.41023874],\n",
              "       [ 0.29844381],\n",
              "       [ 0.62943117],\n",
              "       [ 0.36568503],\n",
              "       [ 0.4327701 ],\n",
              "       [ 0.36624217],\n",
              "       [ 0.37744113],\n",
              "       [ 0.51069063],\n",
              "       [ 0.34753599],\n",
              "       [ 0.36769689],\n",
              "       [ 0.4216533 ],\n",
              "       [ 0.32320545],\n",
              "       [ 0.24444355],\n",
              "       [ 0.48811085],\n",
              "       [ 0.39945692],\n",
              "       [ 0.38088711],\n",
              "       [ 0.35314115],\n",
              "       [ 0.2720759 ],\n",
              "       [ 0.64872572],\n",
              "       [ 0.37802634],\n",
              "       [ 0.29833225],\n",
              "       [ 0.38077424],\n",
              "       [ 0.42985092],\n",
              "       [ 0.35894845],\n",
              "       [ 0.42346548],\n",
              "       [ 0.4021741 ],\n",
              "       [ 0.41137362],\n",
              "       [ 0.3033176 ],\n",
              "       [ 0.3055837 ],\n",
              "       [ 0.38738939],\n",
              "       [ 0.40515173],\n",
              "       [ 0.39530261],\n",
              "       [ 0.34274235],\n",
              "       [ 0.44740291],\n",
              "       [ 0.36195757],\n",
              "       [ 0.38196893],\n",
              "       [ 0.38557417],\n",
              "       [ 0.36494302],\n",
              "       [ 0.36282432],\n",
              "       [ 0.40146369],\n",
              "       [ 0.37034974],\n",
              "       [ 0.38377813],\n",
              "       [ 0.36065578],\n",
              "       [ 0.31251205],\n",
              "       [ 0.42491798],\n",
              "       [ 0.38499392],\n",
              "       [ 0.37619835],\n",
              "       [ 0.39487218],\n",
              "       [ 0.23169023],\n",
              "       [ 0.39224501],\n",
              "       [ 0.38488386],\n",
              "       [ 0.42467942],\n",
              "       [ 0.38064936],\n",
              "       [ 0.32723996],\n",
              "       [ 0.34645142],\n",
              "       [ 0.42516678],\n",
              "       [ 0.39642598],\n",
              "       [ 0.29975584],\n",
              "       [ 0.38592331],\n",
              "       [ 0.19486113],\n",
              "       [ 0.44779761],\n",
              "       [ 0.41466138],\n",
              "       [ 0.42081586],\n",
              "       [ 0.42866257],\n",
              "       [ 0.43135131],\n",
              "       [ 0.34683794],\n",
              "       [ 0.39642492],\n",
              "       [ 0.3990652 ],\n",
              "       [ 0.40977369],\n",
              "       [ 0.31230499],\n",
              "       [ 0.38542881],\n",
              "       [ 0.35908844],\n",
              "       [ 0.36328084],\n",
              "       [ 0.37140108],\n",
              "       [ 0.46540133],\n",
              "       [ 0.35134342],\n",
              "       [ 0.38553171],\n",
              "       [ 0.27010039],\n",
              "       [ 0.34955207],\n",
              "       [ 0.41189316],\n",
              "       [ 0.31402914],\n",
              "       [ 0.40916578],\n",
              "       [ 0.39823542],\n",
              "       [ 0.26365362],\n",
              "       [ 0.356332  ],\n",
              "       [ 0.34718034],\n",
              "       [ 0.37980579],\n",
              "       [ 0.4226967 ],\n",
              "       [ 0.35353387],\n",
              "       [ 0.36409605],\n",
              "       [ 0.33295165],\n",
              "       [ 0.42443784],\n",
              "       [ 0.38712629],\n",
              "       [ 0.34228992],\n",
              "       [ 0.39178742],\n",
              "       [ 0.44989225],\n",
              "       [ 0.34464958],\n",
              "       [ 0.43219153],\n",
              "       [ 0.3660044 ],\n",
              "       [ 0.386611  ],\n",
              "       [ 0.4086937 ],\n",
              "       [ 0.44280433],\n",
              "       [ 0.33732484],\n",
              "       [ 0.38856971],\n",
              "       [ 0.34826028],\n",
              "       [ 0.41698672],\n",
              "       [ 0.48650561],\n",
              "       [ 0.20544064],\n",
              "       [ 0.27357156]])"
            ]
          },
          "metadata": {
            "tags": []
          },
          "execution_count": 34
        }
      ]
    },
    {
      "cell_type": "code",
      "metadata": {
        "colab": {
          "base_uri": "https://localhost:8080/"
        },
        "id": "PQ7cMyUpGLB3",
        "outputId": "4909eea1-d107-487c-87db-88b5fbc3169e"
      },
      "source": [
        "scaled_test.shape"
      ],
      "execution_count": 35,
      "outputs": [
        {
          "output_type": "execute_result",
          "data": {
            "text/plain": [
              "(172, 1)"
            ]
          },
          "metadata": {
            "tags": []
          },
          "execution_count": 35
        }
      ]
    },
    {
      "cell_type": "markdown",
      "metadata": {
        "id": "lqH9JnMwGRM2"
      },
      "source": [
        "## **Time series Generator**"
      ]
    },
    {
      "cell_type": "code",
      "metadata": {
        "id": "DIdnfx4NGMvk"
      },
      "source": [
        "from tensorflow.keras.preprocessing.sequence import TimeseriesGenerator"
      ],
      "execution_count": 36,
      "outputs": []
    },
    {
      "cell_type": "code",
      "metadata": {
        "id": "SzbnwTBgGX-q"
      },
      "source": [
        "length = 10"
      ],
      "execution_count": 37,
      "outputs": []
    },
    {
      "cell_type": "code",
      "metadata": {
        "id": "Mk016M_bGbqd"
      },
      "source": [
        "generator = TimeseriesGenerator(scaled_train, scaled_train, length = length, batch_size = 1)"
      ],
      "execution_count": 38,
      "outputs": []
    },
    {
      "cell_type": "code",
      "metadata": {
        "colab": {
          "base_uri": "https://localhost:8080/"
        },
        "id": "KQZFu71kGhAc",
        "outputId": "304410ee-d1f8-492b-d1be-62fcfec62a53"
      },
      "source": [
        "len(generator)"
      ],
      "execution_count": 39,
      "outputs": [
        {
          "output_type": "execute_result",
          "data": {
            "text/plain": [
              "3858"
            ]
          },
          "metadata": {
            "tags": []
          },
          "execution_count": 39
        }
      ]
    },
    {
      "cell_type": "code",
      "metadata": {
        "colab": {
          "base_uri": "https://localhost:8080/"
        },
        "id": "hQLfVBl4Gj07",
        "outputId": "5a89f07f-1a35-4065-8823-6648b7de43ae"
      },
      "source": [
        "len(scaled_train)"
      ],
      "execution_count": 40,
      "outputs": [
        {
          "output_type": "execute_result",
          "data": {
            "text/plain": [
              "3868"
            ]
          },
          "metadata": {
            "tags": []
          },
          "execution_count": 40
        }
      ]
    },
    {
      "cell_type": "markdown",
      "metadata": {
        "id": "SXS-Xg_kGspD"
      },
      "source": [
        "## **Model**"
      ]
    },
    {
      "cell_type": "code",
      "metadata": {
        "id": "s0dfF5FPGlPg"
      },
      "source": [
        "from tensorflow.keras.models import Sequential"
      ],
      "execution_count": 41,
      "outputs": []
    },
    {
      "cell_type": "code",
      "metadata": {
        "id": "mBRdWKy6GwPS"
      },
      "source": [
        "from tensorflow.keras.layers import Dense, LSTM"
      ],
      "execution_count": 42,
      "outputs": []
    },
    {
      "cell_type": "code",
      "metadata": {
        "id": "5feOnuV5Gy42"
      },
      "source": [
        "n_features =1"
      ],
      "execution_count": 43,
      "outputs": []
    },
    {
      "cell_type": "code",
      "metadata": {
        "colab": {
          "base_uri": "https://localhost:8080/"
        },
        "id": "hjNVg1dxG1Jm",
        "outputId": "69d7b301-681a-4e64-c623-bb7032e79326"
      },
      "source": [
        "model = Sequential()\n",
        "\n",
        "model.add(LSTM(100, activation='relu', input_shape = (length, n_features)))\n",
        "\n",
        "model.add(Dense(1))\n",
        "\n",
        "model.compile(optimizer = 'adam', loss = 'mse')"
      ],
      "execution_count": 44,
      "outputs": [
        {
          "output_type": "stream",
          "text": [
            "WARNING:tensorflow:Layer lstm will not use cuDNN kernels since it doesn't meet the criteria. It will use a generic GPU kernel as fallback when running on GPU.\n"
          ],
          "name": "stdout"
        }
      ]
    },
    {
      "cell_type": "code",
      "metadata": {
        "colab": {
          "base_uri": "https://localhost:8080/"
        },
        "id": "oMXZt55RG4Kd",
        "outputId": "f9bd60e4-0def-43a0-be43-68d824b92c08"
      },
      "source": [
        "model.summary()"
      ],
      "execution_count": 45,
      "outputs": [
        {
          "output_type": "stream",
          "text": [
            "Model: \"sequential\"\n",
            "_________________________________________________________________\n",
            "Layer (type)                 Output Shape              Param #   \n",
            "=================================================================\n",
            "lstm (LSTM)                  (None, 100)               40800     \n",
            "_________________________________________________________________\n",
            "dense (Dense)                (None, 1)                 101       \n",
            "=================================================================\n",
            "Total params: 40,901\n",
            "Trainable params: 40,901\n",
            "Non-trainable params: 0\n",
            "_________________________________________________________________\n"
          ],
          "name": "stdout"
        }
      ]
    },
    {
      "cell_type": "code",
      "metadata": {
        "id": "MiVl8_PgHExQ"
      },
      "source": [
        "validation_generator = TimeseriesGenerator(scaled_test, scaled_test, length = length, batch_size=1)"
      ],
      "execution_count": 46,
      "outputs": []
    },
    {
      "cell_type": "code",
      "metadata": {
        "id": "DNYdD18oxOht"
      },
      "source": [
        "from tensorflow.keras.callbacks import EarlyStopping"
      ],
      "execution_count": 47,
      "outputs": []
    },
    {
      "cell_type": "code",
      "metadata": {
        "id": "5BA7_zSNxORh"
      },
      "source": [
        "early_stop = EarlyStopping(monitor = \"val_loss\", patience= 2)"
      ],
      "execution_count": 48,
      "outputs": []
    },
    {
      "cell_type": "code",
      "metadata": {
        "colab": {
          "base_uri": "https://localhost:8080/"
        },
        "id": "TvJZoNJHHMHf",
        "outputId": "b38c74f2-05a6-44b0-add3-fc512f0d2f9d"
      },
      "source": [
        "model.fit_generator(generator, epochs = 30, validation_data=validation_generator,\n",
        "                    callbacks = [early_stop])"
      ],
      "execution_count": 49,
      "outputs": [
        {
          "output_type": "stream",
          "text": [
            "/usr/local/lib/python3.7/dist-packages/tensorflow/python/keras/engine/training.py:1940: UserWarning: `Model.fit_generator` is deprecated and will be removed in a future version. Please use `Model.fit`, which supports generators.\n",
            "  warnings.warn('`Model.fit_generator` is deprecated and '\n"
          ],
          "name": "stderr"
        },
        {
          "output_type": "stream",
          "text": [
            "Epoch 1/30\n",
            "3858/3858 [==============================] - 64s 16ms/step - loss: 0.0042 - val_loss: 0.0086\n",
            "Epoch 2/30\n",
            "3858/3858 [==============================] - 62s 16ms/step - loss: 0.0038 - val_loss: 0.0077\n",
            "Epoch 3/30\n",
            "3858/3858 [==============================] - 61s 16ms/step - loss: 0.0037 - val_loss: 0.0078\n",
            "Epoch 4/30\n",
            "3858/3858 [==============================] - 60s 16ms/step - loss: 0.0037 - val_loss: 0.0078\n"
          ],
          "name": "stdout"
        },
        {
          "output_type": "execute_result",
          "data": {
            "text/plain": [
              "<tensorflow.python.keras.callbacks.History at 0x7f77c03b5d50>"
            ]
          },
          "metadata": {
            "tags": []
          },
          "execution_count": 49
        }
      ]
    },
    {
      "cell_type": "code",
      "metadata": {
        "id": "b1GcJIEzHPpN"
      },
      "source": [
        "losses = pd.DataFrame(model.history.history)"
      ],
      "execution_count": 50,
      "outputs": []
    },
    {
      "cell_type": "code",
      "metadata": {
        "colab": {
          "base_uri": "https://localhost:8080/",
          "height": 173
        },
        "id": "gKjKQnAJLlc2",
        "outputId": "016fac17-da48-43c2-fb24-c4463867653d"
      },
      "source": [
        "losses"
      ],
      "execution_count": 51,
      "outputs": [
        {
          "output_type": "execute_result",
          "data": {
            "text/html": [
              "<div>\n",
              "<style scoped>\n",
              "    .dataframe tbody tr th:only-of-type {\n",
              "        vertical-align: middle;\n",
              "    }\n",
              "\n",
              "    .dataframe tbody tr th {\n",
              "        vertical-align: top;\n",
              "    }\n",
              "\n",
              "    .dataframe thead th {\n",
              "        text-align: right;\n",
              "    }\n",
              "</style>\n",
              "<table border=\"1\" class=\"dataframe\">\n",
              "  <thead>\n",
              "    <tr style=\"text-align: right;\">\n",
              "      <th></th>\n",
              "      <th>loss</th>\n",
              "      <th>val_loss</th>\n",
              "    </tr>\n",
              "  </thead>\n",
              "  <tbody>\n",
              "    <tr>\n",
              "      <th>0</th>\n",
              "      <td>0.004227</td>\n",
              "      <td>0.008632</td>\n",
              "    </tr>\n",
              "    <tr>\n",
              "      <th>1</th>\n",
              "      <td>0.003829</td>\n",
              "      <td>0.007708</td>\n",
              "    </tr>\n",
              "    <tr>\n",
              "      <th>2</th>\n",
              "      <td>0.003740</td>\n",
              "      <td>0.007789</td>\n",
              "    </tr>\n",
              "    <tr>\n",
              "      <th>3</th>\n",
              "      <td>0.003685</td>\n",
              "      <td>0.007809</td>\n",
              "    </tr>\n",
              "  </tbody>\n",
              "</table>\n",
              "</div>"
            ],
            "text/plain": [
              "       loss  val_loss\n",
              "0  0.004227  0.008632\n",
              "1  0.003829  0.007708\n",
              "2  0.003740  0.007789\n",
              "3  0.003685  0.007809"
            ]
          },
          "metadata": {
            "tags": []
          },
          "execution_count": 51
        }
      ]
    },
    {
      "cell_type": "code",
      "metadata": {
        "colab": {
          "base_uri": "https://localhost:8080/",
          "height": 282
        },
        "id": "whn0g-R5Lwjk",
        "outputId": "914a1e4d-5adf-48bb-d843-09edd9187657"
      },
      "source": [
        "losses.plot()"
      ],
      "execution_count": 52,
      "outputs": [
        {
          "output_type": "execute_result",
          "data": {
            "text/plain": [
              "<matplotlib.axes._subplots.AxesSubplot at 0x7f77c04b9f10>"
            ]
          },
          "metadata": {
            "tags": []
          },
          "execution_count": 52
        },
        {
          "output_type": "display_data",
          "data": {
            "image/png": "[encoded data removed]",
            "text/plain": [
              "<Figure size 432x288 with 1 Axes>"
            ]
          },
          "metadata": {
            "tags": [],
            "needs_background": "light"
          }
        }
      ]
    },
    {
      "cell_type": "markdown",
      "metadata": {
        "id": "g1IRZAE7NPse"
      },
      "source": [
        "## **Single-Step Prediction**"
      ]
    },
    {
      "cell_type": "code",
      "metadata": {
        "id": "fY3awG-5LwVS"
      },
      "source": [
        "test_predictions = []\n",
        "\n",
        "first_eval_batch = scaled_train[-length:]\n",
        "current_batch = first_eval_batch.reshape((1, length, n_features))\n",
        "\n",
        "for i in range(len(test)):\n",
        "  current_pred = model.predict(current_batch)[0]\n",
        "\n",
        "  test_predictions.append(current_pred)\n",
        "\n",
        "  current_batch = np.append(current_batch[:,1:,:],[[scaled_test[i]]], axis = 1)"
      ],
      "execution_count": 53,
      "outputs": []
    },
    {
      "cell_type": "code",
      "metadata": {
        "colab": {
          "base_uri": "https://localhost:8080/"
        },
        "id": "LLzFPFx9LvGp",
        "outputId": "0605ff8c-8634-4801-d496-2c54ecddabed"
      },
      "source": [
        "test_predictions"
      ],
      "execution_count": 54,
      "outputs": [
        {
          "output_type": "execute_result",
          "data": {
            "text/plain": [
              "[array([0.3538086], dtype=float32),\n",
              " array([0.3557732], dtype=float32),\n",
              " array([0.35549977], dtype=float32),\n",
              " array([0.35674977], dtype=float32),\n",
              " array([0.3564862], dtype=float32),\n",
              " array([0.35599452], dtype=float32),\n",
              " array([0.35638463], dtype=float32),\n",
              " array([0.35633916], dtype=float32),\n",
              " array([0.35629618], dtype=float32),\n",
              " array([0.35530132], dtype=float32),\n",
              " array([0.35522377], dtype=float32),\n",
              " array([0.35570425], dtype=float32),\n",
              " array([0.35686487], dtype=float32),\n",
              " array([0.35655624], dtype=float32),\n",
              " array([0.35575214], dtype=float32),\n",
              " array([0.35533014], dtype=float32),\n",
              " array([0.35412443], dtype=float32),\n",
              " array([0.35227296], dtype=float32),\n",
              " array([0.35362905], dtype=float32),\n",
              " array([0.35482436], dtype=float32),\n",
              " array([0.3546322], dtype=float32),\n",
              " array([0.35347703], dtype=float32),\n",
              " array([0.35602397], dtype=float32),\n",
              " array([0.3547173], dtype=float32),\n",
              " array([0.35374603], dtype=float32),\n",
              " array([0.35576135], dtype=float32),\n",
              " array([0.3559752], dtype=float32),\n",
              " array([0.35678282], dtype=float32),\n",
              " array([0.35647404], dtype=float32),\n",
              " array([0.3560053], dtype=float32),\n",
              " array([0.35531437], dtype=float32),\n",
              " array([0.3551557], dtype=float32),\n",
              " array([0.35505748], dtype=float32),\n",
              " array([0.35513395], dtype=float32),\n",
              " array([0.35462832], dtype=float32),\n",
              " array([0.3528549], dtype=float32),\n",
              " array([0.34983826], dtype=float32),\n",
              " array([0.34894064], dtype=float32),\n",
              " array([0.35114455], dtype=float32),\n",
              " array([0.34871137], dtype=float32),\n",
              " array([0.3510744], dtype=float32),\n",
              " array([0.35582763], dtype=float32),\n",
              " array([0.35368782], dtype=float32),\n",
              " array([0.35518023], dtype=float32),\n",
              " array([0.35259053], dtype=float32),\n",
              " array([0.35072756], dtype=float32),\n",
              " array([0.34759936], dtype=float32),\n",
              " array([0.35253268], dtype=float32),\n",
              " array([0.35135108], dtype=float32),\n",
              " array([0.3446787], dtype=float32),\n",
              " array([0.35355806], dtype=float32),\n",
              " array([0.34804893], dtype=float32),\n",
              " array([0.35021508], dtype=float32),\n",
              " array([0.351952], dtype=float32),\n",
              " array([0.35347462], dtype=float32),\n",
              " array([0.35176596], dtype=float32),\n",
              " array([0.35072958], dtype=float32),\n",
              " array([0.3571875], dtype=float32),\n",
              " array([0.35651627], dtype=float32),\n",
              " array([0.3583356], dtype=float32),\n",
              " array([0.35542965], dtype=float32),\n",
              " array([0.35571992], dtype=float32),\n",
              " array([0.35737237], dtype=float32),\n",
              " array([0.35276818], dtype=float32),\n",
              " array([0.35294533], dtype=float32),\n",
              " array([0.3527041], dtype=float32),\n",
              " array([0.35841644], dtype=float32),\n",
              " array([0.35930014], dtype=float32),\n",
              " array([0.35825086], dtype=float32),\n",
              " array([0.3572852], dtype=float32),\n",
              " array([0.35626912], dtype=float32),\n",
              " array([0.35878426], dtype=float32),\n",
              " array([0.35788727], dtype=float32),\n",
              " array([0.35609528], dtype=float32),\n",
              " array([0.3567418], dtype=float32),\n",
              " array([0.3553235], dtype=float32),\n",
              " array([0.35171837], dtype=float32),\n",
              " array([0.3546664], dtype=float32),\n",
              " array([0.35659957], dtype=float32),\n",
              " array([0.35610658], dtype=float32),\n",
              " array([0.35522318], dtype=float32),\n",
              " array([0.3526395], dtype=float32),\n",
              " array([0.35863742], dtype=float32),\n",
              " array([0.35995507], dtype=float32),\n",
              " array([0.3557938], dtype=float32),\n",
              " array([0.3549385], dtype=float32),\n",
              " array([0.3564629], dtype=float32),\n",
              " array([0.35598132], dtype=float32),\n",
              " array([0.35649073], dtype=float32),\n",
              " array([0.35699314], dtype=float32),\n",
              " array([0.35717583], dtype=float32),\n",
              " array([0.35501683], dtype=float32),\n",
              " array([0.35273015], dtype=float32),\n",
              " array([0.35354865], dtype=float32),\n",
              " array([0.35513794], dtype=float32),\n",
              " array([0.35583583], dtype=float32),\n",
              " array([0.35492462], dtype=float32),\n",
              " array([0.35633487], dtype=float32),\n",
              " array([0.35620967], dtype=float32),\n",
              " array([0.3556645], dtype=float32),\n",
              " array([0.35577348], dtype=float32),\n",
              " array([0.35536194], dtype=float32),\n",
              " array([0.35489774], dtype=float32),\n",
              " array([0.3555228], dtype=float32),\n",
              " array([0.35549897], dtype=float32),\n",
              " array([0.3554573], dtype=float32),\n",
              " array([0.3550855], dtype=float32),\n",
              " array([0.35353413], dtype=float32),\n",
              " array([0.35483584], dtype=float32),\n",
              " array([0.35572404], dtype=float32),\n",
              " array([0.35549408], dtype=float32),\n",
              " array([0.35579997], dtype=float32),\n",
              " array([0.35247707], dtype=float32),\n",
              " array([0.3526479], dtype=float32),\n",
              " array([0.35431036], dtype=float32),\n",
              " array([0.35581744], dtype=float32),\n",
              " array([0.3560772], dtype=float32),\n",
              " array([0.35457057], dtype=float32),\n",
              " array([0.35370147], dtype=float32),\n",
              " array([0.35529298], dtype=float32),\n",
              " array([0.35618833], dtype=float32),\n",
              " array([0.35416675], dtype=float32),\n",
              " array([0.35413638], dtype=float32),\n",
              " array([0.3506339], dtype=float32),\n",
              " array([0.35259503], dtype=float32),\n",
              " array([0.35547197], dtype=float32),\n",
              " array([0.35654658], dtype=float32),\n",
              " array([0.3574971], dtype=float32),\n",
              " array([0.3581441], dtype=float32),\n",
              " array([0.35665894], dtype=float32),\n",
              " array([0.35614532], dtype=float32),\n",
              " array([0.35652477], dtype=float32),\n",
              " array([0.3568923], dtype=float32),\n",
              " array([0.35508144], dtype=float32),\n",
              " array([0.35470146], dtype=float32),\n",
              " array([0.35471135], dtype=float32),\n",
              " array([0.35444853], dtype=float32),\n",
              " array([0.3545821], dtype=float32),\n",
              " array([0.35682428], dtype=float32),\n",
              " array([0.356394], dtype=float32),\n",
              " array([0.35572553], dtype=float32),\n",
              " array([0.35327333], dtype=float32),\n",
              " array([0.35245726], dtype=float32),\n",
              " array([0.3544283], dtype=float32),\n",
              " array([0.35367307], dtype=float32),\n",
              " array([0.35448402], dtype=float32),\n",
              " array([0.3556866], dtype=float32),\n",
              " array([0.35309887], dtype=float32),\n",
              " array([0.3524332], dtype=float32),\n",
              " array([0.35294282], dtype=float32),\n",
              " array([0.35376042], dtype=float32),\n",
              " array([0.35553724], dtype=float32),\n",
              " array([0.3552763], dtype=float32),\n",
              " array([0.35468602], dtype=float32),\n",
              " array([0.35386303], dtype=float32),\n",
              " array([0.3551753], dtype=float32),\n",
              " array([0.3559293], dtype=float32),\n",
              " array([0.3548872], dtype=float32),\n",
              " array([0.35508156], dtype=float32),\n",
              " array([0.3569896], dtype=float32),\n",
              " array([0.35616076], dtype=float32),\n",
              " array([0.35660678], dtype=float32),\n",
              " array([0.3563516], dtype=float32),\n",
              " array([0.35592103], dtype=float32),\n",
              " array([0.35649264], dtype=float32),\n",
              " array([0.35769957], dtype=float32),\n",
              " array([0.35633856], dtype=float32),\n",
              " array([0.35568738], dtype=float32),\n",
              " array([0.355036], dtype=float32),\n",
              " array([0.35576284], dtype=float32),\n",
              " array([0.35837865], dtype=float32),\n",
              " array([0.3542348], dtype=float32)]"
            ]
          },
          "metadata": {
            "tags": []
          },
          "execution_count": 54
        }
      ]
    },
    {
      "cell_type": "code",
      "metadata": {
        "colab": {
          "base_uri": "https://localhost:8080/"
        },
        "id": "u6wUIeOHLsYX",
        "outputId": "83954c9b-0f46-4e7d-8c49-2862aa950883"
      },
      "source": [
        "len(test_predictions)"
      ],
      "execution_count": 55,
      "outputs": [
        {
          "output_type": "execute_result",
          "data": {
            "text/plain": [
              "172"
            ]
          },
          "metadata": {
            "tags": []
          },
          "execution_count": 55
        }
      ]
    },
    {
      "cell_type": "code",
      "metadata": {
        "id": "2etxfRnBLsEF"
      },
      "source": [
        "predictions = scaler.inverse_transform(test_predictions)"
      ],
      "execution_count": 56,
      "outputs": []
    },
    {
      "cell_type": "code",
      "metadata": {
        "colab": {
          "base_uri": "https://localhost:8080/"
        },
        "id": "UVWcz2cbLr4g",
        "outputId": "fbefe300-424f-4679-f76b-49cc863f4cb2"
      },
      "source": [
        "predictions"
      ],
      "execution_count": 57,
      "outputs": [
        {
          "output_type": "execute_result",
          "data": {
            "text/plain": [
              "array([[-0.00428539],\n",
              "       [-0.00366456],\n",
              "       [-0.00375097],\n",
              "       [-0.00335596],\n",
              "       [-0.00343925],\n",
              "       [-0.00359463],\n",
              "       [-0.00347135],\n",
              "       [-0.00348572],\n",
              "       [-0.0034993 ],\n",
              "       [-0.00381368],\n",
              "       [-0.00383819],\n",
              "       [-0.00368636],\n",
              "       [-0.00331959],\n",
              "       [-0.00341712],\n",
              "       [-0.00367122],\n",
              "       [-0.00380458],\n",
              "       [-0.00418559],\n",
              "       [-0.00477067],\n",
              "       [-0.00434213],\n",
              "       [-0.0039644 ],\n",
              "       [-0.00402513],\n",
              "       [-0.00439017],\n",
              "       [-0.00358532],\n",
              "       [-0.00399823],\n",
              "       [-0.00430517],\n",
              "       [-0.00366831],\n",
              "       [-0.00360073],\n",
              "       [-0.00334552],\n",
              "       [-0.00344309],\n",
              "       [-0.00359122],\n",
              "       [-0.00380956],\n",
              "       [-0.0038597 ],\n",
              "       [-0.00389074],\n",
              "       [-0.00386657],\n",
              "       [-0.00402635],\n",
              "       [-0.00458677],\n",
              "       [-0.00554005],\n",
              "       [-0.0058237 ],\n",
              "       [-0.00512725],\n",
              "       [-0.00589615],\n",
              "       [-0.00514942],\n",
              "       [-0.00364737],\n",
              "       [-0.00432356],\n",
              "       [-0.00385195],\n",
              "       [-0.00467031],\n",
              "       [-0.00525902],\n",
              "       [-0.00624756],\n",
              "       [-0.00468859],\n",
              "       [-0.00506198],\n",
              "       [-0.0071705 ],\n",
              "       [-0.00436456],\n",
              "       [-0.00610549],\n",
              "       [-0.00542097],\n",
              "       [-0.0048721 ],\n",
              "       [-0.00439093],\n",
              "       [-0.00493088],\n",
              "       [-0.00525838],\n",
              "       [-0.00321763],\n",
              "       [-0.00342975],\n",
              "       [-0.00285483],\n",
              "       [-0.00377313],\n",
              "       [-0.0036814 ],\n",
              "       [-0.00315922],\n",
              "       [-0.00461417],\n",
              "       [-0.00455819],\n",
              "       [-0.00463442],\n",
              "       [-0.00282928],\n",
              "       [-0.00255003],\n",
              "       [-0.00288161],\n",
              "       [-0.00318676],\n",
              "       [-0.00350785],\n",
              "       [-0.00271305],\n",
              "       [-0.00299651],\n",
              "       [-0.00356278],\n",
              "       [-0.00335849],\n",
              "       [-0.00380668],\n",
              "       [-0.00494592],\n",
              "       [-0.00401432],\n",
              "       [-0.00340343],\n",
              "       [-0.00355922],\n",
              "       [-0.00383838],\n",
              "       [-0.00465484],\n",
              "       [-0.00275945],\n",
              "       [-0.00234307],\n",
              "       [-0.00365805],\n",
              "       [-0.00392833],\n",
              "       [-0.00344662],\n",
              "       [-0.0035988 ],\n",
              "       [-0.00343782],\n",
              "       [-0.00327906],\n",
              "       [-0.00322133],\n",
              "       [-0.00390358],\n",
              "       [-0.00462619],\n",
              "       [-0.00436754],\n",
              "       [-0.00386531],\n",
              "       [-0.00364478],\n",
              "       [-0.00393272],\n",
              "       [-0.00348708],\n",
              "       [-0.00352664],\n",
              "       [-0.00369892],\n",
              "       [-0.00366448],\n",
              "       [-0.00379453],\n",
              "       [-0.00394122],\n",
              "       [-0.00374369],\n",
              "       [-0.00375122],\n",
              "       [-0.00376439],\n",
              "       [-0.00388189],\n",
              "       [-0.00437213],\n",
              "       [-0.00396078],\n",
              "       [-0.0036801 ],\n",
              "       [-0.00375277],\n",
              "       [-0.00365611],\n",
              "       [-0.00470616],\n",
              "       [-0.00465218],\n",
              "       [-0.00412683],\n",
              "       [-0.00365059],\n",
              "       [-0.0035685 ],\n",
              "       [-0.00404461],\n",
              "       [-0.00431925],\n",
              "       [-0.00381632],\n",
              "       [-0.00353338],\n",
              "       [-0.00417222],\n",
              "       [-0.00418181],\n",
              "       [-0.00528862],\n",
              "       [-0.00466889],\n",
              "       [-0.00375976],\n",
              "       [-0.00342017],\n",
              "       [-0.0031198 ],\n",
              "       [-0.00291534],\n",
              "       [-0.00338467],\n",
              "       [-0.00354697],\n",
              "       [-0.00342707],\n",
              "       [-0.00331093],\n",
              "       [-0.00388317],\n",
              "       [-0.00400324],\n",
              "       [-0.00400012],\n",
              "       [-0.00408317],\n",
              "       [-0.00404096],\n",
              "       [-0.00333242],\n",
              "       [-0.00346839],\n",
              "       [-0.00367963],\n",
              "       [-0.00445454],\n",
              "       [-0.00471243],\n",
              "       [-0.00408957],\n",
              "       [-0.00432822],\n",
              "       [-0.00407195],\n",
              "       [-0.00369193],\n",
              "       [-0.00450967],\n",
              "       [-0.00472003],\n",
              "       [-0.00455898],\n",
              "       [-0.00430062],\n",
              "       [-0.00373913],\n",
              "       [-0.00382159],\n",
              "       [-0.00400812],\n",
              "       [-0.00426819],\n",
              "       [-0.00385351],\n",
              "       [-0.00361524],\n",
              "       [-0.00394455],\n",
              "       [-0.00388313],\n",
              "       [-0.00328018],\n",
              "       [-0.00354209],\n",
              "       [-0.00340115],\n",
              "       [-0.00348178],\n",
              "       [-0.00361785],\n",
              "       [-0.00343722],\n",
              "       [-0.00305582],\n",
              "       [-0.00348591],\n",
              "       [-0.00369169],\n",
              "       [-0.00389753],\n",
              "       [-0.00366784],\n",
              "       [-0.00284123],\n",
              "       [-0.00415071]])"
            ]
          },
          "metadata": {
            "tags": []
          },
          "execution_count": 57
        }
      ]
    },
    {
      "cell_type": "code",
      "metadata": {
        "colab": {
          "base_uri": "https://localhost:8080/",
          "height": 450
        },
        "id": "UIJAQsIjLlQ6",
        "outputId": "e83f727d-18a0-48f5-cfe4-15986f145240"
      },
      "source": [
        "test"
      ],
      "execution_count": 58,
      "outputs": [
        {
          "output_type": "execute_result",
          "data": {
            "text/html": [
              "<div>\n",
              "<style scoped>\n",
              "    .dataframe tbody tr th:only-of-type {\n",
              "        vertical-align: middle;\n",
              "    }\n",
              "\n",
              "    .dataframe tbody tr th {\n",
              "        vertical-align: top;\n",
              "    }\n",
              "\n",
              "    .dataframe thead th {\n",
              "        text-align: right;\n",
              "    }\n",
              "</style>\n",
              "<table border=\"1\" class=\"dataframe\">\n",
              "  <thead>\n",
              "    <tr style=\"text-align: right;\">\n",
              "      <th></th>\n",
              "      <th>return</th>\n",
              "    </tr>\n",
              "    <tr>\n",
              "      <th>Date</th>\n",
              "      <th></th>\n",
              "    </tr>\n",
              "  </thead>\n",
              "  <tbody>\n",
              "    <tr>\n",
              "      <th>2020-01-02</th>\n",
              "      <td>0.021868</td>\n",
              "    </tr>\n",
              "    <tr>\n",
              "      <th>2020-01-03</th>\n",
              "      <td>-0.005231</td>\n",
              "    </tr>\n",
              "    <tr>\n",
              "      <th>2020-01-06</th>\n",
              "      <td>0.026654</td>\n",
              "    </tr>\n",
              "    <tr>\n",
              "      <th>2020-01-07</th>\n",
              "      <td>-0.001932</td>\n",
              "    </tr>\n",
              "    <tr>\n",
              "      <th>2020-01-08</th>\n",
              "      <td>0.007118</td>\n",
              "    </tr>\n",
              "    <tr>\n",
              "      <th>...</th>\n",
              "      <td>...</td>\n",
              "    </tr>\n",
              "    <tr>\n",
              "      <th>2020-08-31</th>\n",
              "      <td>-0.006039</td>\n",
              "    </tr>\n",
              "    <tr>\n",
              "      <th>2020-09-01</th>\n",
              "      <td>0.015679</td>\n",
              "    </tr>\n",
              "    <tr>\n",
              "      <th>2020-09-02</th>\n",
              "      <td>0.037648</td>\n",
              "    </tr>\n",
              "    <tr>\n",
              "      <th>2020-09-03</th>\n",
              "      <td>-0.051171</td>\n",
              "    </tr>\n",
              "    <tr>\n",
              "      <th>2020-09-04</th>\n",
              "      <td>-0.029641</td>\n",
              "    </tr>\n",
              "  </tbody>\n",
              "</table>\n",
              "<p>172 rows × 1 columns</p>\n",
              "</div>"
            ],
            "text/plain": [
              "              return\n",
              "Date                \n",
              "2020-01-02  0.021868\n",
              "2020-01-03 -0.005231\n",
              "2020-01-06  0.026654\n",
              "2020-01-07 -0.001932\n",
              "2020-01-08  0.007118\n",
              "...              ...\n",
              "2020-08-31 -0.006039\n",
              "2020-09-01  0.015679\n",
              "2020-09-02  0.037648\n",
              "2020-09-03 -0.051171\n",
              "2020-09-04 -0.029641\n",
              "\n",
              "[172 rows x 1 columns]"
            ]
          },
          "metadata": {
            "tags": []
          },
          "execution_count": 58
        }
      ]
    },
    {
      "cell_type": "code",
      "metadata": {
        "id": "pM8A1zlPLlDz"
      },
      "source": [
        "true_predictions = pd.DataFrame(data=predictions, index= test.index,columns=['predictions'])"
      ],
      "execution_count": 59,
      "outputs": []
    },
    {
      "cell_type": "code",
      "metadata": {
        "colab": {
          "base_uri": "https://localhost:8080/",
          "height": 450
        },
        "id": "lmXSvYfcNl0J",
        "outputId": "cfb9e380-178c-4df7-d091-c2e6a1e7cf43"
      },
      "source": [
        "true_predictions"
      ],
      "execution_count": 60,
      "outputs": [
        {
          "output_type": "execute_result",
          "data": {
            "text/html": [
              "<div>\n",
              "<style scoped>\n",
              "    .dataframe tbody tr th:only-of-type {\n",
              "        vertical-align: middle;\n",
              "    }\n",
              "\n",
              "    .dataframe tbody tr th {\n",
              "        vertical-align: top;\n",
              "    }\n",
              "\n",
              "    .dataframe thead th {\n",
              "        text-align: right;\n",
              "    }\n",
              "</style>\n",
              "<table border=\"1\" class=\"dataframe\">\n",
              "  <thead>\n",
              "    <tr style=\"text-align: right;\">\n",
              "      <th></th>\n",
              "      <th>predictions</th>\n",
              "    </tr>\n",
              "    <tr>\n",
              "      <th>Date</th>\n",
              "      <th></th>\n",
              "    </tr>\n",
              "  </thead>\n",
              "  <tbody>\n",
              "    <tr>\n",
              "      <th>2020-01-02</th>\n",
              "      <td>-0.004285</td>\n",
              "    </tr>\n",
              "    <tr>\n",
              "      <th>2020-01-03</th>\n",
              "      <td>-0.003665</td>\n",
              "    </tr>\n",
              "    <tr>\n",
              "      <th>2020-01-06</th>\n",
              "      <td>-0.003751</td>\n",
              "    </tr>\n",
              "    <tr>\n",
              "      <th>2020-01-07</th>\n",
              "      <td>-0.003356</td>\n",
              "    </tr>\n",
              "    <tr>\n",
              "      <th>2020-01-08</th>\n",
              "      <td>-0.003439</td>\n",
              "    </tr>\n",
              "    <tr>\n",
              "      <th>...</th>\n",
              "      <td>...</td>\n",
              "    </tr>\n",
              "    <tr>\n",
              "      <th>2020-08-31</th>\n",
              "      <td>-0.003692</td>\n",
              "    </tr>\n",
              "    <tr>\n",
              "      <th>2020-09-01</th>\n",
              "      <td>-0.003898</td>\n",
              "    </tr>\n",
              "    <tr>\n",
              "      <th>2020-09-02</th>\n",
              "      <td>-0.003668</td>\n",
              "    </tr>\n",
              "    <tr>\n",
              "      <th>2020-09-03</th>\n",
              "      <td>-0.002841</td>\n",
              "    </tr>\n",
              "    <tr>\n",
              "      <th>2020-09-04</th>\n",
              "      <td>-0.004151</td>\n",
              "    </tr>\n",
              "  </tbody>\n",
              "</table>\n",
              "<p>172 rows × 1 columns</p>\n",
              "</div>"
            ],
            "text/plain": [
              "            predictions\n",
              "Date                   \n",
              "2020-01-02    -0.004285\n",
              "2020-01-03    -0.003665\n",
              "2020-01-06    -0.003751\n",
              "2020-01-07    -0.003356\n",
              "2020-01-08    -0.003439\n",
              "...                 ...\n",
              "2020-08-31    -0.003692\n",
              "2020-09-01    -0.003898\n",
              "2020-09-02    -0.003668\n",
              "2020-09-03    -0.002841\n",
              "2020-09-04    -0.004151\n",
              "\n",
              "[172 rows x 1 columns]"
            ]
          },
          "metadata": {
            "tags": []
          },
          "execution_count": 60
        }
      ]
    },
    {
      "cell_type": "code",
      "metadata": {
        "colab": {
          "base_uri": "https://localhost:8080/",
          "height": 556
        },
        "id": "nr1V3jQONlwH",
        "outputId": "84af6bc5-5103-462f-d296-7522b9354bcc"
      },
      "source": [
        "test.plot()\n",
        "true_predictions.plot()"
      ],
      "execution_count": 61,
      "outputs": [
        {
          "output_type": "execute_result",
          "data": {
            "text/plain": [
              "<matplotlib.axes._subplots.AxesSubplot at 0x7f776c582f90>"
            ]
          },
          "metadata": {
            "tags": []
          },
          "execution_count": 61
        },
        {
          "output_type": "display_data",
          "data": {
            "image/png": "[encoded data removed]",
            "text/plain": [
              "<Figure size 432x288 with 1 Axes>"
            ]
          },
          "metadata": {
            "tags": [],
            "needs_background": "light"
          }
        },
        {
          "output_type": "display_data",
          "data": {
            "image/png": "[encoded data removed]",
            "text/plain": [
              "<Figure size 432x288 with 1 Axes>"
            ]
          },
          "metadata": {
            "tags": [],
            "needs_background": "light"
          }
        }
      ]
    },
    {
      "cell_type": "code",
      "metadata": {
        "colab": {
          "base_uri": "https://localhost:8080/",
          "height": 296
        },
        "id": "vLgTQBH5NllX",
        "outputId": "569b2275-4f33-42a9-e875-a1c1817af659"
      },
      "source": [
        "ax = test.plot()\n",
        "true_predictions.plot(ax=ax)"
      ],
      "execution_count": 62,
      "outputs": [
        {
          "output_type": "execute_result",
          "data": {
            "text/plain": [
              "<matplotlib.axes._subplots.AxesSubplot at 0x7f777e173310>"
            ]
          },
          "metadata": {
            "tags": []
          },
          "execution_count": 62
        },
        {
          "output_type": "display_data",
          "data": {
            "image/png": "[encoded data removed]",
            "text/plain": [
              "<Figure size 432x288 with 1 Axes>"
            ]
          },
          "metadata": {
            "tags": [],
            "needs_background": "light"
          }
        }
      ]
    },
    {
      "cell_type": "markdown",
      "metadata": {
        "id": "1qTtPLpqNw9e"
      },
      "source": [
        "## **Multi-Step Prediction**"
      ]
    },
    {
      "cell_type": "code",
      "metadata": {
        "id": "6ErKnNCaNlhI"
      },
      "source": [
        "test_predictions_2 = []\n",
        "\n",
        "first_eval_batch = scaled_train[-length:]\n",
        "current_batch = first_eval_batch.reshape((1, length, n_features))\n",
        "\n",
        "for i in range(len(test)):\n",
        "  current_pred = model.predict(current_batch)[0]\n",
        "\n",
        "  test_predictions_2.append(current_pred)\n",
        "\n",
        "  current_batch = np.append(current_batch[:,1:,:],[[current_pred]], axis = 1)"
      ],
      "execution_count": 63,
      "outputs": []
    },
    {
      "cell_type": "code",
      "metadata": {
        "colab": {
          "base_uri": "https://localhost:8080/"
        },
        "id": "hOPFpdRzNlZ2",
        "outputId": "2da11105-5cc2-4d54-ee4a-3ecd4989d031"
      },
      "source": [
        "test_predictions_2"
      ],
      "execution_count": 64,
      "outputs": [
        {
          "output_type": "execute_result",
          "data": {
            "text/plain": [
              "[array([0.3538086], dtype=float32),\n",
              " array([0.35386944], dtype=float32),\n",
              " array([0.35374212], dtype=float32),\n",
              " array([0.35368824], dtype=float32),\n",
              " array([0.35365596], dtype=float32),\n",
              " array([0.3536311], dtype=float32),\n",
              " array([0.35361993], dtype=float32),\n",
              " array([0.35360238], dtype=float32),\n",
              " array([0.35360226], dtype=float32),\n",
              " array([0.3536057], dtype=float32),\n",
              " array([0.35360125], dtype=float32),\n",
              " array([0.35360086], dtype=float32),\n",
              " array([0.35360056], dtype=float32),\n",
              " array([0.35360044], dtype=float32),\n",
              " array([0.35360032], dtype=float32),\n",
              " array([0.3536003], dtype=float32),\n",
              " array([0.35360026], dtype=float32),\n",
              " array([0.35360026], dtype=float32),\n",
              " array([0.35360026], dtype=float32),\n",
              " array([0.35360026], dtype=float32),\n",
              " array([0.35360026], dtype=float32),\n",
              " array([0.35360026], dtype=float32),\n",
              " array([0.35360026], dtype=float32),\n",
              " array([0.35360026], dtype=float32),\n",
              " array([0.35360026], dtype=float32),\n",
              " array([0.35360026], dtype=float32),\n",
              " array([0.35360026], dtype=float32),\n",
              " array([0.35360026], dtype=float32),\n",
              " array([0.35360026], dtype=float32),\n",
              " array([0.35360026], dtype=float32),\n",
              " array([0.35360026], dtype=float32),\n",
              " array([0.35360026], dtype=float32),\n",
              " array([0.35360026], dtype=float32),\n",
              " array([0.35360026], dtype=float32),\n",
              " array([0.35360026], dtype=float32),\n",
              " array([0.35360026], dtype=float32),\n",
              " array([0.35360026], dtype=float32),\n",
              " array([0.35360026], dtype=float32),\n",
              " array([0.35360026], dtype=float32),\n",
              " array([0.35360026], dtype=float32),\n",
              " array([0.35360026], dtype=float32),\n",
              " array([0.35360026], dtype=float32),\n",
              " array([0.35360026], dtype=float32),\n",
              " array([0.35360026], dtype=float32),\n",
              " array([0.35360026], dtype=float32),\n",
              " array([0.35360026], dtype=float32),\n",
              " array([0.35360026], dtype=float32),\n",
              " array([0.35360026], dtype=float32),\n",
              " array([0.35360026], dtype=float32),\n",
              " array([0.35360026], dtype=float32),\n",
              " array([0.35360026], dtype=float32),\n",
              " array([0.35360026], dtype=float32),\n",
              " array([0.35360026], dtype=float32),\n",
              " array([0.35360026], dtype=float32),\n",
              " array([0.35360026], dtype=float32),\n",
              " array([0.35360026], dtype=float32),\n",
              " array([0.35360026], dtype=float32),\n",
              " array([0.35360026], dtype=float32),\n",
              " array([0.35360026], dtype=float32),\n",
              " array([0.35360026], dtype=float32),\n",
              " array([0.35360026], dtype=float32),\n",
              " array([0.35360026], dtype=float32),\n",
              " array([0.35360026], dtype=float32),\n",
              " array([0.35360026], dtype=float32),\n",
              " array([0.35360026], dtype=float32),\n",
              " array([0.35360026], dtype=float32),\n",
              " array([0.35360026], dtype=float32),\n",
              " array([0.35360026], dtype=float32),\n",
              " array([0.35360026], dtype=float32),\n",
              " array([0.35360026], dtype=float32),\n",
              " array([0.35360026], dtype=float32),\n",
              " array([0.35360026], dtype=float32),\n",
              " array([0.35360026], dtype=float32),\n",
              " array([0.35360026], dtype=float32),\n",
              " array([0.35360026], dtype=float32),\n",
              " array([0.35360026], dtype=float32),\n",
              " array([0.35360026], dtype=float32),\n",
              " array([0.35360026], dtype=float32),\n",
              " array([0.35360026], dtype=float32),\n",
              " array([0.35360026], dtype=float32),\n",
              " array([0.35360026], dtype=float32),\n",
              " array([0.35360026], dtype=float32),\n",
              " array([0.35360026], dtype=float32),\n",
              " array([0.35360026], dtype=float32),\n",
              " array([0.35360026], dtype=float32),\n",
              " array([0.35360026], dtype=float32),\n",
              " array([0.35360026], dtype=float32),\n",
              " array([0.35360026], dtype=float32),\n",
              " array([0.35360026], dtype=float32),\n",
              " array([0.35360026], dtype=float32),\n",
              " array([0.35360026], dtype=float32),\n",
              " array([0.35360026], dtype=float32),\n",
              " array([0.35360026], dtype=float32),\n",
              " array([0.35360026], dtype=float32),\n",
              " array([0.35360026], dtype=float32),\n",
              " array([0.35360026], dtype=float32),\n",
              " array([0.35360026], dtype=float32),\n",
              " array([0.35360026], dtype=float32),\n",
              " array([0.35360026], dtype=float32),\n",
              " array([0.35360026], dtype=float32),\n",
              " array([0.35360026], dtype=float32),\n",
              " array([0.35360026], dtype=float32),\n",
              " array([0.35360026], dtype=float32),\n",
              " array([0.35360026], dtype=float32),\n",
              " array([0.35360026], dtype=float32),\n",
              " array([0.35360026], dtype=float32),\n",
              " array([0.35360026], dtype=float32),\n",
              " array([0.35360026], dtype=float32),\n",
              " array([0.35360026], dtype=float32),\n",
              " array([0.35360026], dtype=float32),\n",
              " array([0.35360026], dtype=float32),\n",
              " array([0.35360026], dtype=float32),\n",
              " array([0.35360026], dtype=float32),\n",
              " array([0.35360026], dtype=float32),\n",
              " array([0.35360026], dtype=float32),\n",
              " array([0.35360026], dtype=float32),\n",
              " array([0.35360026], dtype=float32),\n",
              " array([0.35360026], dtype=float32),\n",
              " array([0.35360026], dtype=float32),\n",
              " array([0.35360026], dtype=float32),\n",
              " array([0.35360026], dtype=float32),\n",
              " array([0.35360026], dtype=float32),\n",
              " array([0.35360026], dtype=float32),\n",
              " array([0.35360026], dtype=float32),\n",
              " array([0.35360026], dtype=float32),\n",
              " array([0.35360026], dtype=float32),\n",
              " array([0.35360026], dtype=float32),\n",
              " array([0.35360026], dtype=float32),\n",
              " array([0.35360026], dtype=float32),\n",
              " array([0.35360026], dtype=float32),\n",
              " array([0.35360026], dtype=float32),\n",
              " array([0.35360026], dtype=float32),\n",
              " array([0.35360026], dtype=float32),\n",
              " array([0.35360026], dtype=float32),\n",
              " array([0.35360026], dtype=float32),\n",
              " array([0.35360026], dtype=float32),\n",
              " array([0.35360026], dtype=float32),\n",
              " array([0.35360026], dtype=float32),\n",
              " array([0.35360026], dtype=float32),\n",
              " array([0.35360026], dtype=float32),\n",
              " array([0.35360026], dtype=float32),\n",
              " array([0.35360026], dtype=float32),\n",
              " array([0.35360026], dtype=float32),\n",
              " array([0.35360026], dtype=float32),\n",
              " array([0.35360026], dtype=float32),\n",
              " array([0.35360026], dtype=float32),\n",
              " array([0.35360026], dtype=float32),\n",
              " array([0.35360026], dtype=float32),\n",
              " array([0.35360026], dtype=float32),\n",
              " array([0.35360026], dtype=float32),\n",
              " array([0.35360026], dtype=float32),\n",
              " array([0.35360026], dtype=float32),\n",
              " array([0.35360026], dtype=float32),\n",
              " array([0.35360026], dtype=float32),\n",
              " array([0.35360026], dtype=float32),\n",
              " array([0.35360026], dtype=float32),\n",
              " array([0.35360026], dtype=float32),\n",
              " array([0.35360026], dtype=float32),\n",
              " array([0.35360026], dtype=float32),\n",
              " array([0.35360026], dtype=float32),\n",
              " array([0.35360026], dtype=float32),\n",
              " array([0.35360026], dtype=float32),\n",
              " array([0.35360026], dtype=float32),\n",
              " array([0.35360026], dtype=float32),\n",
              " array([0.35360026], dtype=float32),\n",
              " array([0.35360026], dtype=float32),\n",
              " array([0.35360026], dtype=float32),\n",
              " array([0.35360026], dtype=float32),\n",
              " array([0.35360026], dtype=float32),\n",
              " array([0.35360026], dtype=float32),\n",
              " array([0.35360026], dtype=float32),\n",
              " array([0.35360026], dtype=float32)]"
            ]
          },
          "metadata": {
            "tags": []
          },
          "execution_count": 64
        }
      ]
    },
    {
      "cell_type": "code",
      "metadata": {
        "colab": {
          "base_uri": "https://localhost:8080/"
        },
        "id": "cpfePwTmNlQV",
        "outputId": "88566615-0daf-4b5e-8022-18f0ddb169b6"
      },
      "source": [
        "len(test_predictions_2)"
      ],
      "execution_count": 65,
      "outputs": [
        {
          "output_type": "execute_result",
          "data": {
            "text/plain": [
              "172"
            ]
          },
          "metadata": {
            "tags": []
          },
          "execution_count": 65
        }
      ]
    },
    {
      "cell_type": "code",
      "metadata": {
        "id": "JdrQsryWNlJV"
      },
      "source": [
        "predictions_2 = scaler.inverse_transform(test_predictions_2)"
      ],
      "execution_count": 66,
      "outputs": []
    },
    {
      "cell_type": "code",
      "metadata": {
        "colab": {
          "base_uri": "https://localhost:8080/"
        },
        "id": "R0-rmTVmNlEG",
        "outputId": "34eb3255-89f6-43ad-eea6-badf0ec3102c"
      },
      "source": [
        "predictions_2"
      ],
      "execution_count": 67,
      "outputs": [
        {
          "output_type": "execute_result",
          "data": {
            "text/plain": [
              "array([[-0.00428539],\n",
              "       [-0.00426617],\n",
              "       [-0.0043064 ],\n",
              "       [-0.00432343],\n",
              "       [-0.00433363],\n",
              "       [-0.00434148],\n",
              "       [-0.00434501],\n",
              "       [-0.00435056],\n",
              "       [-0.0043506 ],\n",
              "       [-0.00434951],\n",
              "       [-0.00435092],\n",
              "       [-0.00435104],\n",
              "       [-0.00435113],\n",
              "       [-0.00435117],\n",
              "       [-0.00435121],\n",
              "       [-0.00435122],\n",
              "       [-0.00435123],\n",
              "       [-0.00435123],\n",
              "       [-0.00435123],\n",
              "       [-0.00435123],\n",
              "       [-0.00435123],\n",
              "       [-0.00435123],\n",
              "       [-0.00435123],\n",
              "       [-0.00435123],\n",
              "       [-0.00435123],\n",
              "       [-0.00435123],\n",
              "       [-0.00435123],\n",
              "       [-0.00435123],\n",
              "       [-0.00435123],\n",
              "       [-0.00435123],\n",
              "       [-0.00435123],\n",
              "       [-0.00435123],\n",
              "       [-0.00435123],\n",
              "       [-0.00435123],\n",
              "       [-0.00435123],\n",
              "       [-0.00435123],\n",
              "       [-0.00435123],\n",
              "       [-0.00435123],\n",
              "       [-0.00435123],\n",
              "       [-0.00435123],\n",
              "       [-0.00435123],\n",
              "       [-0.00435123],\n",
              "       [-0.00435123],\n",
              "       [-0.00435123],\n",
              "       [-0.00435123],\n",
              "       [-0.00435123],\n",
              "       [-0.00435123],\n",
              "       [-0.00435123],\n",
              "       [-0.00435123],\n",
              "       [-0.00435123],\n",
              "       [-0.00435123],\n",
              "       [-0.00435123],\n",
              "       [-0.00435123],\n",
              "       [-0.00435123],\n",
              "       [-0.00435123],\n",
              "       [-0.00435123],\n",
              "       [-0.00435123],\n",
              "       [-0.00435123],\n",
              "       [-0.00435123],\n",
              "       [-0.00435123],\n",
              "       [-0.00435123],\n",
              "       [-0.00435123],\n",
              "       [-0.00435123],\n",
              "       [-0.00435123],\n",
              "       [-0.00435123],\n",
              "       [-0.00435123],\n",
              "       [-0.00435123],\n",
              "       [-0.00435123],\n",
              "       [-0.00435123],\n",
              "       [-0.00435123],\n",
              "       [-0.00435123],\n",
              "       [-0.00435123],\n",
              "       [-0.00435123],\n",
              "       [-0.00435123],\n",
              "       [-0.00435123],\n",
              "       [-0.00435123],\n",
              "       [-0.00435123],\n",
              "       [-0.00435123],\n",
              "       [-0.00435123],\n",
              "       [-0.00435123],\n",
              "       [-0.00435123],\n",
              "       [-0.00435123],\n",
              "       [-0.00435123],\n",
              "       [-0.00435123],\n",
              "       [-0.00435123],\n",
              "       [-0.00435123],\n",
              "       [-0.00435123],\n",
              "       [-0.00435123],\n",
              "       [-0.00435123],\n",
              "       [-0.00435123],\n",
              "       [-0.00435123],\n",
              "       [-0.00435123],\n",
              "       [-0.00435123],\n",
              "       [-0.00435123],\n",
              "       [-0.00435123],\n",
              "       [-0.00435123],\n",
              "       [-0.00435123],\n",
              "       [-0.00435123],\n",
              "       [-0.00435123],\n",
              "       [-0.00435123],\n",
              "       [-0.00435123],\n",
              "       [-0.00435123],\n",
              "       [-0.00435123],\n",
              "       [-0.00435123],\n",
              "       [-0.00435123],\n",
              "       [-0.00435123],\n",
              "       [-0.00435123],\n",
              "       [-0.00435123],\n",
              "       [-0.00435123],\n",
              "       [-0.00435123],\n",
              "       [-0.00435123],\n",
              "       [-0.00435123],\n",
              "       [-0.00435123],\n",
              "       [-0.00435123],\n",
              "       [-0.00435123],\n",
              "       [-0.00435123],\n",
              "       [-0.00435123],\n",
              "       [-0.00435123],\n",
              "       [-0.00435123],\n",
              "       [-0.00435123],\n",
              "       [-0.00435123],\n",
              "       [-0.00435123],\n",
              "       [-0.00435123],\n",
              "       [-0.00435123],\n",
              "       [-0.00435123],\n",
              "       [-0.00435123],\n",
              "       [-0.00435123],\n",
              "       [-0.00435123],\n",
              "       [-0.00435123],\n",
              "       [-0.00435123],\n",
              "       [-0.00435123],\n",
              "       [-0.00435123],\n",
              "       [-0.00435123],\n",
              "       [-0.00435123],\n",
              "       [-0.00435123],\n",
              "       [-0.00435123],\n",
              "       [-0.00435123],\n",
              "       [-0.00435123],\n",
              "       [-0.00435123],\n",
              "       [-0.00435123],\n",
              "       [-0.00435123],\n",
              "       [-0.00435123],\n",
              "       [-0.00435123],\n",
              "       [-0.00435123],\n",
              "       [-0.00435123],\n",
              "       [-0.00435123],\n",
              "       [-0.00435123],\n",
              "       [-0.00435123],\n",
              "       [-0.00435123],\n",
              "       [-0.00435123],\n",
              "       [-0.00435123],\n",
              "       [-0.00435123],\n",
              "       [-0.00435123],\n",
              "       [-0.00435123],\n",
              "       [-0.00435123],\n",
              "       [-0.00435123],\n",
              "       [-0.00435123],\n",
              "       [-0.00435123],\n",
              "       [-0.00435123],\n",
              "       [-0.00435123],\n",
              "       [-0.00435123],\n",
              "       [-0.00435123],\n",
              "       [-0.00435123],\n",
              "       [-0.00435123],\n",
              "       [-0.00435123],\n",
              "       [-0.00435123],\n",
              "       [-0.00435123],\n",
              "       [-0.00435123],\n",
              "       [-0.00435123],\n",
              "       [-0.00435123],\n",
              "       [-0.00435123],\n",
              "       [-0.00435123]])"
            ]
          },
          "metadata": {
            "tags": []
          },
          "execution_count": 67
        }
      ]
    },
    {
      "cell_type": "code",
      "metadata": {
        "colab": {
          "base_uri": "https://localhost:8080/",
          "height": 450
        },
        "id": "OG7ouvvzNk7k",
        "outputId": "979df6dc-6bab-422d-f3cb-82faa041d89b"
      },
      "source": [
        "test"
      ],
      "execution_count": 68,
      "outputs": [
        {
          "output_type": "execute_result",
          "data": {
            "text/html": [
              "<div>\n",
              "<style scoped>\n",
              "    .dataframe tbody tr th:only-of-type {\n",
              "        vertical-align: middle;\n",
              "    }\n",
              "\n",
              "    .dataframe tbody tr th {\n",
              "        vertical-align: top;\n",
              "    }\n",
              "\n",
              "    .dataframe thead th {\n",
              "        text-align: right;\n",
              "    }\n",
              "</style>\n",
              "<table border=\"1\" class=\"dataframe\">\n",
              "  <thead>\n",
              "    <tr style=\"text-align: right;\">\n",
              "      <th></th>\n",
              "      <th>return</th>\n",
              "    </tr>\n",
              "    <tr>\n",
              "      <th>Date</th>\n",
              "      <th></th>\n",
              "    </tr>\n",
              "  </thead>\n",
              "  <tbody>\n",
              "    <tr>\n",
              "      <th>2020-01-02</th>\n",
              "      <td>0.021868</td>\n",
              "    </tr>\n",
              "    <tr>\n",
              "      <th>2020-01-03</th>\n",
              "      <td>-0.005231</td>\n",
              "    </tr>\n",
              "    <tr>\n",
              "      <th>2020-01-06</th>\n",
              "      <td>0.026654</td>\n",
              "    </tr>\n",
              "    <tr>\n",
              "      <th>2020-01-07</th>\n",
              "      <td>-0.001932</td>\n",
              "    </tr>\n",
              "    <tr>\n",
              "      <th>2020-01-08</th>\n",
              "      <td>0.007118</td>\n",
              "    </tr>\n",
              "    <tr>\n",
              "      <th>...</th>\n",
              "      <td>...</td>\n",
              "    </tr>\n",
              "    <tr>\n",
              "      <th>2020-08-31</th>\n",
              "      <td>-0.006039</td>\n",
              "    </tr>\n",
              "    <tr>\n",
              "      <th>2020-09-01</th>\n",
              "      <td>0.015679</td>\n",
              "    </tr>\n",
              "    <tr>\n",
              "      <th>2020-09-02</th>\n",
              "      <td>0.037648</td>\n",
              "    </tr>\n",
              "    <tr>\n",
              "      <th>2020-09-03</th>\n",
              "      <td>-0.051171</td>\n",
              "    </tr>\n",
              "    <tr>\n",
              "      <th>2020-09-04</th>\n",
              "      <td>-0.029641</td>\n",
              "    </tr>\n",
              "  </tbody>\n",
              "</table>\n",
              "<p>172 rows × 1 columns</p>\n",
              "</div>"
            ],
            "text/plain": [
              "              return\n",
              "Date                \n",
              "2020-01-02  0.021868\n",
              "2020-01-03 -0.005231\n",
              "2020-01-06  0.026654\n",
              "2020-01-07 -0.001932\n",
              "2020-01-08  0.007118\n",
              "...              ...\n",
              "2020-08-31 -0.006039\n",
              "2020-09-01  0.015679\n",
              "2020-09-02  0.037648\n",
              "2020-09-03 -0.051171\n",
              "2020-09-04 -0.029641\n",
              "\n",
              "[172 rows x 1 columns]"
            ]
          },
          "metadata": {
            "tags": []
          },
          "execution_count": 68
        }
      ]
    },
    {
      "cell_type": "code",
      "metadata": {
        "id": "s8JikB_kNkx3"
      },
      "source": [
        "true_predictions_2 = pd.DataFrame(data=predictions_2, index= test.index,columns=['predictions_2'])"
      ],
      "execution_count": 69,
      "outputs": []
    },
    {
      "cell_type": "code",
      "metadata": {
        "colab": {
          "base_uri": "https://localhost:8080/",
          "height": 450
        },
        "id": "uYDD1IzrLk14",
        "outputId": "56da47fc-c867-4012-fd75-297eca23798d"
      },
      "source": [
        "true_predictions_2"
      ],
      "execution_count": 70,
      "outputs": [
        {
          "output_type": "execute_result",
          "data": {
            "text/html": [
              "<div>\n",
              "<style scoped>\n",
              "    .dataframe tbody tr th:only-of-type {\n",
              "        vertical-align: middle;\n",
              "    }\n",
              "\n",
              "    .dataframe tbody tr th {\n",
              "        vertical-align: top;\n",
              "    }\n",
              "\n",
              "    .dataframe thead th {\n",
              "        text-align: right;\n",
              "    }\n",
              "</style>\n",
              "<table border=\"1\" class=\"dataframe\">\n",
              "  <thead>\n",
              "    <tr style=\"text-align: right;\">\n",
              "      <th></th>\n",
              "      <th>predictions_2</th>\n",
              "    </tr>\n",
              "    <tr>\n",
              "      <th>Date</th>\n",
              "      <th></th>\n",
              "    </tr>\n",
              "  </thead>\n",
              "  <tbody>\n",
              "    <tr>\n",
              "      <th>2020-01-02</th>\n",
              "      <td>-0.004285</td>\n",
              "    </tr>\n",
              "    <tr>\n",
              "      <th>2020-01-03</th>\n",
              "      <td>-0.004266</td>\n",
              "    </tr>\n",
              "    <tr>\n",
              "      <th>2020-01-06</th>\n",
              "      <td>-0.004306</td>\n",
              "    </tr>\n",
              "    <tr>\n",
              "      <th>2020-01-07</th>\n",
              "      <td>-0.004323</td>\n",
              "    </tr>\n",
              "    <tr>\n",
              "      <th>2020-01-08</th>\n",
              "      <td>-0.004334</td>\n",
              "    </tr>\n",
              "    <tr>\n",
              "      <th>...</th>\n",
              "      <td>...</td>\n",
              "    </tr>\n",
              "    <tr>\n",
              "      <th>2020-08-31</th>\n",
              "      <td>-0.004351</td>\n",
              "    </tr>\n",
              "    <tr>\n",
              "      <th>2020-09-01</th>\n",
              "      <td>-0.004351</td>\n",
              "    </tr>\n",
              "    <tr>\n",
              "      <th>2020-09-02</th>\n",
              "      <td>-0.004351</td>\n",
              "    </tr>\n",
              "    <tr>\n",
              "      <th>2020-09-03</th>\n",
              "      <td>-0.004351</td>\n",
              "    </tr>\n",
              "    <tr>\n",
              "      <th>2020-09-04</th>\n",
              "      <td>-0.004351</td>\n",
              "    </tr>\n",
              "  </tbody>\n",
              "</table>\n",
              "<p>172 rows × 1 columns</p>\n",
              "</div>"
            ],
            "text/plain": [
              "            predictions_2\n",
              "Date                     \n",
              "2020-01-02      -0.004285\n",
              "2020-01-03      -0.004266\n",
              "2020-01-06      -0.004306\n",
              "2020-01-07      -0.004323\n",
              "2020-01-08      -0.004334\n",
              "...                   ...\n",
              "2020-08-31      -0.004351\n",
              "2020-09-01      -0.004351\n",
              "2020-09-02      -0.004351\n",
              "2020-09-03      -0.004351\n",
              "2020-09-04      -0.004351\n",
              "\n",
              "[172 rows x 1 columns]"
            ]
          },
          "metadata": {
            "tags": []
          },
          "execution_count": 70
        }
      ]
    },
    {
      "cell_type": "code",
      "metadata": {
        "colab": {
          "base_uri": "https://localhost:8080/",
          "height": 556
        },
        "id": "GRh82vPeOHBY",
        "outputId": "96957a8f-60e4-404a-acb6-14aebfad39ad"
      },
      "source": [
        "test.plot()\n",
        "true_predictions_2.plot()"
      ],
      "execution_count": 71,
      "outputs": [
        {
          "output_type": "execute_result",
          "data": {
            "text/plain": [
              "<matplotlib.axes._subplots.AxesSubplot at 0x7f776c3fdf10>"
            ]
          },
          "metadata": {
            "tags": []
          },
          "execution_count": 71
        },
        {
          "output_type": "display_data",
          "data": {
            "image/png": "[encoded data removed]",
            "text/plain": [
              "<Figure size 432x288 with 1 Axes>"
            ]
          },
          "metadata": {
            "tags": [],
            "needs_background": "light"
          }
        },
        {
          "output_type": "display_data",
          "data": {
            "image/png": "[encoded data removed]",
            "text/plain": [
              "<Figure size 432x288 with 1 Axes>"
            ]
          },
          "metadata": {
            "tags": [],
            "needs_background": "light"
          }
        }
      ]
    },
    {
      "cell_type": "code",
      "metadata": {
        "colab": {
          "base_uri": "https://localhost:8080/",
          "height": 296
        },
        "id": "QbzdcLm5OG2k",
        "outputId": "eaa2715b-6978-44e7-cf85-4e802c003715"
      },
      "source": [
        "ax = test.plot()\n",
        "true_predictions_2.plot(ax=ax)"
      ],
      "execution_count": 72,
      "outputs": [
        {
          "output_type": "execute_result",
          "data": {
            "text/plain": [
              "<matplotlib.axes._subplots.AxesSubplot at 0x7f776c64e3d0>"
            ]
          },
          "metadata": {
            "tags": []
          },
          "execution_count": 72
        },
        {
          "output_type": "display_data",
          "data": {
            "image/png": "[encoded data removed]",
            "text/plain": [
              "<Figure size 432x288 with 1 Axes>"
            ]
          },
          "metadata": {
            "tags": [],
            "needs_background": "light"
          }
        }
      ]
    },
    {
      "cell_type": "markdown",
      "metadata": {
        "id": "QrReFgNWOxqk"
      },
      "source": [
        "**So, Even the prediction of return is not feasible with the LSTM model. The graphs show the same trend as in the first notebook. Also, the result for the single-step prediction is even worse in this case.Now, We can also try to classify the return value in +ve or -ve return that'll also be of huge value.**"
      ]
    }
  ]
}