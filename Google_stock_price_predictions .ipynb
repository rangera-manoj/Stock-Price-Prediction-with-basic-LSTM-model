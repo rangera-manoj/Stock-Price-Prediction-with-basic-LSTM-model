{
  "nbformat": 4,
  "nbformat_minor": 0,
  "metadata": {
    "accelerator": "GPU",
    "colab": {
      "name": "Google_stock_price_predictions.ipynb",
      "provenance": [],
      "collapsed_sections": []
    },
    "kernelspec": {
      "display_name": "Python 3",
      "name": "python3"
    },
    "language_info": {
      "name": "python"
    }
  },
  "cells": [
    {
      "cell_type": "code",
      "metadata": {
        "colab": {
          "base_uri": "https://localhost:8080/"
        },
        "id": "PlW4q0zsW1kN",
        "outputId": "cc38d574-e7a0-40ed-9cf7-244efca9faab"
      },
      "source": [
        "from google.colab import drive\n",
        "drive.mount('/content/drive')"
      ],
      "execution_count": 1,
      "outputs": [
        {
          "output_type": "stream",
          "name": "stdout",
          "text": [
            "Drive already mounted at /content/drive; to attempt to forcibly remount, call drive.mount(\"/content/drive\", force_remount=True).\n"
          ]
        }
      ]
    },
    {
      "cell_type": "code",
      "metadata": {
        "id": "lCz7V2WTC40Z"
      },
      "source": [
        "import tensorflow as tf\n",
        "import numpy as np\n",
        "import pandas as pd\n",
        "import matplotlib.pyplot as plt"
      ],
      "execution_count": 2,
      "outputs": []
    },
    {
      "cell_type": "code",
      "metadata": {
        "id": "-WC519WlDKjA"
      },
      "source": [
        "df = pd.read_csv('/content/drive/MyDrive/google_stock/GOOGL.csv', index_col= 'Date', parse_dates=True)"
      ],
      "execution_count": 3,
      "outputs": []
    },
    {
      "cell_type": "code",
      "metadata": {
        "colab": {
          "base_uri": "https://localhost:8080/",
          "height": 236
        },
        "id": "olZtVC6vDc2h",
        "outputId": "907671bb-f37c-4fd0-ad34-a145e2407074"
      },
      "source": [
        "df.head()"
      ],
      "execution_count": 4,
      "outputs": [
        {
          "output_type": "execute_result",
          "data": {
            "text/html": [
              "<div>\n",
              "<style scoped>\n",
              "    .dataframe tbody tr th:only-of-type {\n",
              "        vertical-align: middle;\n",
              "    }\n",
              "\n",
              "    .dataframe tbody tr th {\n",
              "        vertical-align: top;\n",
              "    }\n",
              "\n",
              "    .dataframe thead th {\n",
              "        text-align: right;\n",
              "    }\n",
              "</style>\n",
              "<table border=\"1\" class=\"dataframe\">\n",
              "  <thead>\n",
              "    <tr style=\"text-align: right;\">\n",
              "      <th></th>\n",
              "      <th>Open</th>\n",
              "      <th>High</th>\n",
              "      <th>Low</th>\n",
              "      <th>Close</th>\n",
              "      <th>Adj Close</th>\n",
              "      <th>Volume</th>\n",
              "    </tr>\n",
              "    <tr>\n",
              "      <th>Date</th>\n",
              "      <th></th>\n",
              "      <th></th>\n",
              "      <th></th>\n",
              "      <th></th>\n",
              "      <th></th>\n",
              "      <th></th>\n",
              "    </tr>\n",
              "  </thead>\n",
              "  <tbody>\n",
              "    <tr>\n",
              "      <th>2004-08-19</th>\n",
              "      <td>50.050049</td>\n",
              "      <td>52.082081</td>\n",
              "      <td>48.028027</td>\n",
              "      <td>50.220219</td>\n",
              "      <td>50.220219</td>\n",
              "      <td>44659000</td>\n",
              "    </tr>\n",
              "    <tr>\n",
              "      <th>2004-08-20</th>\n",
              "      <td>50.555557</td>\n",
              "      <td>54.594593</td>\n",
              "      <td>50.300301</td>\n",
              "      <td>54.209209</td>\n",
              "      <td>54.209209</td>\n",
              "      <td>22834300</td>\n",
              "    </tr>\n",
              "    <tr>\n",
              "      <th>2004-08-23</th>\n",
              "      <td>55.430431</td>\n",
              "      <td>56.796795</td>\n",
              "      <td>54.579578</td>\n",
              "      <td>54.754753</td>\n",
              "      <td>54.754753</td>\n",
              "      <td>18256100</td>\n",
              "    </tr>\n",
              "    <tr>\n",
              "      <th>2004-08-24</th>\n",
              "      <td>55.675674</td>\n",
              "      <td>55.855854</td>\n",
              "      <td>51.836838</td>\n",
              "      <td>52.487488</td>\n",
              "      <td>52.487488</td>\n",
              "      <td>15247300</td>\n",
              "    </tr>\n",
              "    <tr>\n",
              "      <th>2004-08-25</th>\n",
              "      <td>52.532532</td>\n",
              "      <td>54.054054</td>\n",
              "      <td>51.991993</td>\n",
              "      <td>53.053055</td>\n",
              "      <td>53.053055</td>\n",
              "      <td>9188600</td>\n",
              "    </tr>\n",
              "  </tbody>\n",
              "</table>\n",
              "</div>"
            ],
            "text/plain": [
              "                 Open       High        Low      Close  Adj Close    Volume\n",
              "Date                                                                       \n",
              "2004-08-19  50.050049  52.082081  48.028027  50.220219  50.220219  44659000\n",
              "2004-08-20  50.555557  54.594593  50.300301  54.209209  54.209209  22834300\n",
              "2004-08-23  55.430431  56.796795  54.579578  54.754753  54.754753  18256100\n",
              "2004-08-24  55.675674  55.855854  51.836838  52.487488  52.487488  15247300\n",
              "2004-08-25  52.532532  54.054054  51.991993  53.053055  53.053055   9188600"
            ]
          },
          "metadata": {},
          "execution_count": 4
        }
      ]
    },
    {
      "cell_type": "code",
      "metadata": {
        "colab": {
          "base_uri": "https://localhost:8080/"
        },
        "id": "e9Qkbuh_DkwC",
        "outputId": "079d099d-c0e1-48c4-cb78-804cbd7f7bb5"
      },
      "source": [
        "len(df)"
      ],
      "execution_count": 5,
      "outputs": [
        {
          "output_type": "execute_result",
          "data": {
            "text/plain": [
              "4041"
            ]
          },
          "metadata": {},
          "execution_count": 5
        }
      ]
    },
    {
      "cell_type": "code",
      "metadata": {
        "colab": {
          "base_uri": "https://localhost:8080/"
        },
        "id": "PJdAXub0DrXh",
        "outputId": "93bcce7c-3020-4018-ed9c-cab5386ad8a7"
      },
      "source": [
        "df.isna().sum()"
      ],
      "execution_count": 6,
      "outputs": [
        {
          "output_type": "execute_result",
          "data": {
            "text/plain": [
              "Open         0\n",
              "High         0\n",
              "Low          0\n",
              "Close        0\n",
              "Adj Close    0\n",
              "Volume       0\n",
              "dtype: int64"
            ]
          },
          "metadata": {},
          "execution_count": 6
        }
      ]
    },
    {
      "cell_type": "code",
      "metadata": {
        "colab": {
          "base_uri": "https://localhost:8080/"
        },
        "id": "Mq1N3KGsDuVr",
        "outputId": "226853db-88eb-43c6-c6ed-c6d8212f9cbf"
      },
      "source": [
        "df.info()"
      ],
      "execution_count": 7,
      "outputs": [
        {
          "output_type": "stream",
          "name": "stdout",
          "text": [
            "<class 'pandas.core.frame.DataFrame'>\n",
            "DatetimeIndex: 4041 entries, 2004-08-19 to 2020-09-04\n",
            "Data columns (total 6 columns):\n",
            " #   Column     Non-Null Count  Dtype  \n",
            "---  ------     --------------  -----  \n",
            " 0   Open       4041 non-null   float64\n",
            " 1   High       4041 non-null   float64\n",
            " 2   Low        4041 non-null   float64\n",
            " 3   Close      4041 non-null   float64\n",
            " 4   Adj Close  4041 non-null   float64\n",
            " 5   Volume     4041 non-null   int64  \n",
            "dtypes: float64(5), int64(1)\n",
            "memory usage: 221.0 KB\n"
          ]
        }
      ]
    },
    {
      "cell_type": "code",
      "metadata": {
        "colab": {
          "base_uri": "https://localhost:8080/",
          "height": 236
        },
        "id": "_tpc2hMADxTZ",
        "outputId": "5a1f30a4-4e5e-459e-99ed-b88a6fba7885"
      },
      "source": [
        "df.tail()"
      ],
      "execution_count": 8,
      "outputs": [
        {
          "output_type": "execute_result",
          "data": {
            "text/html": [
              "<div>\n",
              "<style scoped>\n",
              "    .dataframe tbody tr th:only-of-type {\n",
              "        vertical-align: middle;\n",
              "    }\n",
              "\n",
              "    .dataframe tbody tr th {\n",
              "        vertical-align: top;\n",
              "    }\n",
              "\n",
              "    .dataframe thead th {\n",
              "        text-align: right;\n",
              "    }\n",
              "</style>\n",
              "<table border=\"1\" class=\"dataframe\">\n",
              "  <thead>\n",
              "    <tr style=\"text-align: right;\">\n",
              "      <th></th>\n",
              "      <th>Open</th>\n",
              "      <th>High</th>\n",
              "      <th>Low</th>\n",
              "      <th>Close</th>\n",
              "      <th>Adj Close</th>\n",
              "      <th>Volume</th>\n",
              "    </tr>\n",
              "    <tr>\n",
              "      <th>Date</th>\n",
              "      <th></th>\n",
              "      <th></th>\n",
              "      <th></th>\n",
              "      <th></th>\n",
              "      <th></th>\n",
              "      <th></th>\n",
              "    </tr>\n",
              "  </thead>\n",
              "  <tbody>\n",
              "    <tr>\n",
              "      <th>2020-08-31</th>\n",
              "      <td>1643.569946</td>\n",
              "      <td>1644.500000</td>\n",
              "      <td>1625.329956</td>\n",
              "      <td>1629.530029</td>\n",
              "      <td>1629.530029</td>\n",
              "      <td>1321100</td>\n",
              "    </tr>\n",
              "    <tr>\n",
              "      <th>2020-09-01</th>\n",
              "      <td>1632.160034</td>\n",
              "      <td>1659.219971</td>\n",
              "      <td>1629.530029</td>\n",
              "      <td>1655.079956</td>\n",
              "      <td>1655.079956</td>\n",
              "      <td>1133800</td>\n",
              "    </tr>\n",
              "    <tr>\n",
              "      <th>2020-09-02</th>\n",
              "      <td>1668.010010</td>\n",
              "      <td>1726.099976</td>\n",
              "      <td>1660.189941</td>\n",
              "      <td>1717.390015</td>\n",
              "      <td>1717.390015</td>\n",
              "      <td>2476100</td>\n",
              "    </tr>\n",
              "    <tr>\n",
              "      <th>2020-09-03</th>\n",
              "      <td>1699.520020</td>\n",
              "      <td>1700.000000</td>\n",
              "      <td>1607.709961</td>\n",
              "      <td>1629.510010</td>\n",
              "      <td>1629.510010</td>\n",
              "      <td>3180200</td>\n",
              "    </tr>\n",
              "    <tr>\n",
              "      <th>2020-09-04</th>\n",
              "      <td>1609.000000</td>\n",
              "      <td>1634.989990</td>\n",
              "      <td>1537.970093</td>\n",
              "      <td>1581.209961</td>\n",
              "      <td>1581.209961</td>\n",
              "      <td>2792533</td>\n",
              "    </tr>\n",
              "  </tbody>\n",
              "</table>\n",
              "</div>"
            ],
            "text/plain": [
              "                   Open         High  ...    Adj Close   Volume\n",
              "Date                                  ...                      \n",
              "2020-08-31  1643.569946  1644.500000  ...  1629.530029  1321100\n",
              "2020-09-01  1632.160034  1659.219971  ...  1655.079956  1133800\n",
              "2020-09-02  1668.010010  1726.099976  ...  1717.390015  2476100\n",
              "2020-09-03  1699.520020  1700.000000  ...  1629.510010  3180200\n",
              "2020-09-04  1609.000000  1634.989990  ...  1581.209961  2792533\n",
              "\n",
              "[5 rows x 6 columns]"
            ]
          },
          "metadata": {},
          "execution_count": 8
        }
      ]
    },
    {
      "cell_type": "code",
      "metadata": {
        "colab": {
          "base_uri": "https://localhost:8080/",
          "height": 299
        },
        "id": "b_YAN9CnGGYe",
        "outputId": "d881fc8d-04d2-410c-ed64-63dbfe9286dd"
      },
      "source": [
        "df.describe()"
      ],
      "execution_count": 9,
      "outputs": [
        {
          "output_type": "execute_result",
          "data": {
            "text/html": [
              "<div>\n",
              "<style scoped>\n",
              "    .dataframe tbody tr th:only-of-type {\n",
              "        vertical-align: middle;\n",
              "    }\n",
              "\n",
              "    .dataframe tbody tr th {\n",
              "        vertical-align: top;\n",
              "    }\n",
              "\n",
              "    .dataframe thead th {\n",
              "        text-align: right;\n",
              "    }\n",
              "</style>\n",
              "<table border=\"1\" class=\"dataframe\">\n",
              "  <thead>\n",
              "    <tr style=\"text-align: right;\">\n",
              "      <th></th>\n",
              "      <th>Open</th>\n",
              "      <th>High</th>\n",
              "      <th>Low</th>\n",
              "      <th>Close</th>\n",
              "      <th>Adj Close</th>\n",
              "      <th>Volume</th>\n",
              "    </tr>\n",
              "  </thead>\n",
              "  <tbody>\n",
              "    <tr>\n",
              "      <th>count</th>\n",
              "      <td>4041.000000</td>\n",
              "      <td>4041.000000</td>\n",
              "      <td>4041.000000</td>\n",
              "      <td>4041.000000</td>\n",
              "      <td>4041.000000</td>\n",
              "      <td>4.041000e+03</td>\n",
              "    </tr>\n",
              "    <tr>\n",
              "      <th>mean</th>\n",
              "      <td>533.983149</td>\n",
              "      <td>538.995819</td>\n",
              "      <td>528.658860</td>\n",
              "      <td>533.999060</td>\n",
              "      <td>533.999060</td>\n",
              "      <td>6.909802e+06</td>\n",
              "    </tr>\n",
              "    <tr>\n",
              "      <th>std</th>\n",
              "      <td>383.007917</td>\n",
              "      <td>386.590237</td>\n",
              "      <td>379.488087</td>\n",
              "      <td>383.326004</td>\n",
              "      <td>383.326004</td>\n",
              "      <td>7.895987e+06</td>\n",
              "    </tr>\n",
              "    <tr>\n",
              "      <th>min</th>\n",
              "      <td>49.644646</td>\n",
              "      <td>50.920921</td>\n",
              "      <td>48.028027</td>\n",
              "      <td>50.055054</td>\n",
              "      <td>50.055054</td>\n",
              "      <td>5.206000e+05</td>\n",
              "    </tr>\n",
              "    <tr>\n",
              "      <th>25%</th>\n",
              "      <td>241.211212</td>\n",
              "      <td>243.688690</td>\n",
              "      <td>238.873871</td>\n",
              "      <td>241.036041</td>\n",
              "      <td>241.036041</td>\n",
              "      <td>1.844600e+06</td>\n",
              "    </tr>\n",
              "    <tr>\n",
              "      <th>50%</th>\n",
              "      <td>342.592590</td>\n",
              "      <td>345.795807</td>\n",
              "      <td>338.598602</td>\n",
              "      <td>342.177185</td>\n",
              "      <td>342.177185</td>\n",
              "      <td>4.191600e+06</td>\n",
              "    </tr>\n",
              "    <tr>\n",
              "      <th>75%</th>\n",
              "      <td>791.979980</td>\n",
              "      <td>798.000000</td>\n",
              "      <td>786.200012</td>\n",
              "      <td>790.460022</td>\n",
              "      <td>790.460022</td>\n",
              "      <td>8.702600e+06</td>\n",
              "    </tr>\n",
              "    <tr>\n",
              "      <th>max</th>\n",
              "      <td>1699.520020</td>\n",
              "      <td>1726.099976</td>\n",
              "      <td>1660.189941</td>\n",
              "      <td>1717.390015</td>\n",
              "      <td>1717.390015</td>\n",
              "      <td>8.215110e+07</td>\n",
              "    </tr>\n",
              "  </tbody>\n",
              "</table>\n",
              "</div>"
            ],
            "text/plain": [
              "              Open         High  ...    Adj Close        Volume\n",
              "count  4041.000000  4041.000000  ...  4041.000000  4.041000e+03\n",
              "mean    533.983149   538.995819  ...   533.999060  6.909802e+06\n",
              "std     383.007917   386.590237  ...   383.326004  7.895987e+06\n",
              "min      49.644646    50.920921  ...    50.055054  5.206000e+05\n",
              "25%     241.211212   243.688690  ...   241.036041  1.844600e+06\n",
              "50%     342.592590   345.795807  ...   342.177185  4.191600e+06\n",
              "75%     791.979980   798.000000  ...   790.460022  8.702600e+06\n",
              "max    1699.520020  1726.099976  ...  1717.390015  8.215110e+07\n",
              "\n",
              "[8 rows x 6 columns]"
            ]
          },
          "metadata": {},
          "execution_count": 9
        }
      ]
    },
    {
      "cell_type": "code",
      "metadata": {
        "colab": {
          "base_uri": "https://localhost:8080/",
          "height": 1000
        },
        "id": "cpE1wLeTGGSG",
        "outputId": "c52d54c1-e265-464f-dddc-1cb2d8dc22d8"
      },
      "source": [
        "df.hist(figsize = (17,17))\n",
        "plt.show()"
      ],
      "execution_count": 10,
      "outputs": [
        {
          "output_type": "display_data",
          "data": {
            "image/png": "[encoded data removed]",
            "text/plain": [
              "<Figure size 1224x1224 with 6 Axes>"
            ]
          },
          "metadata": {
            "needs_background": "light"
          }
        }
      ]
    },
    {
      "cell_type": "code",
      "metadata": {
        "colab": {
          "base_uri": "https://localhost:8080/",
          "height": 236
        },
        "id": "V_1m01AvJpTe",
        "outputId": "fa6da020-63a5-49a6-a064-47107103ed9a"
      },
      "source": [
        "df.corr()"
      ],
      "execution_count": 11,
      "outputs": [
        {
          "output_type": "execute_result",
          "data": {
            "text/html": [
              "<div>\n",
              "<style scoped>\n",
              "    .dataframe tbody tr th:only-of-type {\n",
              "        vertical-align: middle;\n",
              "    }\n",
              "\n",
              "    .dataframe tbody tr th {\n",
              "        vertical-align: top;\n",
              "    }\n",
              "\n",
              "    .dataframe thead th {\n",
              "        text-align: right;\n",
              "    }\n",
              "</style>\n",
              "<table border=\"1\" class=\"dataframe\">\n",
              "  <thead>\n",
              "    <tr style=\"text-align: right;\">\n",
              "      <th></th>\n",
              "      <th>Open</th>\n",
              "      <th>High</th>\n",
              "      <th>Low</th>\n",
              "      <th>Close</th>\n",
              "      <th>Adj Close</th>\n",
              "      <th>Volume</th>\n",
              "    </tr>\n",
              "  </thead>\n",
              "  <tbody>\n",
              "    <tr>\n",
              "      <th>Open</th>\n",
              "      <td>1.000000</td>\n",
              "      <td>0.999891</td>\n",
              "      <td>0.999852</td>\n",
              "      <td>0.999747</td>\n",
              "      <td>0.999747</td>\n",
              "      <td>-0.537342</td>\n",
              "    </tr>\n",
              "    <tr>\n",
              "      <th>High</th>\n",
              "      <td>0.999891</td>\n",
              "      <td>1.000000</td>\n",
              "      <td>0.999809</td>\n",
              "      <td>0.999868</td>\n",
              "      <td>0.999868</td>\n",
              "      <td>-0.535615</td>\n",
              "    </tr>\n",
              "    <tr>\n",
              "      <th>Low</th>\n",
              "      <td>0.999852</td>\n",
              "      <td>0.999809</td>\n",
              "      <td>1.000000</td>\n",
              "      <td>0.999880</td>\n",
              "      <td>0.999880</td>\n",
              "      <td>-0.539565</td>\n",
              "    </tr>\n",
              "    <tr>\n",
              "      <th>Close</th>\n",
              "      <td>0.999747</td>\n",
              "      <td>0.999868</td>\n",
              "      <td>0.999880</td>\n",
              "      <td>1.000000</td>\n",
              "      <td>1.000000</td>\n",
              "      <td>-0.537584</td>\n",
              "    </tr>\n",
              "    <tr>\n",
              "      <th>Adj Close</th>\n",
              "      <td>0.999747</td>\n",
              "      <td>0.999868</td>\n",
              "      <td>0.999880</td>\n",
              "      <td>1.000000</td>\n",
              "      <td>1.000000</td>\n",
              "      <td>-0.537584</td>\n",
              "    </tr>\n",
              "    <tr>\n",
              "      <th>Volume</th>\n",
              "      <td>-0.537342</td>\n",
              "      <td>-0.535615</td>\n",
              "      <td>-0.539565</td>\n",
              "      <td>-0.537584</td>\n",
              "      <td>-0.537584</td>\n",
              "      <td>1.000000</td>\n",
              "    </tr>\n",
              "  </tbody>\n",
              "</table>\n",
              "</div>"
            ],
            "text/plain": [
              "               Open      High       Low     Close  Adj Close    Volume\n",
              "Open       1.000000  0.999891  0.999852  0.999747   0.999747 -0.537342\n",
              "High       0.999891  1.000000  0.999809  0.999868   0.999868 -0.535615\n",
              "Low        0.999852  0.999809  1.000000  0.999880   0.999880 -0.539565\n",
              "Close      0.999747  0.999868  0.999880  1.000000   1.000000 -0.537584\n",
              "Adj Close  0.999747  0.999868  0.999880  1.000000   1.000000 -0.537584\n",
              "Volume    -0.537342 -0.535615 -0.539565 -0.537584  -0.537584  1.000000"
            ]
          },
          "metadata": {},
          "execution_count": 11
        }
      ]
    },
    {
      "cell_type": "code",
      "metadata": {
        "id": "ka4OnUc5WM4k"
      },
      "source": [
        "import seaborn as sns"
      ],
      "execution_count": 12,
      "outputs": []
    },
    {
      "cell_type": "code",
      "metadata": {
        "colab": {
          "base_uri": "https://localhost:8080/",
          "height": 483
        },
        "id": "8sTjI2VZTO28",
        "outputId": "567c69ef-adf9-45fd-aa0a-e1fdd0e1bfc7"
      },
      "source": [
        "fig, ax = plt.subplots(figsize= (12,8))\n",
        "ax = sns.heatmap(df.corr(), annot = True, cmap = 'coolwarm',cbar = False)"
      ],
      "execution_count": 13,
      "outputs": [
        {
          "output_type": "display_data",
          "data": {
            "image/png": "[encoded data removed]",
            "text/plain": [
              "<Figure size 864x576 with 1 Axes>"
            ]
          },
          "metadata": {
            "needs_background": "light"
          }
        }
      ]
    },
    {
      "cell_type": "code",
      "metadata": {
        "id": "Dsq_ncCYGa2L"
      },
      "source": [
        "df.drop([ 'High', 'Open', 'Low', 'Adj Close', 'Volume'], axis=1,inplace=True)"
      ],
      "execution_count": 14,
      "outputs": []
    },
    {
      "cell_type": "code",
      "metadata": {
        "colab": {
          "base_uri": "https://localhost:8080/",
          "height": 454
        },
        "id": "VI2ZxLZ7Gapk",
        "outputId": "dc48600b-0c3d-4b7d-aa4c-f2d140f8c472"
      },
      "source": [
        "df"
      ],
      "execution_count": 15,
      "outputs": [
        {
          "output_type": "execute_result",
          "data": {
            "text/html": [
              "<div>\n",
              "<style scoped>\n",
              "    .dataframe tbody tr th:only-of-type {\n",
              "        vertical-align: middle;\n",
              "    }\n",
              "\n",
              "    .dataframe tbody tr th {\n",
              "        vertical-align: top;\n",
              "    }\n",
              "\n",
              "    .dataframe thead th {\n",
              "        text-align: right;\n",
              "    }\n",
              "</style>\n",
              "<table border=\"1\" class=\"dataframe\">\n",
              "  <thead>\n",
              "    <tr style=\"text-align: right;\">\n",
              "      <th></th>\n",
              "      <th>Close</th>\n",
              "    </tr>\n",
              "    <tr>\n",
              "      <th>Date</th>\n",
              "      <th></th>\n",
              "    </tr>\n",
              "  </thead>\n",
              "  <tbody>\n",
              "    <tr>\n",
              "      <th>2004-08-19</th>\n",
              "      <td>50.220219</td>\n",
              "    </tr>\n",
              "    <tr>\n",
              "      <th>2004-08-20</th>\n",
              "      <td>54.209209</td>\n",
              "    </tr>\n",
              "    <tr>\n",
              "      <th>2004-08-23</th>\n",
              "      <td>54.754753</td>\n",
              "    </tr>\n",
              "    <tr>\n",
              "      <th>2004-08-24</th>\n",
              "      <td>52.487488</td>\n",
              "    </tr>\n",
              "    <tr>\n",
              "      <th>2004-08-25</th>\n",
              "      <td>53.053055</td>\n",
              "    </tr>\n",
              "    <tr>\n",
              "      <th>...</th>\n",
              "      <td>...</td>\n",
              "    </tr>\n",
              "    <tr>\n",
              "      <th>2020-08-31</th>\n",
              "      <td>1629.530029</td>\n",
              "    </tr>\n",
              "    <tr>\n",
              "      <th>2020-09-01</th>\n",
              "      <td>1655.079956</td>\n",
              "    </tr>\n",
              "    <tr>\n",
              "      <th>2020-09-02</th>\n",
              "      <td>1717.390015</td>\n",
              "    </tr>\n",
              "    <tr>\n",
              "      <th>2020-09-03</th>\n",
              "      <td>1629.510010</td>\n",
              "    </tr>\n",
              "    <tr>\n",
              "      <th>2020-09-04</th>\n",
              "      <td>1581.209961</td>\n",
              "    </tr>\n",
              "  </tbody>\n",
              "</table>\n",
              "<p>4041 rows × 1 columns</p>\n",
              "</div>"
            ],
            "text/plain": [
              "                  Close\n",
              "Date                   \n",
              "2004-08-19    50.220219\n",
              "2004-08-20    54.209209\n",
              "2004-08-23    54.754753\n",
              "2004-08-24    52.487488\n",
              "2004-08-25    53.053055\n",
              "...                 ...\n",
              "2020-08-31  1629.530029\n",
              "2020-09-01  1655.079956\n",
              "2020-09-02  1717.390015\n",
              "2020-09-03  1629.510010\n",
              "2020-09-04  1581.209961\n",
              "\n",
              "[4041 rows x 1 columns]"
            ]
          },
          "metadata": {},
          "execution_count": 15
        }
      ]
    },
    {
      "cell_type": "code",
      "metadata": {
        "colab": {
          "base_uri": "https://localhost:8080/",
          "height": 287
        },
        "id": "IME-HwPkP-Wo",
        "outputId": "a6e083ac-bc8e-47a4-98fc-1a17e6b7babe"
      },
      "source": [
        "df.plot()"
      ],
      "execution_count": 16,
      "outputs": [
        {
          "output_type": "execute_result",
          "data": {
            "text/plain": [
              "<matplotlib.axes._subplots.AxesSubplot at 0x7fe1824ad390>"
            ]
          },
          "metadata": {},
          "execution_count": 16
        },
        {
          "output_type": "display_data",
          "data": {
            "image/png": "[encoded data removed]",
            "text/plain": [
              "<Figure size 432x288 with 1 Axes>"
            ]
          },
          "metadata": {
            "needs_background": "light"
          }
        }
      ]
    },
    {
      "cell_type": "markdown",
      "metadata": {
        "id": "-ktr0pZnEGN0"
      },
      "source": [
        "## **train test split**"
      ]
    },
    {
      "cell_type": "code",
      "metadata": {
        "id": "4A42Cy-EKcNQ"
      },
      "source": [
        "test_size = 172"
      ],
      "execution_count": 17,
      "outputs": []
    },
    {
      "cell_type": "code",
      "metadata": {
        "id": "_WgbB_-LKjQi"
      },
      "source": [
        "test_ind = len(df)- test_size"
      ],
      "execution_count": 18,
      "outputs": []
    },
    {
      "cell_type": "code",
      "metadata": {
        "id": "6xpGomn_KjJQ"
      },
      "source": [
        "train = df.iloc[:test_ind]\n",
        "test = df.iloc[test_ind:]"
      ],
      "execution_count": 19,
      "outputs": []
    },
    {
      "cell_type": "code",
      "metadata": {
        "colab": {
          "base_uri": "https://localhost:8080/",
          "height": 236
        },
        "id": "Adom4hx3KjAt",
        "outputId": "08c1503e-f190-482f-f2ad-f2a8a249a2dd"
      },
      "source": [
        "train.head()"
      ],
      "execution_count": 20,
      "outputs": [
        {
          "output_type": "execute_result",
          "data": {
            "text/html": [
              "<div>\n",
              "<style scoped>\n",
              "    .dataframe tbody tr th:only-of-type {\n",
              "        vertical-align: middle;\n",
              "    }\n",
              "\n",
              "    .dataframe tbody tr th {\n",
              "        vertical-align: top;\n",
              "    }\n",
              "\n",
              "    .dataframe thead th {\n",
              "        text-align: right;\n",
              "    }\n",
              "</style>\n",
              "<table border=\"1\" class=\"dataframe\">\n",
              "  <thead>\n",
              "    <tr style=\"text-align: right;\">\n",
              "      <th></th>\n",
              "      <th>Close</th>\n",
              "    </tr>\n",
              "    <tr>\n",
              "      <th>Date</th>\n",
              "      <th></th>\n",
              "    </tr>\n",
              "  </thead>\n",
              "  <tbody>\n",
              "    <tr>\n",
              "      <th>2004-08-19</th>\n",
              "      <td>50.220219</td>\n",
              "    </tr>\n",
              "    <tr>\n",
              "      <th>2004-08-20</th>\n",
              "      <td>54.209209</td>\n",
              "    </tr>\n",
              "    <tr>\n",
              "      <th>2004-08-23</th>\n",
              "      <td>54.754753</td>\n",
              "    </tr>\n",
              "    <tr>\n",
              "      <th>2004-08-24</th>\n",
              "      <td>52.487488</td>\n",
              "    </tr>\n",
              "    <tr>\n",
              "      <th>2004-08-25</th>\n",
              "      <td>53.053055</td>\n",
              "    </tr>\n",
              "  </tbody>\n",
              "</table>\n",
              "</div>"
            ],
            "text/plain": [
              "                Close\n",
              "Date                 \n",
              "2004-08-19  50.220219\n",
              "2004-08-20  54.209209\n",
              "2004-08-23  54.754753\n",
              "2004-08-24  52.487488\n",
              "2004-08-25  53.053055"
            ]
          },
          "metadata": {},
          "execution_count": 20
        }
      ]
    },
    {
      "cell_type": "code",
      "metadata": {
        "colab": {
          "base_uri": "https://localhost:8080/",
          "height": 236
        },
        "id": "FyL9LwqhF3Zq",
        "outputId": "82e41ce2-e54c-4683-afd4-998253d0ba42"
      },
      "source": [
        "test.head()"
      ],
      "execution_count": 21,
      "outputs": [
        {
          "output_type": "execute_result",
          "data": {
            "text/html": [
              "<div>\n",
              "<style scoped>\n",
              "    .dataframe tbody tr th:only-of-type {\n",
              "        vertical-align: middle;\n",
              "    }\n",
              "\n",
              "    .dataframe tbody tr th {\n",
              "        vertical-align: top;\n",
              "    }\n",
              "\n",
              "    .dataframe thead th {\n",
              "        text-align: right;\n",
              "    }\n",
              "</style>\n",
              "<table border=\"1\" class=\"dataframe\">\n",
              "  <thead>\n",
              "    <tr style=\"text-align: right;\">\n",
              "      <th></th>\n",
              "      <th>Close</th>\n",
              "    </tr>\n",
              "    <tr>\n",
              "      <th>Date</th>\n",
              "      <th></th>\n",
              "    </tr>\n",
              "  </thead>\n",
              "  <tbody>\n",
              "    <tr>\n",
              "      <th>2020-01-02</th>\n",
              "      <td>1368.680054</td>\n",
              "    </tr>\n",
              "    <tr>\n",
              "      <th>2020-01-03</th>\n",
              "      <td>1361.520020</td>\n",
              "    </tr>\n",
              "    <tr>\n",
              "      <th>2020-01-06</th>\n",
              "      <td>1397.810059</td>\n",
              "    </tr>\n",
              "    <tr>\n",
              "      <th>2020-01-07</th>\n",
              "      <td>1395.109985</td>\n",
              "    </tr>\n",
              "    <tr>\n",
              "      <th>2020-01-08</th>\n",
              "      <td>1405.040039</td>\n",
              "    </tr>\n",
              "  </tbody>\n",
              "</table>\n",
              "</div>"
            ],
            "text/plain": [
              "                  Close\n",
              "Date                   \n",
              "2020-01-02  1368.680054\n",
              "2020-01-03  1361.520020\n",
              "2020-01-06  1397.810059\n",
              "2020-01-07  1395.109985\n",
              "2020-01-08  1405.040039"
            ]
          },
          "metadata": {},
          "execution_count": 21
        }
      ]
    },
    {
      "cell_type": "code",
      "metadata": {
        "colab": {
          "base_uri": "https://localhost:8080/"
        },
        "id": "UlUsisCHK9qG",
        "outputId": "24387ab3-d2fa-4b61-ff45-76d0b168c6b5"
      },
      "source": [
        "len(train)"
      ],
      "execution_count": 22,
      "outputs": [
        {
          "output_type": "execute_result",
          "data": {
            "text/plain": [
              "3869"
            ]
          },
          "metadata": {},
          "execution_count": 22
        }
      ]
    },
    {
      "cell_type": "code",
      "metadata": {
        "colab": {
          "base_uri": "https://localhost:8080/"
        },
        "id": "8PNl7XefLWBW",
        "outputId": "547233ef-cb91-48f1-b5c1-1ca93dd5978c"
      },
      "source": [
        "len(test)"
      ],
      "execution_count": 23,
      "outputs": [
        {
          "output_type": "execute_result",
          "data": {
            "text/plain": [
              "172"
            ]
          },
          "metadata": {},
          "execution_count": 23
        }
      ]
    },
    {
      "cell_type": "markdown",
      "metadata": {
        "id": "wxuSAZzyLn6g"
      },
      "source": [
        "## **scaling data**"
      ]
    },
    {
      "cell_type": "code",
      "metadata": {
        "id": "njB5VOQlLYaT"
      },
      "source": [
        "from sklearn.preprocessing import MinMaxScaler"
      ],
      "execution_count": 24,
      "outputs": []
    },
    {
      "cell_type": "code",
      "metadata": {
        "id": "3pWfHBE_Lt6x"
      },
      "source": [
        "scaler = MinMaxScaler()"
      ],
      "execution_count": 25,
      "outputs": []
    },
    {
      "cell_type": "code",
      "metadata": {
        "id": "ECHbbRQALxGf"
      },
      "source": [
        "scaled_train = scaler.fit_transform(train)\n"
      ],
      "execution_count": 26,
      "outputs": []
    },
    {
      "cell_type": "code",
      "metadata": {
        "colab": {
          "base_uri": "https://localhost:8080/"
        },
        "id": "eyeVnKfZL4E3",
        "outputId": "7b052c16-2240-4a4e-d5bf-59f3ad0a2fa3"
      },
      "source": [
        "scaled_train"
      ],
      "execution_count": 27,
      "outputs": [
        {
          "output_type": "execute_result",
          "data": {
            "text/plain": [
              "array([[1.25848158e-04],\n",
              "       [3.16527567e-03],\n",
              "       [3.58095518e-03],\n",
              "       ...,\n",
              "       [9.94033932e-01],\n",
              "       [9.82657916e-01],\n",
              "       [9.82414132e-01]])"
            ]
          },
          "metadata": {},
          "execution_count": 27
        }
      ]
    },
    {
      "cell_type": "code",
      "metadata": {
        "colab": {
          "base_uri": "https://localhost:8080/"
        },
        "id": "6CH8gk7pL9wH",
        "outputId": "e4b86866-6a37-419b-8fc1-17fd70873d1d"
      },
      "source": [
        "scaled_train.shape\n"
      ],
      "execution_count": 28,
      "outputs": [
        {
          "output_type": "execute_result",
          "data": {
            "text/plain": [
              "(3869, 1)"
            ]
          },
          "metadata": {},
          "execution_count": 28
        }
      ]
    },
    {
      "cell_type": "code",
      "metadata": {
        "id": "UbQj_OGcMEmL"
      },
      "source": [
        "scaled_test = scaler.transform(test)"
      ],
      "execution_count": 29,
      "outputs": []
    },
    {
      "cell_type": "code",
      "metadata": {
        "colab": {
          "base_uri": "https://localhost:8080/"
        },
        "id": "1fbOlcK2MONp",
        "outputId": "6426c610-603f-47bb-ccec-3bf49d18f747"
      },
      "source": [
        "scaled_test.shape"
      ],
      "execution_count": 30,
      "outputs": [
        {
          "output_type": "execute_result",
          "data": {
            "text/plain": [
              "(172, 1)"
            ]
          },
          "metadata": {},
          "execution_count": 30
        }
      ]
    },
    {
      "cell_type": "markdown",
      "metadata": {
        "id": "GLL4UBACMqBR"
      },
      "source": [
        "## **Time series Generator**"
      ]
    },
    {
      "cell_type": "code",
      "metadata": {
        "id": "Uhe6WEnlMpOq"
      },
      "source": [
        "from tensorflow.keras.preprocessing.sequence import TimeseriesGenerator"
      ],
      "execution_count": 31,
      "outputs": []
    },
    {
      "cell_type": "code",
      "metadata": {
        "id": "te2rw7X3MRXs"
      },
      "source": [
        "length = 10"
      ],
      "execution_count": 32,
      "outputs": []
    },
    {
      "cell_type": "code",
      "metadata": {
        "id": "RZVy9ek4NJn8"
      },
      "source": [
        "generator = TimeseriesGenerator(scaled_train, scaled_train, length = length, batch_size = 1)"
      ],
      "execution_count": 33,
      "outputs": []
    },
    {
      "cell_type": "code",
      "metadata": {
        "colab": {
          "base_uri": "https://localhost:8080/"
        },
        "id": "glATyl9jLvvG",
        "outputId": "9d244fe3-3f55-4e29-ded6-c5a20089495c"
      },
      "source": [
        "len(generator)"
      ],
      "execution_count": 34,
      "outputs": [
        {
          "output_type": "execute_result",
          "data": {
            "text/plain": [
              "3859"
            ]
          },
          "metadata": {},
          "execution_count": 34
        }
      ]
    },
    {
      "cell_type": "markdown",
      "metadata": {
        "id": "VH0JfrPlO6Ww"
      },
      "source": [
        "## **Model**"
      ]
    },
    {
      "cell_type": "code",
      "metadata": {
        "id": "lPNOs3zVNYRm"
      },
      "source": [
        "from tensorflow.keras.models import Sequential"
      ],
      "execution_count": 35,
      "outputs": []
    },
    {
      "cell_type": "code",
      "metadata": {
        "id": "NtkEFCtxO_bt"
      },
      "source": [
        "from tensorflow.keras.layers import Dense, LSTM, Dropout"
      ],
      "execution_count": 36,
      "outputs": []
    },
    {
      "cell_type": "code",
      "metadata": {
        "id": "gHhlQNPvPzXx"
      },
      "source": [
        "n_features =1"
      ],
      "execution_count": 37,
      "outputs": []
    },
    {
      "cell_type": "code",
      "metadata": {
        "colab": {
          "base_uri": "https://localhost:8080/"
        },
        "id": "y_yw3BDAP12Y",
        "outputId": "0a2029bd-c170-4a06-ae76-fe7b686f178f"
      },
      "source": [
        "model = Sequential()\n",
        "\n",
        "model.add(LSTM(100, activation='relu', input_shape = (length, n_features)))\n",
        "\n",
        "model.add(Dense(1))\n",
        "\n",
        "model.compile(optimizer = 'adam', loss = 'mse')"
      ],
      "execution_count": 38,
      "outputs": [
        {
          "output_type": "stream",
          "name": "stdout",
          "text": [
            "WARNING:tensorflow:Layer lstm will not use cuDNN kernels since it doesn't meet the criteria. It will use a generic GPU kernel as fallback when running on GPU.\n"
          ]
        }
      ]
    },
    {
      "cell_type": "code",
      "metadata": {
        "colab": {
          "base_uri": "https://localhost:8080/"
        },
        "id": "W6iCVqvlP1pv",
        "outputId": "b08a73db-fe2a-4e1c-caec-9a1afe7972b5"
      },
      "source": [
        "model.summary()"
      ],
      "execution_count": 39,
      "outputs": [
        {
          "output_type": "stream",
          "name": "stdout",
          "text": [
            "Model: \"sequential\"\n",
            "_________________________________________________________________\n",
            "Layer (type)                 Output Shape              Param #   \n",
            "=================================================================\n",
            "lstm (LSTM)                  (None, 100)               40800     \n",
            "_________________________________________________________________\n",
            "dense (Dense)                (None, 1)                 101       \n",
            "=================================================================\n",
            "Total params: 40,901\n",
            "Trainable params: 40,901\n",
            "Non-trainable params: 0\n",
            "_________________________________________________________________\n"
          ]
        }
      ]
    },
    {
      "cell_type": "code",
      "metadata": {
        "id": "ywou9nhBQH_D"
      },
      "source": [
        "validation_generator = TimeseriesGenerator(scaled_test, scaled_test, length = length, batch_size=1)"
      ],
      "execution_count": 40,
      "outputs": []
    },
    {
      "cell_type": "code",
      "metadata": {
        "id": "nlfKO63ydIPd"
      },
      "source": [
        "from tensorflow.keras.callbacks import EarlyStopping"
      ],
      "execution_count": 41,
      "outputs": []
    },
    {
      "cell_type": "code",
      "metadata": {
        "id": "6-qigbXedTB4"
      },
      "source": [
        "early_stop = EarlyStopping(monitor = \"val_loss\", patience= 1, mode = 'min')"
      ],
      "execution_count": 42,
      "outputs": []
    },
    {
      "cell_type": "code",
      "metadata": {
        "colab": {
          "base_uri": "https://localhost:8080/"
        },
        "id": "BmheVsqiQlc8",
        "outputId": "9d2b086a-c508-4e43-bb45-be4df10bc4be"
      },
      "source": [
        "model.fit_generator(generator, epochs = 30, validation_data=validation_generator,\n",
        "                    callbacks = [early_stop])"
      ],
      "execution_count": 43,
      "outputs": [
        {
          "output_type": "stream",
          "name": "stdout",
          "text": [
            "Epoch 1/30\n"
          ]
        },
        {
          "output_type": "stream",
          "name": "stderr",
          "text": [
            "/usr/local/lib/python3.7/dist-packages/keras/engine/training.py:1972: UserWarning: `Model.fit_generator` is deprecated and will be removed in a future version. Please use `Model.fit`, which supports generators.\n",
            "  warnings.warn('`Model.fit_generator` is deprecated and '\n"
          ]
        },
        {
          "output_type": "stream",
          "name": "stdout",
          "text": [
            "3859/3859 [==============================] - 137s 35ms/step - loss: 0.0015 - val_loss: 0.0020\n",
            "Epoch 2/30\n",
            "3859/3859 [==============================] - 133s 34ms/step - loss: 2.6917e-04 - val_loss: 0.0010\n",
            "Epoch 3/30\n",
            "3859/3859 [==============================] - 133s 34ms/step - loss: 1.8806e-04 - val_loss: 7.3912e-04\n",
            "Epoch 4/30\n",
            "3859/3859 [==============================] - 135s 35ms/step - loss: 1.3630e-04 - val_loss: 8.0562e-04\n"
          ]
        },
        {
          "output_type": "execute_result",
          "data": {
            "text/plain": [
              "<keras.callbacks.History at 0x7fe1915de850>"
            ]
          },
          "metadata": {},
          "execution_count": 43
        }
      ]
    },
    {
      "cell_type": "code",
      "metadata": {
        "id": "8-_aweWCTYLz"
      },
      "source": [
        "losses = pd.DataFrame(model.history.history)"
      ],
      "execution_count": 44,
      "outputs": []
    },
    {
      "cell_type": "code",
      "metadata": {
        "colab": {
          "base_uri": "https://localhost:8080/",
          "height": 175
        },
        "id": "O2orVPEQTYI1",
        "outputId": "dc671afb-22ee-4507-ab74-5e6763f623f1"
      },
      "source": [
        "losses"
      ],
      "execution_count": 45,
      "outputs": [
        {
          "output_type": "execute_result",
          "data": {
            "text/html": [
              "<div>\n",
              "<style scoped>\n",
              "    .dataframe tbody tr th:only-of-type {\n",
              "        vertical-align: middle;\n",
              "    }\n",
              "\n",
              "    .dataframe tbody tr th {\n",
              "        vertical-align: top;\n",
              "    }\n",
              "\n",
              "    .dataframe thead th {\n",
              "        text-align: right;\n",
              "    }\n",
              "</style>\n",
              "<table border=\"1\" class=\"dataframe\">\n",
              "  <thead>\n",
              "    <tr style=\"text-align: right;\">\n",
              "      <th></th>\n",
              "      <th>loss</th>\n",
              "      <th>val_loss</th>\n",
              "    </tr>\n",
              "  </thead>\n",
              "  <tbody>\n",
              "    <tr>\n",
              "      <th>0</th>\n",
              "      <td>0.001510</td>\n",
              "      <td>0.001962</td>\n",
              "    </tr>\n",
              "    <tr>\n",
              "      <th>1</th>\n",
              "      <td>0.000269</td>\n",
              "      <td>0.001017</td>\n",
              "    </tr>\n",
              "    <tr>\n",
              "      <th>2</th>\n",
              "      <td>0.000188</td>\n",
              "      <td>0.000739</td>\n",
              "    </tr>\n",
              "    <tr>\n",
              "      <th>3</th>\n",
              "      <td>0.000136</td>\n",
              "      <td>0.000806</td>\n",
              "    </tr>\n",
              "  </tbody>\n",
              "</table>\n",
              "</div>"
            ],
            "text/plain": [
              "       loss  val_loss\n",
              "0  0.001510  0.001962\n",
              "1  0.000269  0.001017\n",
              "2  0.000188  0.000739\n",
              "3  0.000136  0.000806"
            ]
          },
          "metadata": {},
          "execution_count": 45
        }
      ]
    },
    {
      "cell_type": "code",
      "metadata": {
        "colab": {
          "base_uri": "https://localhost:8080/",
          "height": 283
        },
        "id": "3sSIuY1tTYGC",
        "outputId": "00741cba-ef23-4aa6-ddb2-e9b3b74aa03a"
      },
      "source": [
        "losses.plot()"
      ],
      "execution_count": 46,
      "outputs": [
        {
          "output_type": "execute_result",
          "data": {
            "text/plain": [
              "<matplotlib.axes._subplots.AxesSubplot at 0x7fe133e6df50>"
            ]
          },
          "metadata": {},
          "execution_count": 46
        },
        {
          "output_type": "display_data",
          "data": {
            "image/png": "[encoded data removed]",
            "text/plain": [
              "<Figure size 432x288 with 1 Axes>"
            ]
          },
          "metadata": {
            "needs_background": "light"
          }
        }
      ]
    },
    {
      "cell_type": "markdown",
      "metadata": {
        "id": "GXJ5VNSed9KW"
      },
      "source": [
        "## **Single-Step Prediction**"
      ]
    },
    {
      "cell_type": "code",
      "metadata": {
        "id": "odmQWwqFL6GR"
      },
      "source": [
        "test_predictions = []\n",
        "\n",
        "first_eval_batch = scaled_train[-length:]\n",
        "current_batch = first_eval_batch.reshape((1, length, n_features))\n",
        "\n",
        "for i in range(len(test)):\n",
        "  current_pred = model.predict(current_batch)[0]\n",
        "\n",
        "  test_predictions.append(current_pred)\n",
        "\n",
        "  current_batch = np.append(current_batch[:,1:,:],[[scaled_test[i]]], axis = 1)"
      ],
      "execution_count": 47,
      "outputs": []
    },
    {
      "cell_type": "code",
      "metadata": {
        "colab": {
          "base_uri": "https://localhost:8080/"
        },
        "id": "f06Tdxq4To4c",
        "outputId": "64c5f799-9fd2-4556-874c-9b18a4af9edb"
      },
      "source": [
        "test_predictions"
      ],
      "execution_count": 48,
      "outputs": [
        {
          "output_type": "execute_result",
          "data": {
            "text/plain": [
              "[array([0.97446036], dtype=float32),\n",
              " array([0.9899213], dtype=float32),\n",
              " array([0.9904683], dtype=float32),\n",
              " array([1.0088452], dtype=float32),\n",
              " array([1.0114894], dtype=float32),\n",
              " array([1.0182908], dtype=float32),\n",
              " array([1.0279925], dtype=float32),\n",
              " array([1.0350995], dtype=float32),\n",
              " array([1.0431781], dtype=float32),\n",
              " array([1.0405146], dtype=float32),\n",
              " array([1.0457335], dtype=float32),\n",
              " array([1.0532167], dtype=float32),\n",
              " array([1.0704017], dtype=float32),\n",
              " array([1.0749776], dtype=float32),\n",
              " array([1.0782417], dtype=float32),\n",
              " array([1.0802399], dtype=float32),\n",
              " array([1.0710413], dtype=float32),\n",
              " array([1.0500491], dtype=float32),\n",
              " array([1.0544567], dtype=float32),\n",
              " array([1.0605533], dtype=float32),\n",
              " array([1.0606107], dtype=float32),\n",
              " array([1.0483903], dtype=float32),\n",
              " array([1.0714056], dtype=float32),\n",
              " array([1.0577306], dtype=float32),\n",
              " array([1.0537976], dtype=float32),\n",
              " array([1.070434], dtype=float32),\n",
              " array([1.075852], dtype=float32),\n",
              " array([1.0925077], dtype=float32),\n",
              " array([1.0961254], dtype=float32),\n",
              " array([1.1028489], dtype=float32),\n",
              " array([1.1018039], dtype=float32),\n",
              " array([1.1057172], dtype=float32),\n",
              " array([1.1071444], dtype=float32),\n",
              " array([1.1108131], dtype=float32),\n",
              " array([1.1075064], dtype=float32),\n",
              " array([1.0882274], dtype=float32),\n",
              " array([1.047401], dtype=float32),\n",
              " array([1.0177649], dtype=float32),\n",
              " array([1.0128947], dtype=float32),\n",
              " array([0.971585], dtype=float32),\n",
              " array([0.97146595], dtype=float32),\n",
              " array([0.9989719], dtype=float32),\n",
              " array([0.9812058], dtype=float32),\n",
              " array([0.9975432], dtype=float32),\n",
              " array([0.9679602], dtype=float32),\n",
              " array([0.94689363], dtype=float32),\n",
              " array([0.8997148], dtype=float32),\n",
              " array([0.91605306], dtype=float32),\n",
              " array([0.8903868], dtype=float32),\n",
              " array([0.82801735], dtype=float32),\n",
              " array([0.8601941], dtype=float32),\n",
              " array([0.8019966], dtype=float32),\n",
              " array([0.80283266], dtype=float32),\n",
              " array([0.79281026], dtype=float32),\n",
              " array([0.79910076], dtype=float32),\n",
              " array([0.7804836], dtype=float32),\n",
              " array([0.76588875], dtype=float32),\n",
              " array([0.797174], dtype=float32),\n",
              " array([0.79599947], dtype=float32),\n",
              " array([0.8220839], dtype=float32),\n",
              " array([0.80601233], dtype=float32),\n",
              " array([0.82005763], dtype=float32),\n",
              " array([0.8329035], dtype=float32),\n",
              " array([0.80665654], dtype=float32),\n",
              " array([0.8051504], dtype=float32),\n",
              " array([0.7942263], dtype=float32),\n",
              " array([0.829649], dtype=float32),\n",
              " array([0.8452985], dtype=float32),\n",
              " array([0.86114234], dtype=float32),\n",
              " array([0.8661248], dtype=float32),\n",
              " array([0.87146467], dtype=float32),\n",
              " array([0.8933761], dtype=float32),\n",
              " array([0.90130836], dtype=float32),\n",
              " array([0.90644693], dtype=float32),\n",
              " array([0.9196883], dtype=float32),\n",
              " array([0.9149253], dtype=float32),\n",
              " array([0.88895875], dtype=float32),\n",
              " array([0.9044139], dtype=float32),\n",
              " array([0.91758], dtype=float32),\n",
              " array([0.9240215], dtype=float32),\n",
              " array([0.92242545], dtype=float32),\n",
              " array([0.90203553], dtype=float32),\n",
              " array([0.9399278], dtype=float32),\n",
              " array([0.9604483], dtype=float32),\n",
              " array([0.95448697], dtype=float32),\n",
              " array([0.95836824], dtype=float32),\n",
              " array([0.97358865], dtype=float32),\n",
              " array([0.9753424], dtype=float32),\n",
              " array([0.9887595], dtype=float32),\n",
              " array([0.9996841], dtype=float32),\n",
              " array([1.0121729], dtype=float32),\n",
              " array([1.0012542], dtype=float32),\n",
              " array([0.9857472], dtype=float32),\n",
              " array([0.98589945], dtype=float32),\n",
              " array([0.99572366], dtype=float32),\n",
              " array([1.0052825], dtype=float32),\n",
              " array([1.0013219], dtype=float32),\n",
              " array([1.0184804], dtype=float32),\n",
              " array([1.0214967], dtype=float32),\n",
              " array([1.0257915], dtype=float32),\n",
              " array([1.0314177], dtype=float32),\n",
              " array([1.032383], dtype=float32),\n",
              " array([1.0321485], dtype=float32),\n",
              " array([1.040597], dtype=float32),\n",
              " array([1.0435039], dtype=float32),\n",
              " array([1.048314], dtype=float32),\n",
              " array([1.048031], dtype=float32),\n",
              " array([1.0344778], dtype=float32),\n",
              " array([1.0444772], dtype=float32),\n",
              " array([1.0530168], dtype=float32),\n",
              " array([1.0563396], dtype=float32),\n",
              " array([1.0640619], dtype=float32),\n",
              " array([1.0315454], dtype=float32),\n",
              " array([1.0278598], dtype=float32),\n",
              " array([1.0333467], dtype=float32),\n",
              " array([1.0491991], dtype=float32),\n",
              " array([1.0560377], dtype=float32),\n",
              " array([1.0471096], dtype=float32),\n",
              " array([1.0396816], dtype=float32),\n",
              " array([1.0522634], dtype=float32),\n",
              " array([1.0632212], dtype=float32),\n",
              " array([1.0477484], dtype=float32),\n",
              " array([1.0485609], dtype=float32),\n",
              " array([1.0073988], dtype=float32),\n",
              " array([1.0123636], dtype=float32),\n",
              " array([1.0280541], dtype=float32),\n",
              " array([1.0456718], dtype=float32),\n",
              " array([1.0630002], dtype=float32),\n",
              " array([1.0788435], dtype=float32),\n",
              " array([1.0794106], dtype=float32),\n",
              " array([1.0890774], dtype=float32),\n",
              " array([1.0992786], dtype=float32),\n",
              " array([1.1119534], dtype=float32),\n",
              " array([1.1020786], dtype=float32),\n",
              " array([1.1074096], dtype=float32),\n",
              " array([1.1067307], dtype=float32),\n",
              " array([1.1055576], dtype=float32),\n",
              " array([1.1064866], dtype=float32),\n",
              " array([1.1317474], dtype=float32),\n",
              " array([1.1319413], dtype=float32),\n",
              " array([1.1387422], dtype=float32),\n",
              " array([1.1132586], dtype=float32),\n",
              " array([1.1024427], dtype=float32),\n",
              " array([1.1130605], dtype=float32),\n",
              " array([1.1020914], dtype=float32),\n",
              " array([1.1086457], dtype=float32),\n",
              " array([1.1202412], dtype=float32),\n",
              " array([1.0938653], dtype=float32),\n",
              " array([1.083094], dtype=float32),\n",
              " array([1.0767751], dtype=float32),\n",
              " array([1.0783129], dtype=float32),\n",
              " array([1.0933144], dtype=float32),\n",
              " array([1.0934217], dtype=float32),\n",
              " array([1.0918202], dtype=float32),\n",
              " array([1.082689], dtype=float32),\n",
              " array([1.0946968], dtype=float32),\n",
              " array([1.1034642], dtype=float32),\n",
              " array([1.0981193], dtype=float32),\n",
              " array([1.1037303], dtype=float32),\n",
              " array([1.1260359], dtype=float32),\n",
              " array([1.1236374], dtype=float32),\n",
              " array([1.1417061], dtype=float32),\n",
              " array([1.1445132], dtype=float32),\n",
              " array([1.15212], dtype=float32),\n",
              " array([1.1650733], dtype=float32),\n",
              " array([1.184293], dtype=float32),\n",
              " array([1.1836195], dtype=float32),\n",
              " array([1.192599], dtype=float32),\n",
              " array([1.189143], dtype=float32),\n",
              " array([1.204257], dtype=float32),\n",
              " array([1.2313043], dtype=float32),\n",
              " array([1.1945117], dtype=float32)]"
            ]
          },
          "metadata": {},
          "execution_count": 48
        }
      ]
    },
    {
      "cell_type": "code",
      "metadata": {
        "colab": {
          "base_uri": "https://localhost:8080/"
        },
        "id": "vsGgUxPLTsUn",
        "outputId": "20997dea-3b27-45fc-c923-8953f7713b79"
      },
      "source": [
        "len(test_predictions)"
      ],
      "execution_count": 49,
      "outputs": [
        {
          "output_type": "execute_result",
          "data": {
            "text/plain": [
              "172"
            ]
          },
          "metadata": {},
          "execution_count": 49
        }
      ]
    },
    {
      "cell_type": "code",
      "metadata": {
        "id": "VzlpZsjKT3Ds"
      },
      "source": [
        "predictions = scaler.inverse_transform(test_predictions)"
      ],
      "execution_count": 50,
      "outputs": []
    },
    {
      "cell_type": "code",
      "metadata": {
        "colab": {
          "base_uri": "https://localhost:8080/"
        },
        "id": "_QNiX3cnTsO_",
        "outputId": "cd403272-7fed-47ca-81fb-15653eff2504"
      },
      "source": [
        "predictions"
      ],
      "execution_count": 51,
      "outputs": [
        {
          "output_type": "execute_result",
          "data": {
            "text/plain": [
              "array([[1328.95137094],\n",
              "       [1349.24249777],\n",
              "       [1349.96045622],\n",
              "       [1374.07855665],\n",
              "       [1377.54881956],\n",
              "       [1386.47503482],\n",
              "       [1399.20772844],\n",
              "       [1408.53508675],\n",
              "       [1419.13752926],\n",
              "       [1415.64192111],\n",
              "       [1422.4912354 ],\n",
              "       [1432.31235638],\n",
              "       [1454.86617098],\n",
              "       [1460.87173937],\n",
              "       [1465.15555295],\n",
              "       [1467.77800221],\n",
              "       [1455.70569268],\n",
              "       [1428.15511251],\n",
              "       [1433.9397706 ],\n",
              "       [1441.94104134],\n",
              "       [1442.01629477],\n",
              "       [1425.97808224],\n",
              "       [1456.18381015],\n",
              "       [1438.23641325],\n",
              "       [1433.07474722],\n",
              "       [1454.90856949],\n",
              "       [1462.01931516],\n",
              "       [1483.87848266],\n",
              "       [1488.62633301],\n",
              "       [1497.45038508],\n",
              "       [1496.07892641],\n",
              "       [1501.21477785],\n",
              "       [1503.08782179],\n",
              "       [1507.90279008],\n",
              "       [1503.56296667],\n",
              "       [1478.26091536],\n",
              "       [1424.67968668],\n",
              "       [1385.78492483],\n",
              "       [1379.39323278],\n",
              "       [1325.17766927],\n",
              "       [1325.0214519 ],\n",
              "       [1361.1206503 ],\n",
              "       [1337.80421018],\n",
              "       [1359.2456507 ],\n",
              "       [1320.42043179],\n",
              "       [1292.77238199],\n",
              "       [1230.85421471],\n",
              "       [1252.2967504 ],\n",
              "       [1218.61199826],\n",
              "       [1136.75738094],\n",
              "       [1178.98660533],\n",
              "       [1102.6073404 ],\n",
              "       [1103.70461685],\n",
              "       [1090.55106721],\n",
              "       [1098.80680721],\n",
              "       [1074.37337768],\n",
              "       [1055.21887499],\n",
              "       [1096.27807273],\n",
              "       [1094.7366289 ],\n",
              "       [1128.97021484],\n",
              "       [1107.87766238],\n",
              "       [1126.31092112],\n",
              "       [1143.17003756],\n",
              "       [1108.72312926],\n",
              "       [1106.74643583],\n",
              "       [1092.40948289],\n",
              "       [1138.89874015],\n",
              "       [1159.43745235],\n",
              "       [1180.23110316],\n",
              "       [1186.77017304],\n",
              "       [1193.77828616],\n",
              "       [1222.53518986],\n",
              "       [1232.94558748],\n",
              "       [1239.68953132],\n",
              "       [1257.06767743],\n",
              "       [1250.81663578],\n",
              "       [1216.73778093],\n",
              "       [1237.02131983],\n",
              "       [1254.30074471],\n",
              "       [1262.75463122],\n",
              "       [1260.65997295],\n",
              "       [1233.89994499],\n",
              "       [1283.63034113],\n",
              "       [1310.56176232],\n",
              "       [1302.73798644],\n",
              "       [1307.8318305 ],\n",
              "       [1327.80731532],\n",
              "       [1330.10895965],\n",
              "       [1347.71779432],\n",
              "       [1362.05537307],\n",
              "       [1378.44591562],\n",
              "       [1364.11600302],\n",
              "       [1343.76440747],\n",
              "       [1343.96419674],\n",
              "       [1356.85764484],\n",
              "       [1369.40283069],\n",
              "       [1364.20486778],\n",
              "       [1386.72395003],\n",
              "       [1390.68249979],\n",
              "       [1396.31915425],\n",
              "       [1403.70306519],\n",
              "       [1404.96985744],\n",
              "       [1404.66211626],\n",
              "       [1415.75002948],\n",
              "       [1419.56511272],\n",
              "       [1425.87795293],\n",
              "       [1425.50653576],\n",
              "       [1407.71918931],\n",
              "       [1420.8425437 ],\n",
              "       [1432.04998629],\n",
              "       [1436.41093073],\n",
              "       [1446.54573807],\n",
              "       [1403.87062534],\n",
              "       [1399.03359731],\n",
              "       [1406.23461581],\n",
              "       [1427.0396094 ],\n",
              "       [1436.01463769],\n",
              "       [1424.29731787],\n",
              "       [1414.54863419],\n",
              "       [1431.06120934],\n",
              "       [1445.44243821],\n",
              "       [1425.1357444 ],\n",
              "       [1426.20196512],\n",
              "       [1372.18032393],\n",
              "       [1378.69608245],\n",
              "       [1399.28861415],\n",
              "       [1422.4103497 ],\n",
              "       [1445.15237611],\n",
              "       [1465.9453229 ],\n",
              "       [1466.6895653 ],\n",
              "       [1479.37641847],\n",
              "       [1492.76464618],\n",
              "       [1509.39925393],\n",
              "       [1496.43939193],\n",
              "       [1503.4359276 ],\n",
              "       [1502.54493318],\n",
              "       [1501.00528855],\n",
              "       [1502.22451938],\n",
              "       [1535.3771781 ],\n",
              "       [1535.63172558],\n",
              "       [1544.55731503],\n",
              "       [1511.11224743],\n",
              "       [1496.91735294],\n",
              "       [1510.85222412],\n",
              "       [1496.45628875],\n",
              "       [1505.05817891],\n",
              "       [1520.27626979],\n",
              "       [1485.6601586 ],\n",
              "       [1471.52377718],\n",
              "       [1463.23072338],\n",
              "       [1465.24895482],\n",
              "       [1484.93719368],\n",
              "       [1485.07800052],\n",
              "       [1482.97622369],\n",
              "       [1470.99230957],\n",
              "       [1486.75141165],\n",
              "       [1498.25799056],\n",
              "       [1491.24315   ],\n",
              "       [1498.60719153],\n",
              "       [1527.88140394],\n",
              "       [1524.7335887 ],\n",
              "       [1548.44718234],\n",
              "       [1552.13131521],\n",
              "       [1562.11452051],\n",
              "       [1579.11460025],\n",
              "       [1604.33889489],\n",
              "       [1603.45494081],\n",
              "       [1615.23984792],\n",
              "       [1610.70399009],\n",
              "       [1630.53991968],\n",
              "       [1666.03716882],\n",
              "       [1617.74996461]])"
            ]
          },
          "metadata": {},
          "execution_count": 51
        }
      ]
    },
    {
      "cell_type": "code",
      "metadata": {
        "colab": {
          "base_uri": "https://localhost:8080/",
          "height": 454
        },
        "id": "A5z-NOJaTsG1",
        "outputId": "209f57a4-cce9-44c8-c384-617b8736d855"
      },
      "source": [
        "test"
      ],
      "execution_count": 52,
      "outputs": [
        {
          "output_type": "execute_result",
          "data": {
            "text/html": [
              "<div>\n",
              "<style scoped>\n",
              "    .dataframe tbody tr th:only-of-type {\n",
              "        vertical-align: middle;\n",
              "    }\n",
              "\n",
              "    .dataframe tbody tr th {\n",
              "        vertical-align: top;\n",
              "    }\n",
              "\n",
              "    .dataframe thead th {\n",
              "        text-align: right;\n",
              "    }\n",
              "</style>\n",
              "<table border=\"1\" class=\"dataframe\">\n",
              "  <thead>\n",
              "    <tr style=\"text-align: right;\">\n",
              "      <th></th>\n",
              "      <th>Close</th>\n",
              "    </tr>\n",
              "    <tr>\n",
              "      <th>Date</th>\n",
              "      <th></th>\n",
              "    </tr>\n",
              "  </thead>\n",
              "  <tbody>\n",
              "    <tr>\n",
              "      <th>2020-01-02</th>\n",
              "      <td>1368.680054</td>\n",
              "    </tr>\n",
              "    <tr>\n",
              "      <th>2020-01-03</th>\n",
              "      <td>1361.520020</td>\n",
              "    </tr>\n",
              "    <tr>\n",
              "      <th>2020-01-06</th>\n",
              "      <td>1397.810059</td>\n",
              "    </tr>\n",
              "    <tr>\n",
              "      <th>2020-01-07</th>\n",
              "      <td>1395.109985</td>\n",
              "    </tr>\n",
              "    <tr>\n",
              "      <th>2020-01-08</th>\n",
              "      <td>1405.040039</td>\n",
              "    </tr>\n",
              "    <tr>\n",
              "      <th>...</th>\n",
              "      <td>...</td>\n",
              "    </tr>\n",
              "    <tr>\n",
              "      <th>2020-08-31</th>\n",
              "      <td>1629.530029</td>\n",
              "    </tr>\n",
              "    <tr>\n",
              "      <th>2020-09-01</th>\n",
              "      <td>1655.079956</td>\n",
              "    </tr>\n",
              "    <tr>\n",
              "      <th>2020-09-02</th>\n",
              "      <td>1717.390015</td>\n",
              "    </tr>\n",
              "    <tr>\n",
              "      <th>2020-09-03</th>\n",
              "      <td>1629.510010</td>\n",
              "    </tr>\n",
              "    <tr>\n",
              "      <th>2020-09-04</th>\n",
              "      <td>1581.209961</td>\n",
              "    </tr>\n",
              "  </tbody>\n",
              "</table>\n",
              "<p>172 rows × 1 columns</p>\n",
              "</div>"
            ],
            "text/plain": [
              "                  Close\n",
              "Date                   \n",
              "2020-01-02  1368.680054\n",
              "2020-01-03  1361.520020\n",
              "2020-01-06  1397.810059\n",
              "2020-01-07  1395.109985\n",
              "2020-01-08  1405.040039\n",
              "...                 ...\n",
              "2020-08-31  1629.530029\n",
              "2020-09-01  1655.079956\n",
              "2020-09-02  1717.390015\n",
              "2020-09-03  1629.510010\n",
              "2020-09-04  1581.209961\n",
              "\n",
              "[172 rows x 1 columns]"
            ]
          },
          "metadata": {},
          "execution_count": 52
        }
      ]
    },
    {
      "cell_type": "code",
      "metadata": {
        "id": "tSh8Y4dMTr40"
      },
      "source": [
        "true_predictions = pd.DataFrame(data=predictions, index= test.index,columns=['predictions'])"
      ],
      "execution_count": 53,
      "outputs": []
    },
    {
      "cell_type": "code",
      "metadata": {
        "colab": {
          "base_uri": "https://localhost:8080/",
          "height": 454
        },
        "id": "Nkqx-tL5URcq",
        "outputId": "deaf5918-0cb3-487f-f71d-8481e5b688c9"
      },
      "source": [
        "true_predictions"
      ],
      "execution_count": 54,
      "outputs": [
        {
          "output_type": "execute_result",
          "data": {
            "text/html": [
              "<div>\n",
              "<style scoped>\n",
              "    .dataframe tbody tr th:only-of-type {\n",
              "        vertical-align: middle;\n",
              "    }\n",
              "\n",
              "    .dataframe tbody tr th {\n",
              "        vertical-align: top;\n",
              "    }\n",
              "\n",
              "    .dataframe thead th {\n",
              "        text-align: right;\n",
              "    }\n",
              "</style>\n",
              "<table border=\"1\" class=\"dataframe\">\n",
              "  <thead>\n",
              "    <tr style=\"text-align: right;\">\n",
              "      <th></th>\n",
              "      <th>predictions</th>\n",
              "    </tr>\n",
              "    <tr>\n",
              "      <th>Date</th>\n",
              "      <th></th>\n",
              "    </tr>\n",
              "  </thead>\n",
              "  <tbody>\n",
              "    <tr>\n",
              "      <th>2020-01-02</th>\n",
              "      <td>1328.951371</td>\n",
              "    </tr>\n",
              "    <tr>\n",
              "      <th>2020-01-03</th>\n",
              "      <td>1349.242498</td>\n",
              "    </tr>\n",
              "    <tr>\n",
              "      <th>2020-01-06</th>\n",
              "      <td>1349.960456</td>\n",
              "    </tr>\n",
              "    <tr>\n",
              "      <th>2020-01-07</th>\n",
              "      <td>1374.078557</td>\n",
              "    </tr>\n",
              "    <tr>\n",
              "      <th>2020-01-08</th>\n",
              "      <td>1377.548820</td>\n",
              "    </tr>\n",
              "    <tr>\n",
              "      <th>...</th>\n",
              "      <td>...</td>\n",
              "    </tr>\n",
              "    <tr>\n",
              "      <th>2020-08-31</th>\n",
              "      <td>1615.239848</td>\n",
              "    </tr>\n",
              "    <tr>\n",
              "      <th>2020-09-01</th>\n",
              "      <td>1610.703990</td>\n",
              "    </tr>\n",
              "    <tr>\n",
              "      <th>2020-09-02</th>\n",
              "      <td>1630.539920</td>\n",
              "    </tr>\n",
              "    <tr>\n",
              "      <th>2020-09-03</th>\n",
              "      <td>1666.037169</td>\n",
              "    </tr>\n",
              "    <tr>\n",
              "      <th>2020-09-04</th>\n",
              "      <td>1617.749965</td>\n",
              "    </tr>\n",
              "  </tbody>\n",
              "</table>\n",
              "<p>172 rows × 1 columns</p>\n",
              "</div>"
            ],
            "text/plain": [
              "            predictions\n",
              "Date                   \n",
              "2020-01-02  1328.951371\n",
              "2020-01-03  1349.242498\n",
              "2020-01-06  1349.960456\n",
              "2020-01-07  1374.078557\n",
              "2020-01-08  1377.548820\n",
              "...                 ...\n",
              "2020-08-31  1615.239848\n",
              "2020-09-01  1610.703990\n",
              "2020-09-02  1630.539920\n",
              "2020-09-03  1666.037169\n",
              "2020-09-04  1617.749965\n",
              "\n",
              "[172 rows x 1 columns]"
            ]
          },
          "metadata": {},
          "execution_count": 54
        }
      ]
    },
    {
      "cell_type": "code",
      "metadata": {
        "colab": {
          "base_uri": "https://localhost:8080/",
          "height": 555
        },
        "id": "DaODA04AURUg",
        "outputId": "f4ea290f-78f5-40a9-de85-2d3c7f0ebd32"
      },
      "source": [
        "test.plot()\n",
        "true_predictions.plot()"
      ],
      "execution_count": 55,
      "outputs": [
        {
          "output_type": "execute_result",
          "data": {
            "text/plain": [
              "<matplotlib.axes._subplots.AxesSubplot at 0x7fe138671e90>"
            ]
          },
          "metadata": {},
          "execution_count": 55
        },
        {
          "output_type": "display_data",
          "data": {
            "image/png": "[encoded data removed]",
            "text/plain": [
              "<Figure size 432x288 with 1 Axes>"
            ]
          },
          "metadata": {
            "needs_background": "light"
          }
        },
        {
          "output_type": "display_data",
          "data": {
            "image/png": "[encoded data removed]",
            "text/plain": [
              "<Figure size 432x288 with 1 Axes>"
            ]
          },
          "metadata": {
            "needs_background": "light"
          }
        }
      ]
    },
    {
      "cell_type": "code",
      "metadata": {
        "colab": {
          "base_uri": "https://localhost:8080/",
          "height": 295
        },
        "id": "poLvEXv2URYz",
        "outputId": "6e3247d9-4977-43fd-fbef-f8bfcb85ea5d"
      },
      "source": [
        "ax = test.plot()\n",
        "true_predictions.plot(ax=ax)"
      ],
      "execution_count": 56,
      "outputs": [
        {
          "output_type": "execute_result",
          "data": {
            "text/plain": [
              "<matplotlib.axes._subplots.AxesSubplot at 0x7fe136ee17d0>"
            ]
          },
          "metadata": {},
          "execution_count": 56
        },
        {
          "output_type": "display_data",
          "data": {
            "image/png": "[encoded data removed]",
            "text/plain": [
              "<Figure size 432x288 with 1 Axes>"
            ]
          },
          "metadata": {
            "needs_background": "light"
          }
        }
      ]
    },
    {
      "cell_type": "markdown",
      "metadata": {
        "id": "KR1ohTr7eFQT"
      },
      "source": [
        "## **Multi-Step Prediction**"
      ]
    },
    {
      "cell_type": "code",
      "metadata": {
        "id": "43bi_vylURRH"
      },
      "source": [
        "test_predictions_2 = []\n",
        "\n",
        "first_eval_batch = scaled_train[-length:]\n",
        "current_batch = first_eval_batch.reshape((1, length, n_features))\n",
        "\n",
        "for i in range(len(test)):\n",
        "  current_pred = model.predict(current_batch)[0]\n",
        "\n",
        "  test_predictions_2.append(current_pred)\n",
        "\n",
        "  current_batch = np.append(current_batch[:,1:,:],[[current_pred]], axis = 1)"
      ],
      "execution_count": 57,
      "outputs": []
    },
    {
      "cell_type": "code",
      "metadata": {
        "colab": {
          "base_uri": "https://localhost:8080/"
        },
        "id": "OVr0O7QfYWKJ",
        "outputId": "9da700d7-b119-4c0d-afb5-fd8ac6c42a2b"
      },
      "source": [
        "test_predictions_2"
      ],
      "execution_count": 58,
      "outputs": [
        {
          "output_type": "execute_result",
          "data": {
            "text/plain": [
              "[array([0.97446036], dtype=float32),\n",
              " array([0.9687832], dtype=float32),\n",
              " array([0.96283895], dtype=float32),\n",
              " array([0.9570291], dtype=float32),\n",
              " array([0.95128405], dtype=float32),\n",
              " array([0.9455823], dtype=float32),\n",
              " array([0.93994385], dtype=float32),\n",
              " array([0.9343762], dtype=float32),\n",
              " array([0.9288741], dtype=float32),\n",
              " array([0.9234353], dtype=float32),\n",
              " array([0.9180625], dtype=float32),\n",
              " array([0.9127528], dtype=float32),\n",
              " array([0.9075057], dtype=float32),\n",
              " array([0.90231997], dtype=float32),\n",
              " array([0.89719456], dtype=float32),\n",
              " array([0.89212865], dtype=float32),\n",
              " array([0.88712126], dtype=float32),\n",
              " array([0.88217163], dtype=float32),\n",
              " array([0.8772788], dtype=float32),\n",
              " array([0.8724419], dtype=float32),\n",
              " array([0.86766005], dtype=float32),\n",
              " array([0.86293256], dtype=float32),\n",
              " array([0.8582584], dtype=float32),\n",
              " array([0.8536371], dtype=float32),\n",
              " array([0.84906775], dtype=float32),\n",
              " array([0.84454966], dtype=float32),\n",
              " array([0.8400821], dtype=float32),\n",
              " array([0.8356645], dtype=float32),\n",
              " array([0.8312958], dtype=float32),\n",
              " array([0.8269754], dtype=float32),\n",
              " array([0.8227025], dtype=float32),\n",
              " array([0.81847656], dtype=float32),\n",
              " array([0.8142967], dtype=float32),\n",
              " array([0.81016237], dtype=float32),\n",
              " array([0.8060729], dtype=float32),\n",
              " array([0.8020276], dtype=float32),\n",
              " array([0.7980257], dtype=float32),\n",
              " array([0.7940668], dtype=float32),\n",
              " array([0.79015005], dtype=float32),\n",
              " array([0.78627485], dtype=float32),\n",
              " array([0.78244066], dtype=float32),\n",
              " array([0.77864677], dtype=float32),\n",
              " array([0.77489287], dtype=float32),\n",
              " array([0.77117807], dtype=float32),\n",
              " array([0.767502], dtype=float32),\n",
              " array([0.7638639], dtype=float32),\n",
              " array([0.76026356], dtype=float32),\n",
              " array([0.75670004], dtype=float32),\n",
              " array([0.75317305], dtype=float32),\n",
              " array([0.74968207], dtype=float32),\n",
              " array([0.7462265], dtype=float32),\n",
              " array([0.74280584], dtype=float32),\n",
              " array([0.7394196], dtype=float32),\n",
              " array([0.73606735], dtype=float32),\n",
              " array([0.7327485], dtype=float32),\n",
              " array([0.7294627], dtype=float32),\n",
              " array([0.72620934], dtype=float32),\n",
              " array([0.72298807], dtype=float32),\n",
              " array([0.71979845], dtype=float32),\n",
              " array([0.7166399], dtype=float32),\n",
              " array([0.71351206], dtype=float32),\n",
              " array([0.71041465], dtype=float32),\n",
              " array([0.70734704], dtype=float32),\n",
              " array([0.7043089], dtype=float32),\n",
              " array([0.70129985], dtype=float32),\n",
              " array([0.6983195], dtype=float32),\n",
              " array([0.69536734], dtype=float32),\n",
              " array([0.692443], dtype=float32),\n",
              " array([0.6895462], dtype=float32),\n",
              " array([0.6866767], dtype=float32),\n",
              " array([0.68383384], dtype=float32),\n",
              " array([0.6810174], dtype=float32),\n",
              " array([0.67822707], dtype=float32),\n",
              " array([0.6754624], dtype=float32),\n",
              " array([0.67272323], dtype=float32),\n",
              " array([0.67000896], dtype=float32),\n",
              " array([0.6673194], dtype=float32),\n",
              " array([0.6646543], dtype=float32),\n",
              " array([0.6620131], dtype=float32),\n",
              " array([0.6593957], dtype=float32),\n",
              " array([0.65680164], dtype=float32),\n",
              " array([0.65423083], dtype=float32),\n",
              " array([0.6516827], dtype=float32),\n",
              " array([0.64915705], dtype=float32),\n",
              " array([0.64665556], dtype=float32),\n",
              " array([0.6441781], dtype=float32),\n",
              " array([0.6417241], dtype=float32),\n",
              " array([0.63929343], dtype=float32),\n",
              " array([0.636891], dtype=float32),\n",
              " array([0.63451535], dtype=float32),\n",
              " array([0.6321665], dtype=float32),\n",
              " array([0.6298439], dtype=float32),\n",
              " array([0.6275471], dtype=float32),\n",
              " array([0.6252757], dtype=float32),\n",
              " array([0.6230293], dtype=float32),\n",
              " array([0.6208075], dtype=float32),\n",
              " array([0.61861056], dtype=float32),\n",
              " array([0.61643904], dtype=float32),\n",
              " array([0.6142922], dtype=float32),\n",
              " array([0.61216944], dtype=float32),\n",
              " array([0.6100696], dtype=float32),\n",
              " array([0.60799265], dtype=float32),\n",
              " array([0.6059383], dtype=float32),\n",
              " array([0.60390633], dtype=float32),\n",
              " array([0.6018962], dtype=float32),\n",
              " array([0.5999075], dtype=float32),\n",
              " array([0.59794], dtype=float32),\n",
              " array([0.59599346], dtype=float32),\n",
              " array([0.5940678], dtype=float32),\n",
              " array([0.5921628], dtype=float32),\n",
              " array([0.5902777], dtype=float32),\n",
              " array([0.5884119], dtype=float32),\n",
              " array([0.5865655], dtype=float32),\n",
              " array([0.584738], dtype=float32),\n",
              " array([0.5829294], dtype=float32),\n",
              " array([0.5811393], dtype=float32),\n",
              " array([0.5793672], dtype=float32),\n",
              " array([0.5776128], dtype=float32),\n",
              " array([0.5758703], dtype=float32),\n",
              " array([0.57414156], dtype=float32),\n",
              " array([0.5724262], dtype=float32),\n",
              " array([0.5707235], dtype=float32),\n",
              " array([0.5690329], dtype=float32),\n",
              " array([0.5673537], dtype=float32),\n",
              " array([0.5656873], dtype=float32),\n",
              " array([0.56403476], dtype=float32),\n",
              " array([0.56239504], dtype=float32),\n",
              " array([0.5607679], dtype=float32),\n",
              " array([0.5591531], dtype=float32),\n",
              " array([0.5575505], dtype=float32),\n",
              " array([0.55596006], dtype=float32),\n",
              " array([0.5543817], dtype=float32),\n",
              " array([0.55281496], dtype=float32),\n",
              " array([0.5512597], dtype=float32),\n",
              " array([0.54971564], dtype=float32),\n",
              " array([0.5481824], dtype=float32),\n",
              " array([0.5466599], dtype=float32),\n",
              " array([0.54514754], dtype=float32),\n",
              " array([0.54364526], dtype=float32),\n",
              " array([0.5421531], dtype=float32),\n",
              " array([0.540671], dtype=float32),\n",
              " array([0.5391989], dtype=float32),\n",
              " array([0.53773654], dtype=float32),\n",
              " array([0.5362841], dtype=float32),\n",
              " array([0.53484136], dtype=float32),\n",
              " array([0.5334083], dtype=float32),\n",
              " array([0.5319848], dtype=float32),\n",
              " array([0.5305709], dtype=float32),\n",
              " array([0.52916646], dtype=float32),\n",
              " array([0.52777135], dtype=float32),\n",
              " array([0.5263856], dtype=float32),\n",
              " array([0.52500916], dtype=float32),\n",
              " array([0.5236419], dtype=float32),\n",
              " array([0.52228373], dtype=float32),\n",
              " array([0.52093464], dtype=float32),\n",
              " array([0.51959455], dtype=float32),\n",
              " array([0.5182635], dtype=float32),\n",
              " array([0.51694125], dtype=float32),\n",
              " array([0.51562786], dtype=float32),\n",
              " array([0.5143232], dtype=float32),\n",
              " array([0.5130269], dtype=float32),\n",
              " array([0.5117388], dtype=float32),\n",
              " array([0.5104588], dtype=float32),\n",
              " array([0.50918704], dtype=float32),\n",
              " array([0.50792336], dtype=float32),\n",
              " array([0.5066676], dtype=float32),\n",
              " array([0.50541985], dtype=float32),\n",
              " array([0.50418025], dtype=float32),\n",
              " array([0.5029485], dtype=float32),\n",
              " array([0.5017248], dtype=float32),\n",
              " array([0.5005088], dtype=float32),\n",
              " array([0.49930066], dtype=float32)]"
            ]
          },
          "metadata": {},
          "execution_count": 58
        }
      ]
    },
    {
      "cell_type": "code",
      "metadata": {
        "colab": {
          "base_uri": "https://localhost:8080/"
        },
        "id": "lTSfmMm-URN-",
        "outputId": "2374328c-3fed-4da5-85d1-757bdbfef117"
      },
      "source": [
        "len(test_predictions_2)"
      ],
      "execution_count": 59,
      "outputs": [
        {
          "output_type": "execute_result",
          "data": {
            "text/plain": [
              "172"
            ]
          },
          "metadata": {},
          "execution_count": 59
        }
      ]
    },
    {
      "cell_type": "code",
      "metadata": {
        "id": "Eeb-WiGWURKp"
      },
      "source": [
        "predictions_2 = scaler.inverse_transform(test_predictions_2)"
      ],
      "execution_count": 60,
      "outputs": []
    },
    {
      "cell_type": "code",
      "metadata": {
        "colab": {
          "base_uri": "https://localhost:8080/"
        },
        "id": "a4xUn2jIUREd",
        "outputId": "20019046-4c42-48c4-845e-cbd2b27de9bc"
      },
      "source": [
        "predictions_2"
      ],
      "execution_count": 61,
      "outputs": [
        {
          "output_type": "execute_result",
          "data": {
            "text/plain": [
              "array([[1328.95137094],\n",
              "       [1321.50057674],\n",
              "       [1313.69925173],\n",
              "       [1306.0743264 ],\n",
              "       [1298.53443276],\n",
              "       [1291.05133122],\n",
              "       [1283.65138394],\n",
              "       [1276.34429095],\n",
              "       [1269.12324659],\n",
              "       [1261.98527826],\n",
              "       [1254.93398438],\n",
              "       [1247.96545362],\n",
              "       [1241.0790602 ],\n",
              "       [1234.27323958],\n",
              "       [1227.54658369],\n",
              "       [1220.89799738],\n",
              "       [1214.32622903],\n",
              "       [1207.83026169],\n",
              "       [1201.40884376],\n",
              "       [1195.06080184],\n",
              "       [1188.78504076],\n",
              "       [1182.58062182],\n",
              "       [1176.44621517],\n",
              "       [1170.38111678],\n",
              "       [1164.38423148],\n",
              "       [1158.45462057],\n",
              "       [1152.59134532],\n",
              "       [1146.79362349],\n",
              "       [1141.06004699],\n",
              "       [1135.3899118 ],\n",
              "       [1129.78212275],\n",
              "       [1124.23589758],\n",
              "       [1118.75021936],\n",
              "       [1113.32422759],\n",
              "       [1107.95714002],\n",
              "       [1102.64801794],\n",
              "       [1097.39592262],\n",
              "       [1092.20015005],\n",
              "       [1087.0597615 ],\n",
              "       [1081.97389649],\n",
              "       [1076.94185098],\n",
              "       [1071.96268627],\n",
              "       [1067.03601122],\n",
              "       [1062.16065244],\n",
              "       [1057.33614058],\n",
              "       [1052.5614587 ],\n",
              "       [1047.83629389],\n",
              "       [1043.15947276],\n",
              "       [1038.53060419],\n",
              "       [1033.94898413],\n",
              "       [1029.41383034],\n",
              "       [1024.92451699],\n",
              "       [1020.48034007],\n",
              "       [1016.0808302 ],\n",
              "       [1011.7251269 ],\n",
              "       [1007.41276083],\n",
              "       [1003.14302794],\n",
              "       [ 998.91538064],\n",
              "       [ 994.72927137],\n",
              "       [ 990.58391786],\n",
              "       [ 986.47892898],\n",
              "       [ 982.41383536],\n",
              "       [ 978.38785477],\n",
              "       [ 974.40059605],\n",
              "       [ 970.45143341],\n",
              "       [ 966.53997571],\n",
              "       [ 962.66551892],\n",
              "       [ 958.82759368],\n",
              "       [ 955.02580887],\n",
              "       [ 951.25977336],\n",
              "       [ 947.5287831 ],\n",
              "       [ 943.83244697],\n",
              "       [ 940.17037384],\n",
              "       [ 936.54201612],\n",
              "       [ 932.94706092],\n",
              "       [ 929.3848042 ],\n",
              "       [ 925.85501127],\n",
              "       [ 922.35729102],\n",
              "       [ 918.89093941],\n",
              "       [ 915.45579997],\n",
              "       [ 912.05132514],\n",
              "       [ 908.67735846],\n",
              "       [ 905.33311767],\n",
              "       [ 902.01844632],\n",
              "       [ 898.7354565 ],\n",
              "       [ 895.48399177],\n",
              "       [ 892.2633481 ],\n",
              "       [ 889.07329081],\n",
              "       [ 885.92031265],\n",
              "       [ 882.80245797],\n",
              "       [ 879.71980501],\n",
              "       [ 876.67157149],\n",
              "       [ 873.65720985],\n",
              "       [ 870.67617249],\n",
              "       [ 867.72799006],\n",
              "       [ 864.81211498],\n",
              "       [ 861.92878193],\n",
              "       [ 859.07885139],\n",
              "       [ 856.26130643],\n",
              "       [ 853.47536477],\n",
              "       [ 850.71946192],\n",
              "       [ 847.99367608],\n",
              "       [ 845.2975379 ],\n",
              "       [ 842.63073449],\n",
              "       [ 839.99264002],\n",
              "       [ 837.3826287 ],\n",
              "       [ 834.80046584],\n",
              "       [ 832.24576032],\n",
              "       [ 829.71851213],\n",
              "       [ 827.21833015],\n",
              "       [ 824.74427566],\n",
              "       [ 822.29564463],\n",
              "       [ 819.87235883],\n",
              "       [ 817.4739489 ],\n",
              "       [ 815.1002584 ],\n",
              "       [ 812.75097442],\n",
              "       [ 810.42523648],\n",
              "       [ 808.12273166],\n",
              "       [ 805.83579382],\n",
              "       [ 803.56700442],\n",
              "       [ 801.31573765],\n",
              "       [ 799.08105479],\n",
              "       [ 796.86233005],\n",
              "       [ 794.65854647],\n",
              "       [ 792.47150327],\n",
              "       [ 790.30268673],\n",
              "       [ 788.15068878],\n",
              "       [ 786.01519653],\n",
              "       [ 783.89589706],\n",
              "       [ 781.79263393],\n",
              "       [ 779.70532891],\n",
              "       [ 777.63390377],\n",
              "       [ 775.57765447],\n",
              "       [ 773.53650281],\n",
              "       [ 771.51005763],\n",
              "       [ 769.49784959],\n",
              "       [ 767.49964401],\n",
              "       [ 765.51481508],\n",
              "       [ 763.54320635],\n",
              "       [ 761.58489604],\n",
              "       [ 759.6397277 ],\n",
              "       [ 757.70770134],\n",
              "       [ 755.78850404],\n",
              "       [ 753.88229227],\n",
              "       [ 751.98883134],\n",
              "       [ 750.10804302],\n",
              "       [ 748.23984909],\n",
              "       [ 746.38424955],\n",
              "       [ 744.54100973],\n",
              "       [ 742.71005139],\n",
              "       [ 740.89137454],\n",
              "       [ 739.08490094],\n",
              "       [ 737.29047416],\n",
              "       [ 735.50801595],\n",
              "       [ 733.7374481 ],\n",
              "       [ 731.97869239],\n",
              "       [ 730.23182702],\n",
              "       [ 728.49646089],\n",
              "       [ 726.77275043],\n",
              "       [ 725.06046097],\n",
              "       [ 723.35920138],\n",
              "       [ 721.66865875],\n",
              "       [ 719.98883309],\n",
              "       [ 718.3197244 ],\n",
              "       [ 716.66125445],\n",
              "       [ 715.01318855],\n",
              "       [ 713.37560495],\n",
              "       [ 711.74873831],\n",
              "       [ 710.1321975 ],\n",
              "       [ 708.52613898],\n",
              "       [ 706.93024985],\n",
              "       [ 705.34468655]])"
            ]
          },
          "metadata": {},
          "execution_count": 61
        }
      ]
    },
    {
      "cell_type": "code",
      "metadata": {
        "colab": {
          "base_uri": "https://localhost:8080/",
          "height": 454
        },
        "id": "-DeqBXMpUQ7v",
        "outputId": "e9fb1568-87c7-46f0-c4a7-4c31b66f4b4a"
      },
      "source": [
        "test"
      ],
      "execution_count": 62,
      "outputs": [
        {
          "output_type": "execute_result",
          "data": {
            "text/html": [
              "<div>\n",
              "<style scoped>\n",
              "    .dataframe tbody tr th:only-of-type {\n",
              "        vertical-align: middle;\n",
              "    }\n",
              "\n",
              "    .dataframe tbody tr th {\n",
              "        vertical-align: top;\n",
              "    }\n",
              "\n",
              "    .dataframe thead th {\n",
              "        text-align: right;\n",
              "    }\n",
              "</style>\n",
              "<table border=\"1\" class=\"dataframe\">\n",
              "  <thead>\n",
              "    <tr style=\"text-align: right;\">\n",
              "      <th></th>\n",
              "      <th>Close</th>\n",
              "    </tr>\n",
              "    <tr>\n",
              "      <th>Date</th>\n",
              "      <th></th>\n",
              "    </tr>\n",
              "  </thead>\n",
              "  <tbody>\n",
              "    <tr>\n",
              "      <th>2020-01-02</th>\n",
              "      <td>1368.680054</td>\n",
              "    </tr>\n",
              "    <tr>\n",
              "      <th>2020-01-03</th>\n",
              "      <td>1361.520020</td>\n",
              "    </tr>\n",
              "    <tr>\n",
              "      <th>2020-01-06</th>\n",
              "      <td>1397.810059</td>\n",
              "    </tr>\n",
              "    <tr>\n",
              "      <th>2020-01-07</th>\n",
              "      <td>1395.109985</td>\n",
              "    </tr>\n",
              "    <tr>\n",
              "      <th>2020-01-08</th>\n",
              "      <td>1405.040039</td>\n",
              "    </tr>\n",
              "    <tr>\n",
              "      <th>...</th>\n",
              "      <td>...</td>\n",
              "    </tr>\n",
              "    <tr>\n",
              "      <th>2020-08-31</th>\n",
              "      <td>1629.530029</td>\n",
              "    </tr>\n",
              "    <tr>\n",
              "      <th>2020-09-01</th>\n",
              "      <td>1655.079956</td>\n",
              "    </tr>\n",
              "    <tr>\n",
              "      <th>2020-09-02</th>\n",
              "      <td>1717.390015</td>\n",
              "    </tr>\n",
              "    <tr>\n",
              "      <th>2020-09-03</th>\n",
              "      <td>1629.510010</td>\n",
              "    </tr>\n",
              "    <tr>\n",
              "      <th>2020-09-04</th>\n",
              "      <td>1581.209961</td>\n",
              "    </tr>\n",
              "  </tbody>\n",
              "</table>\n",
              "<p>172 rows × 1 columns</p>\n",
              "</div>"
            ],
            "text/plain": [
              "                  Close\n",
              "Date                   \n",
              "2020-01-02  1368.680054\n",
              "2020-01-03  1361.520020\n",
              "2020-01-06  1397.810059\n",
              "2020-01-07  1395.109985\n",
              "2020-01-08  1405.040039\n",
              "...                 ...\n",
              "2020-08-31  1629.530029\n",
              "2020-09-01  1655.079956\n",
              "2020-09-02  1717.390015\n",
              "2020-09-03  1629.510010\n",
              "2020-09-04  1581.209961\n",
              "\n",
              "[172 rows x 1 columns]"
            ]
          },
          "metadata": {},
          "execution_count": 62
        }
      ]
    },
    {
      "cell_type": "code",
      "metadata": {
        "id": "agdwbVU2Yv_J"
      },
      "source": [
        "true_predictions_2 = pd.DataFrame(data=predictions_2, index= test.index,columns=['predictions_2'])"
      ],
      "execution_count": 63,
      "outputs": []
    },
    {
      "cell_type": "code",
      "metadata": {
        "colab": {
          "base_uri": "https://localhost:8080/",
          "height": 454
        },
        "id": "VjDkqoWKYv3c",
        "outputId": "0d873bc8-7895-492d-e1c9-5699faef504a"
      },
      "source": [
        "true_predictions_2"
      ],
      "execution_count": 64,
      "outputs": [
        {
          "output_type": "execute_result",
          "data": {
            "text/html": [
              "<div>\n",
              "<style scoped>\n",
              "    .dataframe tbody tr th:only-of-type {\n",
              "        vertical-align: middle;\n",
              "    }\n",
              "\n",
              "    .dataframe tbody tr th {\n",
              "        vertical-align: top;\n",
              "    }\n",
              "\n",
              "    .dataframe thead th {\n",
              "        text-align: right;\n",
              "    }\n",
              "</style>\n",
              "<table border=\"1\" class=\"dataframe\">\n",
              "  <thead>\n",
              "    <tr style=\"text-align: right;\">\n",
              "      <th></th>\n",
              "      <th>predictions_2</th>\n",
              "    </tr>\n",
              "    <tr>\n",
              "      <th>Date</th>\n",
              "      <th></th>\n",
              "    </tr>\n",
              "  </thead>\n",
              "  <tbody>\n",
              "    <tr>\n",
              "      <th>2020-01-02</th>\n",
              "      <td>1328.951371</td>\n",
              "    </tr>\n",
              "    <tr>\n",
              "      <th>2020-01-03</th>\n",
              "      <td>1321.500577</td>\n",
              "    </tr>\n",
              "    <tr>\n",
              "      <th>2020-01-06</th>\n",
              "      <td>1313.699252</td>\n",
              "    </tr>\n",
              "    <tr>\n",
              "      <th>2020-01-07</th>\n",
              "      <td>1306.074326</td>\n",
              "    </tr>\n",
              "    <tr>\n",
              "      <th>2020-01-08</th>\n",
              "      <td>1298.534433</td>\n",
              "    </tr>\n",
              "    <tr>\n",
              "      <th>...</th>\n",
              "      <td>...</td>\n",
              "    </tr>\n",
              "    <tr>\n",
              "      <th>2020-08-31</th>\n",
              "      <td>711.748738</td>\n",
              "    </tr>\n",
              "    <tr>\n",
              "      <th>2020-09-01</th>\n",
              "      <td>710.132198</td>\n",
              "    </tr>\n",
              "    <tr>\n",
              "      <th>2020-09-02</th>\n",
              "      <td>708.526139</td>\n",
              "    </tr>\n",
              "    <tr>\n",
              "      <th>2020-09-03</th>\n",
              "      <td>706.930250</td>\n",
              "    </tr>\n",
              "    <tr>\n",
              "      <th>2020-09-04</th>\n",
              "      <td>705.344687</td>\n",
              "    </tr>\n",
              "  </tbody>\n",
              "</table>\n",
              "<p>172 rows × 1 columns</p>\n",
              "</div>"
            ],
            "text/plain": [
              "            predictions_2\n",
              "Date                     \n",
              "2020-01-02    1328.951371\n",
              "2020-01-03    1321.500577\n",
              "2020-01-06    1313.699252\n",
              "2020-01-07    1306.074326\n",
              "2020-01-08    1298.534433\n",
              "...                   ...\n",
              "2020-08-31     711.748738\n",
              "2020-09-01     710.132198\n",
              "2020-09-02     708.526139\n",
              "2020-09-03     706.930250\n",
              "2020-09-04     705.344687\n",
              "\n",
              "[172 rows x 1 columns]"
            ]
          },
          "metadata": {},
          "execution_count": 64
        }
      ]
    },
    {
      "cell_type": "code",
      "metadata": {
        "colab": {
          "base_uri": "https://localhost:8080/",
          "height": 555
        },
        "id": "9IAJn_PTYvny",
        "outputId": "b1d11f3d-9389-4745-d69b-c2d750061776"
      },
      "source": [
        "test.plot()\n",
        "true_predictions_2.plot()"
      ],
      "execution_count": 65,
      "outputs": [
        {
          "output_type": "execute_result",
          "data": {
            "text/plain": [
              "<matplotlib.axes._subplots.AxesSubplot at 0x7fe13853a390>"
            ]
          },
          "metadata": {},
          "execution_count": 65
        },
        {
          "output_type": "display_data",
          "data": {
            "image/png": "[encoded data removed]",
            "text/plain": [
              "<Figure size 432x288 with 1 Axes>"
            ]
          },
          "metadata": {
            "needs_background": "light"
          }
        },
        {
          "output_type": "display_data",
          "data": {
            "image/png": "[encoded data removed]",
            "text/plain": [
              "<Figure size 432x288 with 1 Axes>"
            ]
          },
          "metadata": {
            "needs_background": "light"
          }
        }
      ]
    },
    {
      "cell_type": "code",
      "metadata": {
        "colab": {
          "base_uri": "https://localhost:8080/",
          "height": 295
        },
        "id": "-MGD55miYvxR",
        "outputId": "542af8df-1f7a-466c-b395-9fe8ec77fb30"
      },
      "source": [
        "ax = test.plot()\n",
        "true_predictions_2.plot(ax=ax)"
      ],
      "execution_count": 66,
      "outputs": [
        {
          "output_type": "execute_result",
          "data": {
            "text/plain": [
              "<matplotlib.axes._subplots.AxesSubplot at 0x7fe1386ed190>"
            ]
          },
          "metadata": {},
          "execution_count": 66
        },
        {
          "output_type": "display_data",
          "data": {
            "image/png": "[encoded data removed]",
            "text/plain": [
              "<Figure size 432x288 with 1 Axes>"
            ]
          },
          "metadata": {
            "needs_background": "light"
          }
        }
      ]
    },
    {
      "cell_type": "markdown",
      "metadata": {
        "id": "k0QwrsdxeRN6"
      },
      "source": [
        "## **Prediction Analysis**"
      ]
    },
    {
      "cell_type": "code",
      "metadata": {
        "colab": {
          "base_uri": "https://localhost:8080/",
          "height": 295
        },
        "id": "tgoxqHtpZKd7",
        "outputId": "c57f4046-811d-48b2-900c-56888ef772e9"
      },
      "source": [
        "ax = test.plot()\n",
        "true_predictions.plot(ax=ax)"
      ],
      "execution_count": 67,
      "outputs": [
        {
          "output_type": "execute_result",
          "data": {
            "text/plain": [
              "<matplotlib.axes._subplots.AxesSubplot at 0x7fe13850c890>"
            ]
          },
          "metadata": {},
          "execution_count": 67
        },
        {
          "output_type": "display_data",
          "data": {
            "image/png": "[encoded data removed]",
            "text/plain": [
              "<Figure size 432x288 with 1 Axes>"
            ]
          },
          "metadata": {
            "needs_background": "light"
          }
        }
      ]
    },
    {
      "cell_type": "code",
      "metadata": {
        "colab": {
          "base_uri": "https://localhost:8080/",
          "height": 295
        },
        "id": "QRQJrs9oYvhq",
        "outputId": "0b050e04-988a-4dde-cef6-98b5cd24e87a"
      },
      "source": [
        "ax = test.plot()\n",
        "true_predictions_2.plot(ax=ax)"
      ],
      "execution_count": 68,
      "outputs": [
        {
          "output_type": "execute_result",
          "data": {
            "text/plain": [
              "<matplotlib.axes._subplots.AxesSubplot at 0x7fe138731410>"
            ]
          },
          "metadata": {},
          "execution_count": 68
        },
        {
          "output_type": "display_data",
          "data": {
            "image/png": "[encoded data removed]",
            "text/plain": [
              "<Figure size 432x288 with 1 Axes>"
            ]
          },
          "metadata": {
            "needs_background": "light"
          }
        }
      ]
    },
    {
      "cell_type": "markdown",
      "metadata": {
        "id": "Gnh7FLepeYOu"
      },
      "source": [
        "**The two graphs generated in Single step prediction just differ by a time step, for multi-step prediction the the prediction goes to  down and after a while the prediction goes to almost  constant value and continue that way. For single step the prediction just approximates the last value for the original graph and gives that as prediction.** "
      ]
    }
  ]
}