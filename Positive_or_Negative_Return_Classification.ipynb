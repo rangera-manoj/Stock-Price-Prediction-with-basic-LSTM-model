{
  "nbformat": 4,
  "nbformat_minor": 0,
  "metadata": {
    "colab": {
      "name": "Positive_or_Negative_Return_Classification_final.ipynb",
      "provenance": [],
      "collapsed_sections": []
    },
    "kernelspec": {
      "name": "python3",
      "display_name": "Python 3"
    },
    "language_info": {
      "name": "python"
    },
    "accelerator": "GPU"
  },
  "cells": [
    {
      "cell_type": "code",
      "metadata": {
        "id": "O4Tqcm_RRkCy"
      },
      "source": [
        "import numpy as np\n",
        "import pandas as pd\n",
        "import tensorflow as tf\n",
        "import matplotlib.pyplot as plt"
      ],
      "execution_count": 1,
      "outputs": []
    },
    {
      "cell_type": "code",
      "metadata": {
        "id": "lIP3oZtfR-cA"
      },
      "source": [
        "df = pd.read_csv('/content/drive/MyDrive/google_stock/GOOGL.csv', index_col= 'Date', parse_dates=True)"
      ],
      "execution_count": 2,
      "outputs": []
    },
    {
      "cell_type": "code",
      "metadata": {
        "colab": {
          "base_uri": "https://localhost:8080/",
          "height": 235
        },
        "id": "_mHrLe3HSCVw",
        "outputId": "8a9fb8ff-40a8-42f9-b2c9-8250a682b897"
      },
      "source": [
        "df.head()"
      ],
      "execution_count": 3,
      "outputs": [
        {
          "output_type": "execute_result",
          "data": {
            "text/html": [
              "<div>\n",
              "<style scoped>\n",
              "    .dataframe tbody tr th:only-of-type {\n",
              "        vertical-align: middle;\n",
              "    }\n",
              "\n",
              "    .dataframe tbody tr th {\n",
              "        vertical-align: top;\n",
              "    }\n",
              "\n",
              "    .dataframe thead th {\n",
              "        text-align: right;\n",
              "    }\n",
              "</style>\n",
              "<table border=\"1\" class=\"dataframe\">\n",
              "  <thead>\n",
              "    <tr style=\"text-align: right;\">\n",
              "      <th></th>\n",
              "      <th>Open</th>\n",
              "      <th>High</th>\n",
              "      <th>Low</th>\n",
              "      <th>Close</th>\n",
              "      <th>Adj Close</th>\n",
              "      <th>Volume</th>\n",
              "    </tr>\n",
              "    <tr>\n",
              "      <th>Date</th>\n",
              "      <th></th>\n",
              "      <th></th>\n",
              "      <th></th>\n",
              "      <th></th>\n",
              "      <th></th>\n",
              "      <th></th>\n",
              "    </tr>\n",
              "  </thead>\n",
              "  <tbody>\n",
              "    <tr>\n",
              "      <th>2004-08-19</th>\n",
              "      <td>50.050049</td>\n",
              "      <td>52.082081</td>\n",
              "      <td>48.028027</td>\n",
              "      <td>50.220219</td>\n",
              "      <td>50.220219</td>\n",
              "      <td>44659000</td>\n",
              "    </tr>\n",
              "    <tr>\n",
              "      <th>2004-08-20</th>\n",
              "      <td>50.555557</td>\n",
              "      <td>54.594593</td>\n",
              "      <td>50.300301</td>\n",
              "      <td>54.209209</td>\n",
              "      <td>54.209209</td>\n",
              "      <td>22834300</td>\n",
              "    </tr>\n",
              "    <tr>\n",
              "      <th>2004-08-23</th>\n",
              "      <td>55.430431</td>\n",
              "      <td>56.796795</td>\n",
              "      <td>54.579578</td>\n",
              "      <td>54.754753</td>\n",
              "      <td>54.754753</td>\n",
              "      <td>18256100</td>\n",
              "    </tr>\n",
              "    <tr>\n",
              "      <th>2004-08-24</th>\n",
              "      <td>55.675674</td>\n",
              "      <td>55.855854</td>\n",
              "      <td>51.836838</td>\n",
              "      <td>52.487488</td>\n",
              "      <td>52.487488</td>\n",
              "      <td>15247300</td>\n",
              "    </tr>\n",
              "    <tr>\n",
              "      <th>2004-08-25</th>\n",
              "      <td>52.532532</td>\n",
              "      <td>54.054054</td>\n",
              "      <td>51.991993</td>\n",
              "      <td>53.053055</td>\n",
              "      <td>53.053055</td>\n",
              "      <td>9188600</td>\n",
              "    </tr>\n",
              "  </tbody>\n",
              "</table>\n",
              "</div>"
            ],
            "text/plain": [
              "                 Open       High        Low      Close  Adj Close    Volume\n",
              "Date                                                                       \n",
              "2004-08-19  50.050049  52.082081  48.028027  50.220219  50.220219  44659000\n",
              "2004-08-20  50.555557  54.594593  50.300301  54.209209  54.209209  22834300\n",
              "2004-08-23  55.430431  56.796795  54.579578  54.754753  54.754753  18256100\n",
              "2004-08-24  55.675674  55.855854  51.836838  52.487488  52.487488  15247300\n",
              "2004-08-25  52.532532  54.054054  51.991993  53.053055  53.053055   9188600"
            ]
          },
          "metadata": {
            "tags": []
          },
          "execution_count": 3
        }
      ]
    },
    {
      "cell_type": "code",
      "metadata": {
        "colab": {
          "base_uri": "https://localhost:8080/"
        },
        "id": "Fb1hST3zSDfh",
        "outputId": "b05a8ff5-5395-48e2-debb-d288184370d6"
      },
      "source": [
        "len(df)"
      ],
      "execution_count": 4,
      "outputs": [
        {
          "output_type": "execute_result",
          "data": {
            "text/plain": [
              "4041"
            ]
          },
          "metadata": {
            "tags": []
          },
          "execution_count": 4
        }
      ]
    },
    {
      "cell_type": "code",
      "metadata": {
        "colab": {
          "base_uri": "https://localhost:8080/"
        },
        "id": "puom_sY4SHJf",
        "outputId": "943896d1-6a1e-4132-c672-e7011433a6dd"
      },
      "source": [
        "df.info()"
      ],
      "execution_count": 5,
      "outputs": [
        {
          "output_type": "stream",
          "text": [
            "<class 'pandas.core.frame.DataFrame'>\n",
            "DatetimeIndex: 4041 entries, 2004-08-19 to 2020-09-04\n",
            "Data columns (total 6 columns):\n",
            " #   Column     Non-Null Count  Dtype  \n",
            "---  ------     --------------  -----  \n",
            " 0   Open       4041 non-null   float64\n",
            " 1   High       4041 non-null   float64\n",
            " 2   Low        4041 non-null   float64\n",
            " 3   Close      4041 non-null   float64\n",
            " 4   Adj Close  4041 non-null   float64\n",
            " 5   Volume     4041 non-null   int64  \n",
            "dtypes: float64(5), int64(1)\n",
            "memory usage: 221.0 KB\n"
          ],
          "name": "stdout"
        }
      ]
    },
    {
      "cell_type": "code",
      "metadata": {
        "colab": {
          "base_uri": "https://localhost:8080/"
        },
        "id": "RTeZU3NlSIoG",
        "outputId": "2526bc14-926e-4944-e47e-3eb1029cda9b"
      },
      "source": [
        "df.isna().sum()"
      ],
      "execution_count": 6,
      "outputs": [
        {
          "output_type": "execute_result",
          "data": {
            "text/plain": [
              "Open         0\n",
              "High         0\n",
              "Low          0\n",
              "Close        0\n",
              "Adj Close    0\n",
              "Volume       0\n",
              "dtype: int64"
            ]
          },
          "metadata": {
            "tags": []
          },
          "execution_count": 6
        }
      ]
    },
    {
      "cell_type": "code",
      "metadata": {
        "id": "McA6Q7i0SKx6"
      },
      "source": [
        "df['last_close'] = df['Close'].shift(1)"
      ],
      "execution_count": 7,
      "outputs": []
    },
    {
      "cell_type": "code",
      "metadata": {
        "colab": {
          "base_uri": "https://localhost:8080/",
          "height": 235
        },
        "id": "MahhsFe_SQND",
        "outputId": "b75d6710-90b1-4e7f-c734-7c3277bd387c"
      },
      "source": [
        "df.head()"
      ],
      "execution_count": 8,
      "outputs": [
        {
          "output_type": "execute_result",
          "data": {
            "text/html": [
              "<div>\n",
              "<style scoped>\n",
              "    .dataframe tbody tr th:only-of-type {\n",
              "        vertical-align: middle;\n",
              "    }\n",
              "\n",
              "    .dataframe tbody tr th {\n",
              "        vertical-align: top;\n",
              "    }\n",
              "\n",
              "    .dataframe thead th {\n",
              "        text-align: right;\n",
              "    }\n",
              "</style>\n",
              "<table border=\"1\" class=\"dataframe\">\n",
              "  <thead>\n",
              "    <tr style=\"text-align: right;\">\n",
              "      <th></th>\n",
              "      <th>Open</th>\n",
              "      <th>High</th>\n",
              "      <th>Low</th>\n",
              "      <th>Close</th>\n",
              "      <th>Adj Close</th>\n",
              "      <th>Volume</th>\n",
              "      <th>last_close</th>\n",
              "    </tr>\n",
              "    <tr>\n",
              "      <th>Date</th>\n",
              "      <th></th>\n",
              "      <th></th>\n",
              "      <th></th>\n",
              "      <th></th>\n",
              "      <th></th>\n",
              "      <th></th>\n",
              "      <th></th>\n",
              "    </tr>\n",
              "  </thead>\n",
              "  <tbody>\n",
              "    <tr>\n",
              "      <th>2004-08-19</th>\n",
              "      <td>50.050049</td>\n",
              "      <td>52.082081</td>\n",
              "      <td>48.028027</td>\n",
              "      <td>50.220219</td>\n",
              "      <td>50.220219</td>\n",
              "      <td>44659000</td>\n",
              "      <td>NaN</td>\n",
              "    </tr>\n",
              "    <tr>\n",
              "      <th>2004-08-20</th>\n",
              "      <td>50.555557</td>\n",
              "      <td>54.594593</td>\n",
              "      <td>50.300301</td>\n",
              "      <td>54.209209</td>\n",
              "      <td>54.209209</td>\n",
              "      <td>22834300</td>\n",
              "      <td>50.220219</td>\n",
              "    </tr>\n",
              "    <tr>\n",
              "      <th>2004-08-23</th>\n",
              "      <td>55.430431</td>\n",
              "      <td>56.796795</td>\n",
              "      <td>54.579578</td>\n",
              "      <td>54.754753</td>\n",
              "      <td>54.754753</td>\n",
              "      <td>18256100</td>\n",
              "      <td>54.209209</td>\n",
              "    </tr>\n",
              "    <tr>\n",
              "      <th>2004-08-24</th>\n",
              "      <td>55.675674</td>\n",
              "      <td>55.855854</td>\n",
              "      <td>51.836838</td>\n",
              "      <td>52.487488</td>\n",
              "      <td>52.487488</td>\n",
              "      <td>15247300</td>\n",
              "      <td>54.754753</td>\n",
              "    </tr>\n",
              "    <tr>\n",
              "      <th>2004-08-25</th>\n",
              "      <td>52.532532</td>\n",
              "      <td>54.054054</td>\n",
              "      <td>51.991993</td>\n",
              "      <td>53.053055</td>\n",
              "      <td>53.053055</td>\n",
              "      <td>9188600</td>\n",
              "      <td>52.487488</td>\n",
              "    </tr>\n",
              "  </tbody>\n",
              "</table>\n",
              "</div>"
            ],
            "text/plain": [
              "                 Open       High        Low  ...  Adj Close    Volume  last_close\n",
              "Date                                         ...                                 \n",
              "2004-08-19  50.050049  52.082081  48.028027  ...  50.220219  44659000         NaN\n",
              "2004-08-20  50.555557  54.594593  50.300301  ...  54.209209  22834300   50.220219\n",
              "2004-08-23  55.430431  56.796795  54.579578  ...  54.754753  18256100   54.209209\n",
              "2004-08-24  55.675674  55.855854  51.836838  ...  52.487488  15247300   54.754753\n",
              "2004-08-25  52.532532  54.054054  51.991993  ...  53.053055   9188600   52.487488\n",
              "\n",
              "[5 rows x 7 columns]"
            ]
          },
          "metadata": {
            "tags": []
          },
          "execution_count": 8
        }
      ]
    },
    {
      "cell_type": "code",
      "metadata": {
        "id": "UjbpGGyQSSOx"
      },
      "source": [
        "df['return'] = (df['Close'] - df['last_close']) / df['last_close']"
      ],
      "execution_count": 9,
      "outputs": []
    },
    {
      "cell_type": "code",
      "metadata": {
        "colab": {
          "base_uri": "https://localhost:8080/",
          "height": 235
        },
        "id": "FL1uGptKSVRS",
        "outputId": "84e652e5-7cdd-4aa4-c765-e16c87f3bd2e"
      },
      "source": [
        "df.head()"
      ],
      "execution_count": 10,
      "outputs": [
        {
          "output_type": "execute_result",
          "data": {
            "text/html": [
              "<div>\n",
              "<style scoped>\n",
              "    .dataframe tbody tr th:only-of-type {\n",
              "        vertical-align: middle;\n",
              "    }\n",
              "\n",
              "    .dataframe tbody tr th {\n",
              "        vertical-align: top;\n",
              "    }\n",
              "\n",
              "    .dataframe thead th {\n",
              "        text-align: right;\n",
              "    }\n",
              "</style>\n",
              "<table border=\"1\" class=\"dataframe\">\n",
              "  <thead>\n",
              "    <tr style=\"text-align: right;\">\n",
              "      <th></th>\n",
              "      <th>Open</th>\n",
              "      <th>High</th>\n",
              "      <th>Low</th>\n",
              "      <th>Close</th>\n",
              "      <th>Adj Close</th>\n",
              "      <th>Volume</th>\n",
              "      <th>last_close</th>\n",
              "      <th>return</th>\n",
              "    </tr>\n",
              "    <tr>\n",
              "      <th>Date</th>\n",
              "      <th></th>\n",
              "      <th></th>\n",
              "      <th></th>\n",
              "      <th></th>\n",
              "      <th></th>\n",
              "      <th></th>\n",
              "      <th></th>\n",
              "      <th></th>\n",
              "    </tr>\n",
              "  </thead>\n",
              "  <tbody>\n",
              "    <tr>\n",
              "      <th>2004-08-19</th>\n",
              "      <td>50.050049</td>\n",
              "      <td>52.082081</td>\n",
              "      <td>48.028027</td>\n",
              "      <td>50.220219</td>\n",
              "      <td>50.220219</td>\n",
              "      <td>44659000</td>\n",
              "      <td>NaN</td>\n",
              "      <td>NaN</td>\n",
              "    </tr>\n",
              "    <tr>\n",
              "      <th>2004-08-20</th>\n",
              "      <td>50.555557</td>\n",
              "      <td>54.594593</td>\n",
              "      <td>50.300301</td>\n",
              "      <td>54.209209</td>\n",
              "      <td>54.209209</td>\n",
              "      <td>22834300</td>\n",
              "      <td>50.220219</td>\n",
              "      <td>0.079430</td>\n",
              "    </tr>\n",
              "    <tr>\n",
              "      <th>2004-08-23</th>\n",
              "      <td>55.430431</td>\n",
              "      <td>56.796795</td>\n",
              "      <td>54.579578</td>\n",
              "      <td>54.754753</td>\n",
              "      <td>54.754753</td>\n",
              "      <td>18256100</td>\n",
              "      <td>54.209209</td>\n",
              "      <td>0.010064</td>\n",
              "    </tr>\n",
              "    <tr>\n",
              "      <th>2004-08-24</th>\n",
              "      <td>55.675674</td>\n",
              "      <td>55.855854</td>\n",
              "      <td>51.836838</td>\n",
              "      <td>52.487488</td>\n",
              "      <td>52.487488</td>\n",
              "      <td>15247300</td>\n",
              "      <td>54.754753</td>\n",
              "      <td>-0.041408</td>\n",
              "    </tr>\n",
              "    <tr>\n",
              "      <th>2004-08-25</th>\n",
              "      <td>52.532532</td>\n",
              "      <td>54.054054</td>\n",
              "      <td>51.991993</td>\n",
              "      <td>53.053055</td>\n",
              "      <td>53.053055</td>\n",
              "      <td>9188600</td>\n",
              "      <td>52.487488</td>\n",
              "      <td>0.010775</td>\n",
              "    </tr>\n",
              "  </tbody>\n",
              "</table>\n",
              "</div>"
            ],
            "text/plain": [
              "                 Open       High        Low  ...    Volume  last_close    return\n",
              "Date                                         ...                                \n",
              "2004-08-19  50.050049  52.082081  48.028027  ...  44659000         NaN       NaN\n",
              "2004-08-20  50.555557  54.594593  50.300301  ...  22834300   50.220219  0.079430\n",
              "2004-08-23  55.430431  56.796795  54.579578  ...  18256100   54.209209  0.010064\n",
              "2004-08-24  55.675674  55.855854  51.836838  ...  15247300   54.754753 -0.041408\n",
              "2004-08-25  52.532532  54.054054  51.991993  ...   9188600   52.487488  0.010775\n",
              "\n",
              "[5 rows x 8 columns]"
            ]
          },
          "metadata": {
            "tags": []
          },
          "execution_count": 10
        }
      ]
    },
    {
      "cell_type": "code",
      "metadata": {
        "id": "HaE9tTn8SWUv"
      },
      "source": [
        "df = df[1:]"
      ],
      "execution_count": 11,
      "outputs": []
    },
    {
      "cell_type": "code",
      "metadata": {
        "colab": {
          "base_uri": "https://localhost:8080/",
          "height": 235
        },
        "id": "wn6gPb9eSaAY",
        "outputId": "c664d475-d69b-40ed-cd49-508d8d84342b"
      },
      "source": [
        "df.head()"
      ],
      "execution_count": 12,
      "outputs": [
        {
          "output_type": "execute_result",
          "data": {
            "text/html": [
              "<div>\n",
              "<style scoped>\n",
              "    .dataframe tbody tr th:only-of-type {\n",
              "        vertical-align: middle;\n",
              "    }\n",
              "\n",
              "    .dataframe tbody tr th {\n",
              "        vertical-align: top;\n",
              "    }\n",
              "\n",
              "    .dataframe thead th {\n",
              "        text-align: right;\n",
              "    }\n",
              "</style>\n",
              "<table border=\"1\" class=\"dataframe\">\n",
              "  <thead>\n",
              "    <tr style=\"text-align: right;\">\n",
              "      <th></th>\n",
              "      <th>Open</th>\n",
              "      <th>High</th>\n",
              "      <th>Low</th>\n",
              "      <th>Close</th>\n",
              "      <th>Adj Close</th>\n",
              "      <th>Volume</th>\n",
              "      <th>last_close</th>\n",
              "      <th>return</th>\n",
              "    </tr>\n",
              "    <tr>\n",
              "      <th>Date</th>\n",
              "      <th></th>\n",
              "      <th></th>\n",
              "      <th></th>\n",
              "      <th></th>\n",
              "      <th></th>\n",
              "      <th></th>\n",
              "      <th></th>\n",
              "      <th></th>\n",
              "    </tr>\n",
              "  </thead>\n",
              "  <tbody>\n",
              "    <tr>\n",
              "      <th>2004-08-20</th>\n",
              "      <td>50.555557</td>\n",
              "      <td>54.594593</td>\n",
              "      <td>50.300301</td>\n",
              "      <td>54.209209</td>\n",
              "      <td>54.209209</td>\n",
              "      <td>22834300</td>\n",
              "      <td>50.220219</td>\n",
              "      <td>0.079430</td>\n",
              "    </tr>\n",
              "    <tr>\n",
              "      <th>2004-08-23</th>\n",
              "      <td>55.430431</td>\n",
              "      <td>56.796795</td>\n",
              "      <td>54.579578</td>\n",
              "      <td>54.754753</td>\n",
              "      <td>54.754753</td>\n",
              "      <td>18256100</td>\n",
              "      <td>54.209209</td>\n",
              "      <td>0.010064</td>\n",
              "    </tr>\n",
              "    <tr>\n",
              "      <th>2004-08-24</th>\n",
              "      <td>55.675674</td>\n",
              "      <td>55.855854</td>\n",
              "      <td>51.836838</td>\n",
              "      <td>52.487488</td>\n",
              "      <td>52.487488</td>\n",
              "      <td>15247300</td>\n",
              "      <td>54.754753</td>\n",
              "      <td>-0.041408</td>\n",
              "    </tr>\n",
              "    <tr>\n",
              "      <th>2004-08-25</th>\n",
              "      <td>52.532532</td>\n",
              "      <td>54.054054</td>\n",
              "      <td>51.991993</td>\n",
              "      <td>53.053055</td>\n",
              "      <td>53.053055</td>\n",
              "      <td>9188600</td>\n",
              "      <td>52.487488</td>\n",
              "      <td>0.010775</td>\n",
              "    </tr>\n",
              "    <tr>\n",
              "      <th>2004-08-26</th>\n",
              "      <td>52.527527</td>\n",
              "      <td>54.029030</td>\n",
              "      <td>52.382381</td>\n",
              "      <td>54.009010</td>\n",
              "      <td>54.009010</td>\n",
              "      <td>7094800</td>\n",
              "      <td>53.053055</td>\n",
              "      <td>0.018019</td>\n",
              "    </tr>\n",
              "  </tbody>\n",
              "</table>\n",
              "</div>"
            ],
            "text/plain": [
              "                 Open       High        Low  ...    Volume  last_close    return\n",
              "Date                                         ...                                \n",
              "2004-08-20  50.555557  54.594593  50.300301  ...  22834300   50.220219  0.079430\n",
              "2004-08-23  55.430431  56.796795  54.579578  ...  18256100   54.209209  0.010064\n",
              "2004-08-24  55.675674  55.855854  51.836838  ...  15247300   54.754753 -0.041408\n",
              "2004-08-25  52.532532  54.054054  51.991993  ...   9188600   52.487488  0.010775\n",
              "2004-08-26  52.527527  54.029030  52.382381  ...   7094800   53.053055  0.018019\n",
              "\n",
              "[5 rows x 8 columns]"
            ]
          },
          "metadata": {
            "tags": []
          },
          "execution_count": 12
        }
      ]
    },
    {
      "cell_type": "code",
      "metadata": {
        "colab": {
          "base_uri": "https://localhost:8080/",
          "height": 282
        },
        "id": "1_kTkNLNScqJ",
        "outputId": "22d138a2-ede7-4289-feae-2e1e76bb01ad"
      },
      "source": [
        "df['return'].hist()"
      ],
      "execution_count": 13,
      "outputs": [
        {
          "output_type": "execute_result",
          "data": {
            "text/plain": [
              "<matplotlib.axes._subplots.AxesSubplot at 0x7f15adb96a50>"
            ]
          },
          "metadata": {
            "tags": []
          },
          "execution_count": 13
        },
        {
          "output_type": "display_data",
          "data": {
            "image/png": "[encoded data removed]",
            "text/plain": [
              "<Figure size 432x288 with 1 Axes>"
            ]
          },
          "metadata": {
            "tags": [],
            "needs_background": "light"
          }
        }
      ]
    },
    {
      "cell_type": "code",
      "metadata": {
        "id": "YjLH3NbgShvA"
      },
      "source": [
        "df['Return'] = df['return']>0"
      ],
      "execution_count": 14,
      "outputs": []
    },
    {
      "cell_type": "code",
      "metadata": {
        "colab": {
          "base_uri": "https://localhost:8080/",
          "height": 235
        },
        "id": "UtpssndTSqSO",
        "outputId": "6e3fbc63-fef5-43c3-db1b-fbafd5229595"
      },
      "source": [
        "df.head()"
      ],
      "execution_count": 15,
      "outputs": [
        {
          "output_type": "execute_result",
          "data": {
            "text/html": [
              "<div>\n",
              "<style scoped>\n",
              "    .dataframe tbody tr th:only-of-type {\n",
              "        vertical-align: middle;\n",
              "    }\n",
              "\n",
              "    .dataframe tbody tr th {\n",
              "        vertical-align: top;\n",
              "    }\n",
              "\n",
              "    .dataframe thead th {\n",
              "        text-align: right;\n",
              "    }\n",
              "</style>\n",
              "<table border=\"1\" class=\"dataframe\">\n",
              "  <thead>\n",
              "    <tr style=\"text-align: right;\">\n",
              "      <th></th>\n",
              "      <th>Open</th>\n",
              "      <th>High</th>\n",
              "      <th>Low</th>\n",
              "      <th>Close</th>\n",
              "      <th>Adj Close</th>\n",
              "      <th>Volume</th>\n",
              "      <th>last_close</th>\n",
              "      <th>return</th>\n",
              "      <th>Return</th>\n",
              "    </tr>\n",
              "    <tr>\n",
              "      <th>Date</th>\n",
              "      <th></th>\n",
              "      <th></th>\n",
              "      <th></th>\n",
              "      <th></th>\n",
              "      <th></th>\n",
              "      <th></th>\n",
              "      <th></th>\n",
              "      <th></th>\n",
              "      <th></th>\n",
              "    </tr>\n",
              "  </thead>\n",
              "  <tbody>\n",
              "    <tr>\n",
              "      <th>2004-08-20</th>\n",
              "      <td>50.555557</td>\n",
              "      <td>54.594593</td>\n",
              "      <td>50.300301</td>\n",
              "      <td>54.209209</td>\n",
              "      <td>54.209209</td>\n",
              "      <td>22834300</td>\n",
              "      <td>50.220219</td>\n",
              "      <td>0.079430</td>\n",
              "      <td>True</td>\n",
              "    </tr>\n",
              "    <tr>\n",
              "      <th>2004-08-23</th>\n",
              "      <td>55.430431</td>\n",
              "      <td>56.796795</td>\n",
              "      <td>54.579578</td>\n",
              "      <td>54.754753</td>\n",
              "      <td>54.754753</td>\n",
              "      <td>18256100</td>\n",
              "      <td>54.209209</td>\n",
              "      <td>0.010064</td>\n",
              "      <td>True</td>\n",
              "    </tr>\n",
              "    <tr>\n",
              "      <th>2004-08-24</th>\n",
              "      <td>55.675674</td>\n",
              "      <td>55.855854</td>\n",
              "      <td>51.836838</td>\n",
              "      <td>52.487488</td>\n",
              "      <td>52.487488</td>\n",
              "      <td>15247300</td>\n",
              "      <td>54.754753</td>\n",
              "      <td>-0.041408</td>\n",
              "      <td>False</td>\n",
              "    </tr>\n",
              "    <tr>\n",
              "      <th>2004-08-25</th>\n",
              "      <td>52.532532</td>\n",
              "      <td>54.054054</td>\n",
              "      <td>51.991993</td>\n",
              "      <td>53.053055</td>\n",
              "      <td>53.053055</td>\n",
              "      <td>9188600</td>\n",
              "      <td>52.487488</td>\n",
              "      <td>0.010775</td>\n",
              "      <td>True</td>\n",
              "    </tr>\n",
              "    <tr>\n",
              "      <th>2004-08-26</th>\n",
              "      <td>52.527527</td>\n",
              "      <td>54.029030</td>\n",
              "      <td>52.382381</td>\n",
              "      <td>54.009010</td>\n",
              "      <td>54.009010</td>\n",
              "      <td>7094800</td>\n",
              "      <td>53.053055</td>\n",
              "      <td>0.018019</td>\n",
              "      <td>True</td>\n",
              "    </tr>\n",
              "  </tbody>\n",
              "</table>\n",
              "</div>"
            ],
            "text/plain": [
              "                 Open       High        Low  ...  last_close    return  Return\n",
              "Date                                         ...                              \n",
              "2004-08-20  50.555557  54.594593  50.300301  ...   50.220219  0.079430    True\n",
              "2004-08-23  55.430431  56.796795  54.579578  ...   54.209209  0.010064    True\n",
              "2004-08-24  55.675674  55.855854  51.836838  ...   54.754753 -0.041408   False\n",
              "2004-08-25  52.532532  54.054054  51.991993  ...   52.487488  0.010775    True\n",
              "2004-08-26  52.527527  54.029030  52.382381  ...   53.053055  0.018019    True\n",
              "\n",
              "[5 rows x 9 columns]"
            ]
          },
          "metadata": {
            "tags": []
          },
          "execution_count": 15
        }
      ]
    },
    {
      "cell_type": "code",
      "metadata": {
        "id": "-MBfdwSqSt8u"
      },
      "source": [
        "df.Return.replace({True : 1, False : 0}, inplace=True)"
      ],
      "execution_count": 16,
      "outputs": []
    },
    {
      "cell_type": "code",
      "metadata": {
        "colab": {
          "base_uri": "https://localhost:8080/",
          "height": 235
        },
        "id": "7PQ3CGzESxzu",
        "outputId": "ee0537f1-0c8d-48e4-936b-ec88f8680851"
      },
      "source": [
        "df.head()"
      ],
      "execution_count": 17,
      "outputs": [
        {
          "output_type": "execute_result",
          "data": {
            "text/html": [
              "<div>\n",
              "<style scoped>\n",
              "    .dataframe tbody tr th:only-of-type {\n",
              "        vertical-align: middle;\n",
              "    }\n",
              "\n",
              "    .dataframe tbody tr th {\n",
              "        vertical-align: top;\n",
              "    }\n",
              "\n",
              "    .dataframe thead th {\n",
              "        text-align: right;\n",
              "    }\n",
              "</style>\n",
              "<table border=\"1\" class=\"dataframe\">\n",
              "  <thead>\n",
              "    <tr style=\"text-align: right;\">\n",
              "      <th></th>\n",
              "      <th>Open</th>\n",
              "      <th>High</th>\n",
              "      <th>Low</th>\n",
              "      <th>Close</th>\n",
              "      <th>Adj Close</th>\n",
              "      <th>Volume</th>\n",
              "      <th>last_close</th>\n",
              "      <th>return</th>\n",
              "      <th>Return</th>\n",
              "    </tr>\n",
              "    <tr>\n",
              "      <th>Date</th>\n",
              "      <th></th>\n",
              "      <th></th>\n",
              "      <th></th>\n",
              "      <th></th>\n",
              "      <th></th>\n",
              "      <th></th>\n",
              "      <th></th>\n",
              "      <th></th>\n",
              "      <th></th>\n",
              "    </tr>\n",
              "  </thead>\n",
              "  <tbody>\n",
              "    <tr>\n",
              "      <th>2004-08-20</th>\n",
              "      <td>50.555557</td>\n",
              "      <td>54.594593</td>\n",
              "      <td>50.300301</td>\n",
              "      <td>54.209209</td>\n",
              "      <td>54.209209</td>\n",
              "      <td>22834300</td>\n",
              "      <td>50.220219</td>\n",
              "      <td>0.079430</td>\n",
              "      <td>1</td>\n",
              "    </tr>\n",
              "    <tr>\n",
              "      <th>2004-08-23</th>\n",
              "      <td>55.430431</td>\n",
              "      <td>56.796795</td>\n",
              "      <td>54.579578</td>\n",
              "      <td>54.754753</td>\n",
              "      <td>54.754753</td>\n",
              "      <td>18256100</td>\n",
              "      <td>54.209209</td>\n",
              "      <td>0.010064</td>\n",
              "      <td>1</td>\n",
              "    </tr>\n",
              "    <tr>\n",
              "      <th>2004-08-24</th>\n",
              "      <td>55.675674</td>\n",
              "      <td>55.855854</td>\n",
              "      <td>51.836838</td>\n",
              "      <td>52.487488</td>\n",
              "      <td>52.487488</td>\n",
              "      <td>15247300</td>\n",
              "      <td>54.754753</td>\n",
              "      <td>-0.041408</td>\n",
              "      <td>0</td>\n",
              "    </tr>\n",
              "    <tr>\n",
              "      <th>2004-08-25</th>\n",
              "      <td>52.532532</td>\n",
              "      <td>54.054054</td>\n",
              "      <td>51.991993</td>\n",
              "      <td>53.053055</td>\n",
              "      <td>53.053055</td>\n",
              "      <td>9188600</td>\n",
              "      <td>52.487488</td>\n",
              "      <td>0.010775</td>\n",
              "      <td>1</td>\n",
              "    </tr>\n",
              "    <tr>\n",
              "      <th>2004-08-26</th>\n",
              "      <td>52.527527</td>\n",
              "      <td>54.029030</td>\n",
              "      <td>52.382381</td>\n",
              "      <td>54.009010</td>\n",
              "      <td>54.009010</td>\n",
              "      <td>7094800</td>\n",
              "      <td>53.053055</td>\n",
              "      <td>0.018019</td>\n",
              "      <td>1</td>\n",
              "    </tr>\n",
              "  </tbody>\n",
              "</table>\n",
              "</div>"
            ],
            "text/plain": [
              "                 Open       High        Low  ...  last_close    return  Return\n",
              "Date                                         ...                              \n",
              "2004-08-20  50.555557  54.594593  50.300301  ...   50.220219  0.079430       1\n",
              "2004-08-23  55.430431  56.796795  54.579578  ...   54.209209  0.010064       1\n",
              "2004-08-24  55.675674  55.855854  51.836838  ...   54.754753 -0.041408       0\n",
              "2004-08-25  52.532532  54.054054  51.991993  ...   52.487488  0.010775       1\n",
              "2004-08-26  52.527527  54.029030  52.382381  ...   53.053055  0.018019       1\n",
              "\n",
              "[5 rows x 9 columns]"
            ]
          },
          "metadata": {
            "tags": []
          },
          "execution_count": 17
        }
      ]
    },
    {
      "cell_type": "code",
      "metadata": {
        "colab": {
          "base_uri": "https://localhost:8080/"
        },
        "id": "V0mTCqt6SzH-",
        "outputId": "10dee924-b005-4186-d3ae-5448cd6c916e"
      },
      "source": [
        "df.columns"
      ],
      "execution_count": 18,
      "outputs": [
        {
          "output_type": "execute_result",
          "data": {
            "text/plain": [
              "Index(['Open', 'High', 'Low', 'Close', 'Adj Close', 'Volume', 'last_close',\n",
              "       'return', 'Return'],\n",
              "      dtype='object')"
            ]
          },
          "metadata": {
            "tags": []
          },
          "execution_count": 18
        }
      ]
    },
    {
      "cell_type": "code",
      "metadata": {
        "id": "Zqnbes79S4N_"
      },
      "source": [
        "df.drop(['Adj Close', 'last_close', 'return'], axis=1, inplace=True)"
      ],
      "execution_count": 19,
      "outputs": []
    },
    {
      "cell_type": "code",
      "metadata": {
        "colab": {
          "base_uri": "https://localhost:8080/",
          "height": 235
        },
        "id": "09RWrk6ES6j1",
        "outputId": "36de4fda-afc7-4a8a-eea5-646b8a019f7a"
      },
      "source": [
        "df.head()"
      ],
      "execution_count": 20,
      "outputs": [
        {
          "output_type": "execute_result",
          "data": {
            "text/html": [
              "<div>\n",
              "<style scoped>\n",
              "    .dataframe tbody tr th:only-of-type {\n",
              "        vertical-align: middle;\n",
              "    }\n",
              "\n",
              "    .dataframe tbody tr th {\n",
              "        vertical-align: top;\n",
              "    }\n",
              "\n",
              "    .dataframe thead th {\n",
              "        text-align: right;\n",
              "    }\n",
              "</style>\n",
              "<table border=\"1\" class=\"dataframe\">\n",
              "  <thead>\n",
              "    <tr style=\"text-align: right;\">\n",
              "      <th></th>\n",
              "      <th>Open</th>\n",
              "      <th>High</th>\n",
              "      <th>Low</th>\n",
              "      <th>Close</th>\n",
              "      <th>Volume</th>\n",
              "      <th>Return</th>\n",
              "    </tr>\n",
              "    <tr>\n",
              "      <th>Date</th>\n",
              "      <th></th>\n",
              "      <th></th>\n",
              "      <th></th>\n",
              "      <th></th>\n",
              "      <th></th>\n",
              "      <th></th>\n",
              "    </tr>\n",
              "  </thead>\n",
              "  <tbody>\n",
              "    <tr>\n",
              "      <th>2004-08-20</th>\n",
              "      <td>50.555557</td>\n",
              "      <td>54.594593</td>\n",
              "      <td>50.300301</td>\n",
              "      <td>54.209209</td>\n",
              "      <td>22834300</td>\n",
              "      <td>1</td>\n",
              "    </tr>\n",
              "    <tr>\n",
              "      <th>2004-08-23</th>\n",
              "      <td>55.430431</td>\n",
              "      <td>56.796795</td>\n",
              "      <td>54.579578</td>\n",
              "      <td>54.754753</td>\n",
              "      <td>18256100</td>\n",
              "      <td>1</td>\n",
              "    </tr>\n",
              "    <tr>\n",
              "      <th>2004-08-24</th>\n",
              "      <td>55.675674</td>\n",
              "      <td>55.855854</td>\n",
              "      <td>51.836838</td>\n",
              "      <td>52.487488</td>\n",
              "      <td>15247300</td>\n",
              "      <td>0</td>\n",
              "    </tr>\n",
              "    <tr>\n",
              "      <th>2004-08-25</th>\n",
              "      <td>52.532532</td>\n",
              "      <td>54.054054</td>\n",
              "      <td>51.991993</td>\n",
              "      <td>53.053055</td>\n",
              "      <td>9188600</td>\n",
              "      <td>1</td>\n",
              "    </tr>\n",
              "    <tr>\n",
              "      <th>2004-08-26</th>\n",
              "      <td>52.527527</td>\n",
              "      <td>54.029030</td>\n",
              "      <td>52.382381</td>\n",
              "      <td>54.009010</td>\n",
              "      <td>7094800</td>\n",
              "      <td>1</td>\n",
              "    </tr>\n",
              "  </tbody>\n",
              "</table>\n",
              "</div>"
            ],
            "text/plain": [
              "                 Open       High        Low      Close    Volume  Return\n",
              "Date                                                                    \n",
              "2004-08-20  50.555557  54.594593  50.300301  54.209209  22834300       1\n",
              "2004-08-23  55.430431  56.796795  54.579578  54.754753  18256100       1\n",
              "2004-08-24  55.675674  55.855854  51.836838  52.487488  15247300       0\n",
              "2004-08-25  52.532532  54.054054  51.991993  53.053055   9188600       1\n",
              "2004-08-26  52.527527  54.029030  52.382381  54.009010   7094800       1"
            ]
          },
          "metadata": {
            "tags": []
          },
          "execution_count": 20
        }
      ]
    },
    {
      "cell_type": "markdown",
      "metadata": {
        "id": "RBK17NmeTPqY"
      },
      "source": [
        "## **train test split**"
      ]
    },
    {
      "cell_type": "code",
      "metadata": {
        "id": "KjaBRsHlTIPb"
      },
      "source": [
        "test_size = 172"
      ],
      "execution_count": 21,
      "outputs": []
    },
    {
      "cell_type": "code",
      "metadata": {
        "id": "XK4mDlSZTS8l"
      },
      "source": [
        "test_ind = len(df)- test_size"
      ],
      "execution_count": 22,
      "outputs": []
    },
    {
      "cell_type": "code",
      "metadata": {
        "id": "VYBOLYR3TU_7"
      },
      "source": [
        "train = df.iloc[:test_ind]\n",
        "test = df.iloc[test_ind:]"
      ],
      "execution_count": 23,
      "outputs": []
    },
    {
      "cell_type": "code",
      "metadata": {
        "colab": {
          "base_uri": "https://localhost:8080/",
          "height": 235
        },
        "id": "PZl1VXReTXPg",
        "outputId": "4ebae998-4ff7-4e2b-88e8-8863f25a582b"
      },
      "source": [
        "train.head()"
      ],
      "execution_count": 24,
      "outputs": [
        {
          "output_type": "execute_result",
          "data": {
            "text/html": [
              "<div>\n",
              "<style scoped>\n",
              "    .dataframe tbody tr th:only-of-type {\n",
              "        vertical-align: middle;\n",
              "    }\n",
              "\n",
              "    .dataframe tbody tr th {\n",
              "        vertical-align: top;\n",
              "    }\n",
              "\n",
              "    .dataframe thead th {\n",
              "        text-align: right;\n",
              "    }\n",
              "</style>\n",
              "<table border=\"1\" class=\"dataframe\">\n",
              "  <thead>\n",
              "    <tr style=\"text-align: right;\">\n",
              "      <th></th>\n",
              "      <th>Open</th>\n",
              "      <th>High</th>\n",
              "      <th>Low</th>\n",
              "      <th>Close</th>\n",
              "      <th>Volume</th>\n",
              "      <th>Return</th>\n",
              "    </tr>\n",
              "    <tr>\n",
              "      <th>Date</th>\n",
              "      <th></th>\n",
              "      <th></th>\n",
              "      <th></th>\n",
              "      <th></th>\n",
              "      <th></th>\n",
              "      <th></th>\n",
              "    </tr>\n",
              "  </thead>\n",
              "  <tbody>\n",
              "    <tr>\n",
              "      <th>2004-08-20</th>\n",
              "      <td>50.555557</td>\n",
              "      <td>54.594593</td>\n",
              "      <td>50.300301</td>\n",
              "      <td>54.209209</td>\n",
              "      <td>22834300</td>\n",
              "      <td>1</td>\n",
              "    </tr>\n",
              "    <tr>\n",
              "      <th>2004-08-23</th>\n",
              "      <td>55.430431</td>\n",
              "      <td>56.796795</td>\n",
              "      <td>54.579578</td>\n",
              "      <td>54.754753</td>\n",
              "      <td>18256100</td>\n",
              "      <td>1</td>\n",
              "    </tr>\n",
              "    <tr>\n",
              "      <th>2004-08-24</th>\n",
              "      <td>55.675674</td>\n",
              "      <td>55.855854</td>\n",
              "      <td>51.836838</td>\n",
              "      <td>52.487488</td>\n",
              "      <td>15247300</td>\n",
              "      <td>0</td>\n",
              "    </tr>\n",
              "    <tr>\n",
              "      <th>2004-08-25</th>\n",
              "      <td>52.532532</td>\n",
              "      <td>54.054054</td>\n",
              "      <td>51.991993</td>\n",
              "      <td>53.053055</td>\n",
              "      <td>9188600</td>\n",
              "      <td>1</td>\n",
              "    </tr>\n",
              "    <tr>\n",
              "      <th>2004-08-26</th>\n",
              "      <td>52.527527</td>\n",
              "      <td>54.029030</td>\n",
              "      <td>52.382381</td>\n",
              "      <td>54.009010</td>\n",
              "      <td>7094800</td>\n",
              "      <td>1</td>\n",
              "    </tr>\n",
              "  </tbody>\n",
              "</table>\n",
              "</div>"
            ],
            "text/plain": [
              "                 Open       High        Low      Close    Volume  Return\n",
              "Date                                                                    \n",
              "2004-08-20  50.555557  54.594593  50.300301  54.209209  22834300       1\n",
              "2004-08-23  55.430431  56.796795  54.579578  54.754753  18256100       1\n",
              "2004-08-24  55.675674  55.855854  51.836838  52.487488  15247300       0\n",
              "2004-08-25  52.532532  54.054054  51.991993  53.053055   9188600       1\n",
              "2004-08-26  52.527527  54.029030  52.382381  54.009010   7094800       1"
            ]
          },
          "metadata": {
            "tags": []
          },
          "execution_count": 24
        }
      ]
    },
    {
      "cell_type": "code",
      "metadata": {
        "colab": {
          "base_uri": "https://localhost:8080/",
          "height": 235
        },
        "id": "eAeHdEBQTafY",
        "outputId": "5ca38a01-df40-4ab0-98fc-3f39d0967a00"
      },
      "source": [
        "test.head()"
      ],
      "execution_count": 25,
      "outputs": [
        {
          "output_type": "execute_result",
          "data": {
            "text/html": [
              "<div>\n",
              "<style scoped>\n",
              "    .dataframe tbody tr th:only-of-type {\n",
              "        vertical-align: middle;\n",
              "    }\n",
              "\n",
              "    .dataframe tbody tr th {\n",
              "        vertical-align: top;\n",
              "    }\n",
              "\n",
              "    .dataframe thead th {\n",
              "        text-align: right;\n",
              "    }\n",
              "</style>\n",
              "<table border=\"1\" class=\"dataframe\">\n",
              "  <thead>\n",
              "    <tr style=\"text-align: right;\">\n",
              "      <th></th>\n",
              "      <th>Open</th>\n",
              "      <th>High</th>\n",
              "      <th>Low</th>\n",
              "      <th>Close</th>\n",
              "      <th>Volume</th>\n",
              "      <th>Return</th>\n",
              "    </tr>\n",
              "    <tr>\n",
              "      <th>Date</th>\n",
              "      <th></th>\n",
              "      <th></th>\n",
              "      <th></th>\n",
              "      <th></th>\n",
              "      <th></th>\n",
              "      <th></th>\n",
              "    </tr>\n",
              "  </thead>\n",
              "  <tbody>\n",
              "    <tr>\n",
              "      <th>2020-01-02</th>\n",
              "      <td>1348.410034</td>\n",
              "      <td>1368.680054</td>\n",
              "      <td>1346.489990</td>\n",
              "      <td>1368.680054</td>\n",
              "      <td>1363900</td>\n",
              "      <td>1</td>\n",
              "    </tr>\n",
              "    <tr>\n",
              "      <th>2020-01-03</th>\n",
              "      <td>1348.000000</td>\n",
              "      <td>1373.750000</td>\n",
              "      <td>1347.319946</td>\n",
              "      <td>1361.520020</td>\n",
              "      <td>1170400</td>\n",
              "      <td>0</td>\n",
              "    </tr>\n",
              "    <tr>\n",
              "      <th>2020-01-06</th>\n",
              "      <td>1351.630005</td>\n",
              "      <td>1398.319946</td>\n",
              "      <td>1351.000000</td>\n",
              "      <td>1397.810059</td>\n",
              "      <td>2338400</td>\n",
              "      <td>1</td>\n",
              "    </tr>\n",
              "    <tr>\n",
              "      <th>2020-01-07</th>\n",
              "      <td>1400.459961</td>\n",
              "      <td>1403.500000</td>\n",
              "      <td>1391.560059</td>\n",
              "      <td>1395.109985</td>\n",
              "      <td>1716500</td>\n",
              "      <td>0</td>\n",
              "    </tr>\n",
              "    <tr>\n",
              "      <th>2020-01-08</th>\n",
              "      <td>1394.819946</td>\n",
              "      <td>1411.849976</td>\n",
              "      <td>1392.630005</td>\n",
              "      <td>1405.040039</td>\n",
              "      <td>1765700</td>\n",
              "      <td>1</td>\n",
              "    </tr>\n",
              "  </tbody>\n",
              "</table>\n",
              "</div>"
            ],
            "text/plain": [
              "                   Open         High          Low        Close   Volume  Return\n",
              "Date                                                                           \n",
              "2020-01-02  1348.410034  1368.680054  1346.489990  1368.680054  1363900       1\n",
              "2020-01-03  1348.000000  1373.750000  1347.319946  1361.520020  1170400       0\n",
              "2020-01-06  1351.630005  1398.319946  1351.000000  1397.810059  2338400       1\n",
              "2020-01-07  1400.459961  1403.500000  1391.560059  1395.109985  1716500       0\n",
              "2020-01-08  1394.819946  1411.849976  1392.630005  1405.040039  1765700       1"
            ]
          },
          "metadata": {
            "tags": []
          },
          "execution_count": 25
        }
      ]
    },
    {
      "cell_type": "code",
      "metadata": {
        "id": "MSYRs3ylTcIb"
      },
      "source": [
        "x_train = train[['Open', 'High', 'Low', 'Close', 'Volume']].values\n",
        "y_train = train['Return'].values"
      ],
      "execution_count": 26,
      "outputs": []
    },
    {
      "cell_type": "code",
      "metadata": {
        "id": "CBPWXXnTTmOk"
      },
      "source": [
        "x_test = test[['Open', 'High', 'Low', 'Close', 'Volume']].values\n",
        "y_test = test['Return'].values"
      ],
      "execution_count": 27,
      "outputs": []
    },
    {
      "cell_type": "code",
      "metadata": {
        "colab": {
          "base_uri": "https://localhost:8080/"
        },
        "id": "R-9Ux86K3GrG",
        "outputId": "a1f6612c-740c-4607-d601-1b861be39e5e"
      },
      "source": [
        "x_train"
      ],
      "execution_count": 28,
      "outputs": [
        {
          "output_type": "execute_result",
          "data": {
            "text/plain": [
              "array([[5.05555570e+01, 5.45945930e+01, 5.03003010e+01, 5.42092090e+01,\n",
              "        2.28343000e+07],\n",
              "       [5.54304310e+01, 5.67967950e+01, 5.45795780e+01, 5.47547530e+01,\n",
              "        1.82561000e+07],\n",
              "       [5.56756740e+01, 5.58558540e+01, 5.18368380e+01, 5.24874880e+01,\n",
              "        1.52473000e+07],\n",
              "       ...,\n",
              "       [1.36400000e+03, 1.36705005e+03, 1.35300000e+03, 1.35464001e+03,\n",
              "        1.16060000e+06],\n",
              "       [1.35681006e+03, 1.35700000e+03, 1.33783997e+03, 1.33970996e+03,\n",
              "        9.99700000e+05],\n",
              "       [1.33579004e+03, 1.34066003e+03, 1.33213000e+03, 1.33939001e+03,\n",
              "        9.75700000e+05]])"
            ]
          },
          "metadata": {
            "tags": []
          },
          "execution_count": 28
        }
      ]
    },
    {
      "cell_type": "code",
      "metadata": {
        "colab": {
          "base_uri": "https://localhost:8080/"
        },
        "id": "SjMXFiuu3GhU",
        "outputId": "80dd5a6f-f3f7-4c6e-8f72-d0ac7d2b4d00"
      },
      "source": [
        "y_train"
      ],
      "execution_count": 29,
      "outputs": [
        {
          "output_type": "execute_result",
          "data": {
            "text/plain": [
              "array([1, 1, 0, ..., 0, 0, 0])"
            ]
          },
          "metadata": {
            "tags": []
          },
          "execution_count": 29
        }
      ]
    },
    {
      "cell_type": "code",
      "metadata": {
        "colab": {
          "base_uri": "https://localhost:8080/"
        },
        "id": "7gbN5yR33GYN",
        "outputId": "d60a9a0c-e873-48bf-edaf-f7e415e6b050"
      },
      "source": [
        "x_test"
      ],
      "execution_count": 30,
      "outputs": [
        {
          "output_type": "execute_result",
          "data": {
            "text/plain": [
              "array([[1.34841003e+03, 1.36868005e+03, 1.34648999e+03, 1.36868005e+03,\n",
              "        1.36390000e+06],\n",
              "       [1.34800000e+03, 1.37375000e+03, 1.34731995e+03, 1.36152002e+03,\n",
              "        1.17040000e+06],\n",
              "       [1.35163000e+03, 1.39831995e+03, 1.35100000e+03, 1.39781006e+03,\n",
              "        2.33840000e+06],\n",
              "       [1.40045996e+03, 1.40350000e+03, 1.39156006e+03, 1.39510999e+03,\n",
              "        1.71650000e+06],\n",
              "       [1.39481995e+03, 1.41184998e+03, 1.39263000e+03, 1.40504004e+03,\n",
              "        1.76570000e+06],\n",
              "       [1.42193005e+03, 1.42868005e+03, 1.41020996e+03, 1.41979004e+03,\n",
              "        1.66000000e+06],\n",
              "       [1.42946997e+03, 1.43493994e+03, 1.41959998e+03, 1.42895996e+03,\n",
              "        1.31290000e+06],\n",
              "       [1.43525000e+03, 1.44147998e+03, 1.42537000e+03, 1.44003003e+03,\n",
              "        1.53650000e+06],\n",
              "       [1.44000000e+03, 1.44263000e+03, 1.42777002e+03, 1.43058997e+03,\n",
              "        1.30380000e+06],\n",
              "       [1.43302002e+03, 1.44078003e+03, 1.43166003e+03, 1.43919995e+03,\n",
              "        1.07750000e+06],\n",
              "       [1.44544995e+03, 1.45069995e+03, 1.44000000e+03, 1.45016003e+03,\n",
              "        1.30400000e+06],\n",
              "       [1.46254004e+03, 1.48055005e+03, 1.45655005e+03, 1.47952002e+03,\n",
              "        2.62120000e+06],\n",
              "       [1.47900000e+03, 1.48988000e+03, 1.47020996e+03, 1.48225000e+03,\n",
              "        2.44650000e+06],\n",
              "       [1.48972998e+03, 1.50057996e+03, 1.48266003e+03, 1.48387000e+03,\n",
              "        1.42290000e+06],\n",
              "       [1.48755005e+03, 1.49350000e+03, 1.48031995e+03, 1.48468994e+03,\n",
              "        1.33250000e+06],\n",
              "       [1.49281995e+03, 1.49419995e+03, 1.46318005e+03, 1.46617004e+03,\n",
              "        1.48930000e+06],\n",
              "       [1.43154004e+03, 1.43657996e+03, 1.41950000e+03, 1.43172998e+03,\n",
              "        1.70660000e+06],\n",
              "       [1.44173999e+03, 1.45480005e+03, 1.43035999e+03, 1.45050000e+03,\n",
              "        1.48620000e+06],\n",
              "       [1.45845996e+03, 1.46414001e+03, 1.44539001e+03, 1.45669995e+03,\n",
              "        1.07830000e+06],\n",
              "       [1.43809998e+03, 1.45525000e+03, 1.43500000e+03, 1.45425000e+03,\n",
              "        1.35550000e+06],\n",
              "       [1.46785999e+03, 1.46967004e+03, 1.42706006e+03, 1.43278003e+03,\n",
              "        2.19110000e+06],\n",
              "       [1.46165002e+03, 1.48630005e+03, 1.45660999e+03, 1.48259998e+03,\n",
              "        3.60880000e+06],\n",
              "       [1.45448999e+03, 1.46733997e+03, 1.42203003e+03, 1.44541003e+03,\n",
              "        4.79400000e+06],\n",
              "       [1.46360999e+03, 1.46457996e+03, 1.42968005e+03, 1.44605005e+03,\n",
              "        1.81880000e+06],\n",
              "       [1.45197998e+03, 1.48156006e+03, 1.45047998e+03, 1.47596997e+03,\n",
              "        1.89110000e+06],\n",
              "       [1.46739001e+03, 1.48525000e+03, 1.46541003e+03, 1.47910999e+03,\n",
              "        1.41800000e+06],\n",
              "       [1.47722998e+03, 1.50888000e+03, 1.47519995e+03, 1.50866003e+03,\n",
              "        1.91510000e+06],\n",
              "       [1.51327002e+03, 1.52988000e+03, 1.50544995e+03, 1.51006006e+03,\n",
              "        1.74260000e+06],\n",
              "       [1.51585999e+03, 1.52030005e+03, 1.50867004e+03, 1.51863000e+03,\n",
              "        1.55210000e+06],\n",
              "       [1.51000000e+03, 1.52594995e+03, 1.50400000e+03, 1.51339001e+03,\n",
              "        1.14570000e+06],\n",
              "       [1.51453003e+03, 1.52005005e+03, 1.50555005e+03, 1.51872998e+03,\n",
              "        1.15990000e+06],\n",
              "       [1.51433997e+03, 1.53056006e+03, 1.51101001e+03, 1.51943994e+03,\n",
              "        1.28210000e+06],\n",
              "       [1.52719995e+03, 1.53073999e+03, 1.52097998e+03, 1.52487000e+03,\n",
              "        1.13730000e+06],\n",
              "       [1.51901001e+03, 1.52706995e+03, 1.50426001e+03, 1.51698999e+03,\n",
              "        1.29810000e+06],\n",
              "       [1.50457996e+03, 1.51094995e+03, 1.47848999e+03, 1.48345996e+03,\n",
              "        2.12600000e+06],\n",
              "       [1.42305005e+03, 1.43638000e+03, 1.40679004e+03, 1.41985999e+03,\n",
              "        2.47800000e+06],\n",
              "       [1.43100000e+03, 1.43684998e+03, 1.38042004e+03, 1.38631995e+03,\n",
              "        2.57900000e+06],\n",
              "       [1.39497998e+03, 1.41367004e+03, 1.37655005e+03, 1.39046997e+03,\n",
              "        2.48880000e+06],\n",
              "       [1.35914001e+03, 1.36940002e+03, 1.31423999e+03, 1.31494995e+03,\n",
              "        3.11450000e+06],\n",
              "       [1.27431006e+03, 1.34244995e+03, 1.26820996e+03, 1.33925000e+03,\n",
              "        4.01090000e+06],\n",
              "       [1.35139001e+03, 1.38746997e+03, 1.32519995e+03, 1.38631995e+03,\n",
              "        2.77150000e+06],\n",
              "       [1.39768005e+03, 1.40818994e+03, 1.32923999e+03, 1.33771997e+03,\n",
              "        2.82920000e+06],\n",
              "       [1.35895996e+03, 1.38278003e+03, 1.33700000e+03, 1.38159998e+03,\n",
              "        2.37990000e+06],\n",
              "       [1.34555005e+03, 1.35363000e+03, 1.30164001e+03, 1.31476001e+03,\n",
              "        2.71900000e+06],\n",
              "       [1.26994995e+03, 1.30275000e+03, 1.25720996e+03, 1.29573999e+03,\n",
              "        3.23200000e+06],\n",
              "       [1.20495996e+03, 1.25272998e+03, 1.19804004e+03, 1.21579004e+03,\n",
              "        3.46260000e+06],\n",
              "       [1.25439001e+03, 1.27584998e+03, 1.21451001e+03, 1.27517004e+03,\n",
              "        2.74360000e+06],\n",
              "       [1.24827002e+03, 1.25693005e+03, 1.19114001e+03, 1.21090002e+03,\n",
              "        2.73660000e+06],\n",
              "       [1.12262000e+03, 1.18875000e+03, 1.10846997e+03, 1.11155005e+03,\n",
              "        4.71630000e+06],\n",
              "       [1.17498999e+03, 1.21440002e+03, 1.11229004e+03, 1.21427002e+03,\n",
              "        3.97000000e+06],\n",
              "       [1.08960999e+03, 1.14546997e+03, 1.06707996e+03, 1.07300000e+03,\n",
              "        4.82600000e+06],\n",
              "       [1.09064001e+03, 1.12600000e+03, 1.04909998e+03, 1.11806006e+03,\n",
              "        4.15970000e+06],\n",
              "       [1.05993994e+03, 1.10498999e+03, 1.03700000e+03, 1.09118994e+03,\n",
              "        4.65220000e+06],\n",
              "       [1.08821997e+03, 1.15260999e+03, 1.05555005e+03, 1.11167004e+03,\n",
              "        3.70320000e+06],\n",
              "       [1.13090002e+03, 1.13847998e+03, 1.06209998e+03, 1.06820996e+03,\n",
              "        4.14390000e+06],\n",
              "       [1.05637000e+03, 1.06691003e+03, 1.00886999e+03, 1.05413000e+03,\n",
              "        4.18360000e+06],\n",
              "       [1.10397998e+03, 1.13332996e+03, 1.08643005e+03, 1.13001001e+03,\n",
              "        3.62340000e+06],\n",
              "       [1.12457996e+03, 1.14617004e+03, 1.08301001e+03, 1.10162000e+03,\n",
              "        4.51620000e+06],\n",
              "       [1.11471997e+03, 1.17147998e+03, 1.09203003e+03, 1.16292004e+03,\n",
              "        3.82810000e+06],\n",
              "       [1.12746997e+03, 1.15105005e+03, 1.10400000e+03, 1.11026001e+03,\n",
              "        3.13970000e+06],\n",
              "       [1.13264001e+03, 1.15100000e+03, 1.09848999e+03, 1.14631006e+03,\n",
              "        2.93680000e+06],\n",
              "       [1.14872998e+03, 1.17340002e+03, 1.13671997e+03, 1.16194995e+03,\n",
              "        3.26140000e+06],\n",
              "       [1.12400000e+03, 1.12942004e+03, 1.09348999e+03, 1.10209998e+03,\n",
              "        2.59850000e+06],\n",
              "       [1.10000000e+03, 1.12277002e+03, 1.09313000e+03, 1.11703003e+03,\n",
              "        2.82050000e+06],\n",
              "       [1.11470996e+03, 1.11879004e+03, 1.07507996e+03, 1.09269995e+03,\n",
              "        2.56870000e+06],\n",
              "       [1.13300000e+03, 1.19075000e+03, 1.12500000e+03, 1.18318994e+03,\n",
              "        3.16600000e+06],\n",
              "       [1.21701001e+03, 1.22078003e+03, 1.17725000e+03, 1.18256006e+03,\n",
              "        3.08100000e+06],\n",
              "       [1.20309998e+03, 1.21490002e+03, 1.18394995e+03, 1.20700000e+03,\n",
              "        2.01670000e+06],\n",
              "       [1.21818005e+03, 1.22198999e+03, 1.19242004e+03, 1.20656995e+03,\n",
              "        2.70140000e+06],\n",
              "       [1.20150000e+03, 1.21452002e+03, 1.18232996e+03, 1.21041003e+03,\n",
              "        1.93510000e+06],\n",
              "       [1.23996997e+03, 1.27575000e+03, 1.22854004e+03, 1.26522998e+03,\n",
              "        3.16790000e+06],\n",
              "       [1.24651001e+03, 1.27510999e+03, 1.23400000e+03, 1.25730005e+03,\n",
              "        2.11180000e+06],\n",
              "       [1.26714001e+03, 1.27335999e+03, 1.23819995e+03, 1.25743005e+03,\n",
              "        2.89480000e+06],\n",
              "       [1.28169995e+03, 1.29000000e+03, 1.26600000e+03, 1.27900000e+03,\n",
              "        2.55250000e+06],\n",
              "       [1.26989001e+03, 1.27681995e+03, 1.25643994e+03, 1.26115002e+03,\n",
              "        1.76460000e+06],\n",
              "       [1.24270996e+03, 1.25000000e+03, 1.20500000e+03, 1.21216003e+03,\n",
              "        2.48240000e+06],\n",
              "       [1.24110999e+03, 1.27988000e+03, 1.23719995e+03, 1.25841003e+03,\n",
              "        2.31580000e+06],\n",
              "       [1.26573999e+03, 1.28815002e+03, 1.26053003e+03, 1.27117004e+03,\n",
              "        1.71010000e+06],\n",
              "       [1.25500000e+03, 1.27770996e+03, 1.24400000e+03, 1.27659998e+03,\n",
              "        1.87200000e+06],\n",
              "       [1.29200000e+03, 1.29409998e+03, 1.26506006e+03, 1.27085999e+03,\n",
              "        2.20930000e+06],\n",
              "       [1.28319995e+03, 1.28476001e+03, 1.23038000e+03, 1.23258997e+03,\n",
              "        4.03500000e+06],\n",
              "       [1.34500000e+03, 1.36015002e+03, 1.32672998e+03, 1.34218005e+03,\n",
              "        5.41790000e+06],\n",
              "       [1.33135999e+03, 1.35000000e+03, 1.32150000e+03, 1.34669995e+03,\n",
              "        2.78920000e+06],\n",
              "       [1.32408997e+03, 1.35143005e+03, 1.30966003e+03, 1.31731995e+03,\n",
              "        2.44360000e+06],\n",
              "       [1.30813000e+03, 1.32446997e+03, 1.29601001e+03, 1.32290002e+03,\n",
              "        1.54030000e+06],\n",
              "       [1.33750000e+03, 1.37101001e+03, 1.33503003e+03, 1.34902002e+03,\n",
              "        1.98330000e+06],\n",
              "       [1.35800000e+03, 1.36868994e+03, 1.34513000e+03, 1.34543005e+03,\n",
              "        1.58660000e+06],\n",
              "       [1.36131006e+03, 1.37600000e+03, 1.35254004e+03, 1.36928003e+03,\n",
              "        1.53260000e+06],\n",
              "       [1.38181995e+03, 1.39664001e+03, 1.37201001e+03, 1.38433997e+03,\n",
              "        1.66630000e+06],\n",
              "       [1.37679004e+03, 1.41553003e+03, 1.37550000e+03, 1.40358997e+03,\n",
              "        1.63370000e+06],\n",
              "       [1.40821997e+03, 1.41432996e+03, 1.37451001e+03, 1.37518005e+03,\n",
              "        1.69590000e+06],\n",
              "       [1.37616003e+03, 1.38532996e+03, 1.32801001e+03, 1.34832996e+03,\n",
              "        2.01840000e+06],\n",
              "       [1.33352002e+03, 1.35737000e+03, 1.32330005e+03, 1.35685999e+03,\n",
              "        1.83300000e+06],\n",
              "       [1.34826001e+03, 1.37457996e+03, 1.33900000e+03, 1.37306006e+03,\n",
              "        2.07720000e+06],\n",
              "       [1.36157996e+03, 1.39276001e+03, 1.35419995e+03, 1.38518005e+03,\n",
              "        2.35640000e+06],\n",
              "       [1.38547998e+03, 1.39248999e+03, 1.37376001e+03, 1.37440002e+03,\n",
              "        1.57930000e+06],\n",
              "       [1.38916003e+03, 1.41203003e+03, 1.38742004e+03, 1.40916003e+03,\n",
              "        1.91310000e+06],\n",
              "       [1.41098999e+03, 1.41645996e+03, 1.39439001e+03, 1.40675000e+03,\n",
              "        1.54470000e+06],\n",
              "       [1.40390002e+03, 1.41700000e+03, 1.39594995e+03, 1.41323999e+03,\n",
              "        1.42720000e+06],\n",
              "       [1.44195996e+03, 1.44510999e+03, 1.41940002e+03, 1.42137000e+03,\n",
              "        2.22950000e+06],\n",
              "       [1.42000000e+03, 1.42534998e+03, 1.39459998e+03, 1.42028003e+03,\n",
              "        1.58420000e+06],\n",
              "       [1.40000000e+03, 1.44445996e+03, 1.39907996e+03, 1.41823999e+03,\n",
              "        1.75850000e+06],\n",
              "       [1.42043005e+03, 1.43672998e+03, 1.41597998e+03, 1.43352002e+03,\n",
              "        1.85220000e+06],\n",
              "       [1.42569995e+03, 1.44157996e+03, 1.42228003e+03, 1.43487000e+03,\n",
              "        1.25810000e+06],\n",
              "       [1.43500000e+03, 1.44300000e+03, 1.42160999e+03, 1.44231006e+03,\n",
              "        1.17210000e+06],\n",
              "       [1.44269995e+03, 1.44901001e+03, 1.43162000e+03, 1.43925000e+03,\n",
              "        1.38660000e+06],\n",
              "       [1.43678003e+03, 1.44131995e+03, 1.40601001e+03, 1.41430005e+03,\n",
              "        1.34910000e+06],\n",
              "       [1.41564001e+03, 1.44630005e+03, 1.40762000e+03, 1.44002002e+03,\n",
              "        2.13210000e+06],\n",
              "       [1.42628003e+03, 1.44900000e+03, 1.42447998e+03, 1.44804004e+03,\n",
              "        1.69390000e+06],\n",
              "       [1.44523999e+03, 1.46780005e+03, 1.44235999e+03, 1.45207996e+03,\n",
              "        1.68120000e+06],\n",
              "       [1.46151001e+03, 1.47277002e+03, 1.45435999e+03, 1.46469995e+03,\n",
              "        1.58810000e+06],\n",
              "       [1.44103003e+03, 1.45159998e+03, 1.39841003e+03, 1.40190002e+03,\n",
              "        2.35720000e+06],\n",
              "       [1.42585999e+03, 1.43451001e+03, 1.38580005e+03, 1.41292004e+03,\n",
              "        1.83290000e+06],\n",
              "       [1.38948999e+03, 1.42500000e+03, 1.38719995e+03, 1.42073999e+03,\n",
              "        1.52340000e+06],\n",
              "       [1.44900000e+03, 1.45717004e+03, 1.42898999e+03, 1.44646997e+03,\n",
              "        1.53240000e+06],\n",
              "       [1.45293994e+03, 1.46219995e+03, 1.43513000e+03, 1.45254004e+03,\n",
              "        1.52830000e+06],\n",
              "       [1.44984998e+03, 1.45296997e+03, 1.42623999e+03, 1.43412000e+03,\n",
              "        1.74310000e+06],\n",
              "       [1.44000000e+03, 1.44450000e+03, 1.41900000e+03, 1.42464001e+03,\n",
              "        2.63920000e+06],\n",
              "       [1.42501001e+03, 1.45094995e+03, 1.41918994e+03, 1.45066003e+03,\n",
              "        1.47210000e+06],\n",
              "       [1.45200000e+03, 1.47519995e+03, 1.44500000e+03, 1.46397998e+03,\n",
              "        1.88760000e+06],\n",
              "       [1.46328003e+03, 1.47579004e+03, 1.43000000e+03, 1.43269995e+03,\n",
              "        1.57960000e+06],\n",
              "       [1.43121997e+03, 1.44231995e+03, 1.41954004e+03, 1.44109998e+03,\n",
              "        1.19790000e+06],\n",
              "       [1.43263000e+03, 1.43702002e+03, 1.35500000e+03, 1.36254004e+03,\n",
              "        4.88200000e+06],\n",
              "       [1.36033997e+03, 1.39800000e+03, 1.35165002e+03, 1.39717004e+03,\n",
              "        2.25370000e+06],\n",
              "       [1.39688000e+03, 1.42400000e+03, 1.38693005e+03, 1.41805005e+03,\n",
              "        2.01430000e+06],\n",
              "       [1.41917004e+03, 1.44847998e+03, 1.41418005e+03, 1.44200000e+03,\n",
              "        2.10910000e+06],\n",
              "       [1.45183997e+03, 1.48852002e+03, 1.45106995e+03, 1.46993005e+03,\n",
              "        2.86090000e+06],\n",
              "       [1.48815002e+03, 1.51000000e+03, 1.47697998e+03, 1.49965002e+03,\n",
              "        2.23560000e+06],\n",
              "       [1.49613000e+03, 1.52131995e+03, 1.48969995e+03, 1.48992004e+03,\n",
              "        2.11820000e+06],\n",
              "       [1.50080005e+03, 1.51117004e+03, 1.49230005e+03, 1.50359998e+03,\n",
              "        1.58830000e+06],\n",
              "       [1.50993005e+03, 1.52914001e+03, 1.49558997e+03, 1.51866003e+03,\n",
              "        2.09180000e+06],\n",
              "       [1.51325000e+03, 1.54133997e+03, 1.50071997e+03, 1.53901001e+03,\n",
              "        1.79590000e+06],\n",
              "       [1.54993994e+03, 1.57635999e+03, 1.50656006e+03, 1.51222998e+03,\n",
              "        2.14770000e+06],\n",
              "       [1.49279004e+03, 1.52280005e+03, 1.48593005e+03, 1.52085999e+03,\n",
              "        1.90540000e+06],\n",
              "       [1.52322998e+03, 1.53632996e+03, 1.49782996e+03, 1.51688000e+03,\n",
              "        1.55130000e+06],\n",
              "       [1.50150000e+03, 1.51591003e+03, 1.48827002e+03, 1.51492004e+03,\n",
              "        1.32420000e+06],\n",
              "       [1.51691003e+03, 1.52343005e+03, 1.49809998e+03, 1.51684998e+03,\n",
              "        1.71320000e+06],\n",
              "       [1.51500000e+03, 1.56901001e+03, 1.50269995e+03, 1.56383997e+03,\n",
              "        1.50830000e+06],\n",
              "       [1.58503003e+03, 1.58705005e+03, 1.55262000e+03, 1.55592004e+03,\n",
              "        1.37770000e+06],\n",
              "       [1.55570996e+03, 1.56697998e+03, 1.54322998e+03, 1.56484998e+03,\n",
              "        1.22410000e+06],\n",
              "       [1.56593005e+03, 1.57034998e+03, 1.50858997e+03, 1.51675000e+03,\n",
              "        1.69550000e+06],\n",
              "       [1.49918994e+03, 1.51543005e+03, 1.48758997e+03, 1.50820996e+03,\n",
              "        1.49510000e+06],\n",
              "       [1.51326001e+03, 1.53756006e+03, 1.51232996e+03, 1.52943005e+03,\n",
              "        1.35620000e+06],\n",
              "       [1.52500000e+03, 1.52601001e+03, 1.50052002e+03, 1.50365002e+03,\n",
              "        1.54550000e+06],\n",
              "       [1.50500000e+03, 1.53332996e+03, 1.50301001e+03, 1.52351001e+03,\n",
              "        1.13380000e+06],\n",
              "       [1.49796997e+03, 1.54089001e+03, 1.49517004e+03, 1.53837000e+03,\n",
              "        1.80210000e+06],\n",
              "       [1.49705005e+03, 1.50502002e+03, 1.45400000e+03, 1.48794995e+03,\n",
              "        4.57640000e+06],\n",
              "       [1.49100000e+03, 1.49772998e+03, 1.47171997e+03, 1.48276001e+03,\n",
              "        2.27410000e+06],\n",
              "       [1.48670996e+03, 1.49310999e+03, 1.46403003e+03, 1.47330005e+03,\n",
              "        1.86060000e+06],\n",
              "       [1.47681995e+03, 1.49000000e+03, 1.47121997e+03, 1.47908997e+03,\n",
              "        1.45750000e+06],\n",
              "       [1.47615002e+03, 1.50627002e+03, 1.47190002e+03, 1.50494995e+03,\n",
              "        1.66530000e+06],\n",
              "       [1.50904004e+03, 1.52008997e+03, 1.48627002e+03, 1.49837000e+03,\n",
              "        1.38590000e+06],\n",
              "       [1.49080005e+03, 1.50715002e+03, 1.47748999e+03, 1.49681995e+03,\n",
              "        1.02730000e+06],\n",
              "       [1.49400000e+03, 1.51043994e+03, 1.47818994e+03, 1.48054004e+03,\n",
              "        1.55490000e+06],\n",
              "       [1.48712000e+03, 1.51167004e+03, 1.48500000e+03, 1.50723999e+03,\n",
              "        1.12660000e+06],\n",
              "       [1.50820996e+03, 1.53696997e+03, 1.50820996e+03, 1.51665002e+03,\n",
              "        1.11940000e+06],\n",
              "       [1.51360999e+03, 1.51979004e+03, 1.49900000e+03, 1.50463000e+03,\n",
              "        1.09710000e+06],\n",
              "       [1.51596997e+03, 1.52378003e+03, 1.50500000e+03, 1.51623999e+03,\n",
              "        9.99500000e+05],\n",
              "       [1.52612000e+03, 1.55737000e+03, 1.52167004e+03, 1.55578003e+03,\n",
              "        1.41890000e+06],\n",
              "       [1.55248999e+03, 1.56885999e+03, 1.54000000e+03, 1.54460999e+03,\n",
              "        1.52360000e+06],\n",
              "       [1.53996997e+03, 1.58017004e+03, 1.53445996e+03, 1.57625000e+03,\n",
              "        1.31910000e+06],\n",
              "       [1.57180005e+03, 1.59188000e+03, 1.56231006e+03, 1.57556995e+03,\n",
              "        1.74190000e+06],\n",
              "       [1.59246997e+03, 1.60878003e+03, 1.57504004e+03, 1.58515002e+03,\n",
              "        1.28190000e+06],\n",
              "       [1.58009998e+03, 1.60888000e+03, 1.57788000e+03, 1.60584998e+03,\n",
              "        1.25750000e+06],\n",
              "       [1.60630005e+03, 1.65279004e+03, 1.60097998e+03, 1.64413000e+03,\n",
              "        2.60940000e+06],\n",
              "       [1.64660999e+03, 1.64798999e+03, 1.61881006e+03, 1.62852002e+03,\n",
              "        1.56750000e+06],\n",
              "       [1.62946997e+03, 1.64134998e+03, 1.62560999e+03, 1.63943005e+03,\n",
              "        1.12090000e+06],\n",
              "       [1.64356995e+03, 1.64450000e+03, 1.62532996e+03, 1.62953003e+03,\n",
              "        1.32110000e+06],\n",
              "       [1.63216003e+03, 1.65921997e+03, 1.62953003e+03, 1.65507996e+03,\n",
              "        1.13380000e+06],\n",
              "       [1.66801001e+03, 1.72609998e+03, 1.66018994e+03, 1.71739001e+03,\n",
              "        2.47610000e+06],\n",
              "       [1.69952002e+03, 1.70000000e+03, 1.60770996e+03, 1.62951001e+03,\n",
              "        3.18020000e+06],\n",
              "       [1.60900000e+03, 1.63498999e+03, 1.53797009e+03, 1.58120996e+03,\n",
              "        2.79253300e+06]])"
            ]
          },
          "metadata": {
            "tags": []
          },
          "execution_count": 30
        }
      ]
    },
    {
      "cell_type": "code",
      "metadata": {
        "colab": {
          "base_uri": "https://localhost:8080/"
        },
        "id": "6E4DpgqR3GL8",
        "outputId": "6e5935ec-6098-4971-8124-706130fc9818"
      },
      "source": [
        "y_test"
      ],
      "execution_count": 31,
      "outputs": [
        {
          "output_type": "execute_result",
          "data": {
            "text/plain": [
              "array([1, 0, 1, 0, 1, 1, 1, 1, 0, 1, 1, 1, 1, 1, 1, 0, 0, 1, 1, 0, 0, 1,\n",
              "       0, 1, 1, 1, 1, 1, 1, 0, 1, 1, 1, 0, 0, 0, 0, 1, 0, 1, 1, 0, 1, 0,\n",
              "       0, 0, 1, 0, 0, 1, 0, 1, 0, 1, 0, 0, 1, 0, 1, 0, 1, 1, 0, 1, 0, 1,\n",
              "       0, 1, 0, 1, 1, 0, 1, 1, 0, 0, 1, 1, 1, 0, 0, 1, 1, 0, 1, 1, 0, 1,\n",
              "       1, 1, 0, 0, 1, 1, 1, 0, 1, 0, 1, 1, 0, 0, 1, 1, 1, 0, 0, 1, 1, 1,\n",
              "       1, 0, 1, 1, 1, 1, 0, 0, 1, 1, 0, 1, 0, 1, 1, 1, 1, 1, 0, 1, 1, 1,\n",
              "       0, 1, 0, 0, 1, 1, 0, 1, 0, 0, 1, 0, 1, 1, 0, 0, 0, 1, 1, 0, 0, 0,\n",
              "       1, 1, 0, 1, 1, 0, 1, 0, 1, 1, 1, 0, 1, 0, 1, 1, 0, 0])"
            ]
          },
          "metadata": {
            "tags": []
          },
          "execution_count": 31
        }
      ]
    },
    {
      "cell_type": "markdown",
      "metadata": {
        "id": "CSsGkvmtTvyy"
      },
      "source": [
        "## **Scaling of Train and Test Data**"
      ]
    },
    {
      "cell_type": "code",
      "metadata": {
        "id": "Pjuht-lSTpPq"
      },
      "source": [
        "from sklearn.preprocessing import MinMaxScaler"
      ],
      "execution_count": 32,
      "outputs": []
    },
    {
      "cell_type": "code",
      "metadata": {
        "id": "F4-zoUF_T21V"
      },
      "source": [
        "scaler = MinMaxScaler()"
      ],
      "execution_count": 33,
      "outputs": []
    },
    {
      "cell_type": "code",
      "metadata": {
        "id": "T5XOY7rCUHkQ"
      },
      "source": [
        "x_train = scaler.fit_transform(x_train)\n",
        "x_test = scaler.transform(x_test)"
      ],
      "execution_count": 34,
      "outputs": []
    },
    {
      "cell_type": "markdown",
      "metadata": {
        "id": "sR3p7rTvUeLJ"
      },
      "source": [
        "## **Time series Generator**"
      ]
    },
    {
      "cell_type": "code",
      "metadata": {
        "id": "81Kgv9EpUMWY"
      },
      "source": [
        "from tensorflow.keras.preprocessing.sequence import TimeseriesGenerator"
      ],
      "execution_count": 35,
      "outputs": []
    },
    {
      "cell_type": "code",
      "metadata": {
        "id": "mWqEHen2Unef"
      },
      "source": [
        "length = 10"
      ],
      "execution_count": 36,
      "outputs": []
    },
    {
      "cell_type": "code",
      "metadata": {
        "id": "KOxBhfO-Ur4L"
      },
      "source": [
        "generator = TimeseriesGenerator(x_train, y_train, length = length, batch_size = 32)"
      ],
      "execution_count": 37,
      "outputs": []
    },
    {
      "cell_type": "code",
      "metadata": {
        "colab": {
          "base_uri": "https://localhost:8080/"
        },
        "id": "CSLv4JUmWU-n",
        "outputId": "5713a2e3-2499-4c54-e2d6-3a9c5929c55b"
      },
      "source": [
        "x_train.shape[1]"
      ],
      "execution_count": 38,
      "outputs": [
        {
          "output_type": "execute_result",
          "data": {
            "text/plain": [
              "5"
            ]
          },
          "metadata": {
            "tags": []
          },
          "execution_count": 38
        }
      ]
    },
    {
      "cell_type": "markdown",
      "metadata": {
        "id": "TPAESIyqWHFm"
      },
      "source": [
        "## **Model**"
      ]
    },
    {
      "cell_type": "code",
      "metadata": {
        "id": "KcWS5HxgWC3F"
      },
      "source": [
        "from tensorflow.keras.models import Sequential"
      ],
      "execution_count": 39,
      "outputs": []
    },
    {
      "cell_type": "code",
      "metadata": {
        "id": "mlCLnhIDWKcZ"
      },
      "source": [
        "from tensorflow.keras.layers import Dense, LSTM, Dropout"
      ],
      "execution_count": 40,
      "outputs": []
    },
    {
      "cell_type": "code",
      "metadata": {
        "id": "RroJZx7CWMkn"
      },
      "source": [
        "n_features = x_train.shape[1]"
      ],
      "execution_count": 41,
      "outputs": []
    },
    {
      "cell_type": "code",
      "metadata": {
        "colab": {
          "base_uri": "https://localhost:8080/"
        },
        "id": "wQFdPuajWckM",
        "outputId": "bb39eca8-81f1-4c18-f8ab-4c1a678e9efe"
      },
      "source": [
        "model = Sequential()\n",
        "\n",
        "model.add(LSTM(100, activation='relu', input_shape = (length, n_features)))\n",
        "\n",
        "model.add(Dense(1))\n",
        "\n",
        "model.compile(optimizer='adam',\n",
        "             loss = 'binary_crossentropy',\n",
        "             metrics = ['accuracy'])"
      ],
      "execution_count": 42,
      "outputs": [
        {
          "output_type": "stream",
          "text": [
            "WARNING:tensorflow:Layer lstm will not use cuDNN kernels since it doesn't meet the criteria. It will use a generic GPU kernel as fallback when running on GPU.\n"
          ],
          "name": "stdout"
        }
      ]
    },
    {
      "cell_type": "code",
      "metadata": {
        "colab": {
          "base_uri": "https://localhost:8080/"
        },
        "id": "lGBEvpffW6wC",
        "outputId": "d81a47bc-1834-4d2b-dafb-8e7f77ffb7dc"
      },
      "source": [
        "model.summary()"
      ],
      "execution_count": 43,
      "outputs": [
        {
          "output_type": "stream",
          "text": [
            "Model: \"sequential\"\n",
            "_________________________________________________________________\n",
            "Layer (type)                 Output Shape              Param #   \n",
            "=================================================================\n",
            "lstm (LSTM)                  (None, 100)               42400     \n",
            "_________________________________________________________________\n",
            "dense (Dense)                (None, 1)                 101       \n",
            "=================================================================\n",
            "Total params: 42,501\n",
            "Trainable params: 42,501\n",
            "Non-trainable params: 0\n",
            "_________________________________________________________________\n"
          ],
          "name": "stdout"
        }
      ]
    },
    {
      "cell_type": "code",
      "metadata": {
        "id": "qh8ukLx7XfS8"
      },
      "source": [
        "validation_generator = TimeseriesGenerator(x_test, y_test, length = length, batch_size= 32)"
      ],
      "execution_count": 44,
      "outputs": []
    },
    {
      "cell_type": "code",
      "metadata": {
        "colab": {
          "base_uri": "https://localhost:8080/"
        },
        "id": "TXWN-p6BWgi6",
        "outputId": "d889f0af-a7c7-42d5-b9d3-984b940b8583"
      },
      "source": [
        "model.fit_generator(generator,epochs=100,\n",
        "                    validation_data=validation_generator)"
      ],
      "execution_count": 45,
      "outputs": [
        {
          "output_type": "stream",
          "text": [
            "/usr/local/lib/python3.7/dist-packages/tensorflow/python/keras/engine/training.py:1940: UserWarning: `Model.fit_generator` is deprecated and will be removed in a future version. Please use `Model.fit`, which supports generators.\n",
            "  warnings.warn('`Model.fit_generator` is deprecated and '\n"
          ],
          "name": "stderr"
        },
        {
          "output_type": "stream",
          "text": [
            "Epoch 1/100\n",
            "121/121 [==============================] - 6s 18ms/step - loss: 3.3937 - accuracy: 0.4808 - val_loss: 0.6864 - val_accuracy: 0.5741\n",
            "Epoch 2/100\n",
            "121/121 [==============================] - 2s 16ms/step - loss: 0.7595 - accuracy: 0.4842 - val_loss: 0.7081 - val_accuracy: 0.5802\n",
            "Epoch 3/100\n",
            "121/121 [==============================] - 2s 17ms/step - loss: 0.7054 - accuracy: 0.4951 - val_loss: 0.6892 - val_accuracy: 0.5802\n",
            "Epoch 4/100\n",
            "121/121 [==============================] - 2s 17ms/step - loss: 0.7013 - accuracy: 0.4940 - val_loss: 0.6820 - val_accuracy: 0.5802\n",
            "Epoch 5/100\n",
            "121/121 [==============================] - 2s 17ms/step - loss: 0.6980 - accuracy: 0.4966 - val_loss: 0.6879 - val_accuracy: 0.5741\n",
            "Epoch 6/100\n",
            "121/121 [==============================] - 2s 17ms/step - loss: 0.6975 - accuracy: 0.4992 - val_loss: 0.6875 - val_accuracy: 0.5802\n",
            "Epoch 7/100\n",
            "121/121 [==============================] - 2s 17ms/step - loss: 0.6975 - accuracy: 0.5098 - val_loss: 0.6862 - val_accuracy: 0.5802\n",
            "Epoch 8/100\n",
            "121/121 [==============================] - 2s 18ms/step - loss: 0.6993 - accuracy: 0.4754 - val_loss: 0.6830 - val_accuracy: 0.5802\n",
            "Epoch 9/100\n",
            "121/121 [==============================] - 2s 17ms/step - loss: 0.6964 - accuracy: 0.4927 - val_loss: 0.6832 - val_accuracy: 0.5802\n",
            "Epoch 10/100\n",
            "121/121 [==============================] - 2s 17ms/step - loss: 0.6954 - accuracy: 0.5031 - val_loss: 0.6811 - val_accuracy: 0.5802\n",
            "Epoch 11/100\n",
            "121/121 [==============================] - 2s 17ms/step - loss: 0.6953 - accuracy: 0.5039 - val_loss: 0.6837 - val_accuracy: 0.5802\n",
            "Epoch 12/100\n",
            "121/121 [==============================] - 2s 17ms/step - loss: 0.6962 - accuracy: 0.4995 - val_loss: 0.7016 - val_accuracy: 0.4198\n",
            "Epoch 13/100\n",
            "121/121 [==============================] - 2s 17ms/step - loss: 0.6966 - accuracy: 0.4938 - val_loss: 0.6821 - val_accuracy: 0.5802\n",
            "Epoch 14/100\n",
            "121/121 [==============================] - 2s 17ms/step - loss: 0.6966 - accuracy: 0.4907 - val_loss: 0.7029 - val_accuracy: 0.4198\n",
            "Epoch 15/100\n",
            "121/121 [==============================] - 2s 17ms/step - loss: 0.6946 - accuracy: 0.5111 - val_loss: 0.6854 - val_accuracy: 0.5802\n",
            "Epoch 16/100\n",
            "121/121 [==============================] - 2s 17ms/step - loss: 0.6960 - accuracy: 0.4987 - val_loss: 0.6876 - val_accuracy: 0.5802\n",
            "Epoch 17/100\n",
            "121/121 [==============================] - 2s 17ms/step - loss: 0.6963 - accuracy: 0.5036 - val_loss: 0.6903 - val_accuracy: 0.5679\n",
            "Epoch 18/100\n",
            "121/121 [==============================] - 2s 17ms/step - loss: 0.6928 - accuracy: 0.5218 - val_loss: 0.7019 - val_accuracy: 0.4198\n",
            "Epoch 19/100\n",
            "121/121 [==============================] - 2s 17ms/step - loss: 0.6951 - accuracy: 0.5052 - val_loss: 0.6920 - val_accuracy: 0.5556\n",
            "Epoch 20/100\n",
            "121/121 [==============================] - 2s 18ms/step - loss: 0.6945 - accuracy: 0.5091 - val_loss: 0.6930 - val_accuracy: 0.5432\n",
            "Epoch 21/100\n",
            "121/121 [==============================] - 2s 17ms/step - loss: 0.6942 - accuracy: 0.5070 - val_loss: 0.7048 - val_accuracy: 0.4198\n",
            "Epoch 22/100\n",
            "121/121 [==============================] - 2s 17ms/step - loss: 0.6943 - accuracy: 0.5093 - val_loss: 0.6911 - val_accuracy: 0.5802\n",
            "Epoch 23/100\n",
            "121/121 [==============================] - 2s 17ms/step - loss: 0.6926 - accuracy: 0.5156 - val_loss: 0.6887 - val_accuracy: 0.5802\n",
            "Epoch 24/100\n",
            "121/121 [==============================] - 2s 17ms/step - loss: 0.6920 - accuracy: 0.5088 - val_loss: 0.6803 - val_accuracy: 0.5802\n",
            "Epoch 25/100\n",
            "121/121 [==============================] - 2s 18ms/step - loss: 0.6938 - accuracy: 0.5153 - val_loss: 0.7030 - val_accuracy: 0.4198\n",
            "Epoch 26/100\n",
            "121/121 [==============================] - 2s 17ms/step - loss: 0.6944 - accuracy: 0.5153 - val_loss: 0.6874 - val_accuracy: 0.5802\n",
            "Epoch 27/100\n",
            "121/121 [==============================] - 2s 16ms/step - loss: 0.6932 - accuracy: 0.5106 - val_loss: 0.6946 - val_accuracy: 0.4321\n",
            "Epoch 28/100\n",
            "121/121 [==============================] - 2s 17ms/step - loss: 0.6931 - accuracy: 0.5086 - val_loss: 0.6846 - val_accuracy: 0.5802\n",
            "Epoch 29/100\n",
            "121/121 [==============================] - 2s 17ms/step - loss: 0.6931 - accuracy: 0.5067 - val_loss: 0.6988 - val_accuracy: 0.4198\n",
            "Epoch 30/100\n",
            "121/121 [==============================] - 2s 17ms/step - loss: 0.6939 - accuracy: 0.5101 - val_loss: 0.7031 - val_accuracy: 0.4198\n",
            "Epoch 31/100\n",
            "121/121 [==============================] - 2s 16ms/step - loss: 0.6934 - accuracy: 0.5106 - val_loss: 0.6834 - val_accuracy: 0.5802\n",
            "Epoch 32/100\n",
            "121/121 [==============================] - 2s 17ms/step - loss: 0.6934 - accuracy: 0.5220 - val_loss: 0.7036 - val_accuracy: 0.4198\n",
            "Epoch 33/100\n",
            "121/121 [==============================] - 2s 17ms/step - loss: 0.6930 - accuracy: 0.5067 - val_loss: 0.6981 - val_accuracy: 0.4198\n",
            "Epoch 34/100\n",
            "121/121 [==============================] - 2s 18ms/step - loss: 0.6925 - accuracy: 0.5127 - val_loss: 0.6847 - val_accuracy: 0.5802\n",
            "Epoch 35/100\n",
            "121/121 [==============================] - 2s 19ms/step - loss: 0.6917 - accuracy: 0.5135 - val_loss: 0.6824 - val_accuracy: 0.5802\n",
            "Epoch 36/100\n",
            "121/121 [==============================] - 2s 18ms/step - loss: 0.6928 - accuracy: 0.5093 - val_loss: 0.6932 - val_accuracy: 0.4568\n",
            "Epoch 37/100\n",
            "121/121 [==============================] - 2s 18ms/step - loss: 0.6916 - accuracy: 0.5161 - val_loss: 0.7032 - val_accuracy: 0.4198\n",
            "Epoch 38/100\n",
            "121/121 [==============================] - 2s 17ms/step - loss: 0.6956 - accuracy: 0.4984 - val_loss: 0.7029 - val_accuracy: 0.4198\n",
            "Epoch 39/100\n",
            "121/121 [==============================] - 2s 17ms/step - loss: 0.6920 - accuracy: 0.5080 - val_loss: 0.6969 - val_accuracy: 0.4321\n",
            "Epoch 40/100\n",
            "121/121 [==============================] - 2s 17ms/step - loss: 0.6925 - accuracy: 0.5156 - val_loss: 0.6821 - val_accuracy: 0.5802\n",
            "Epoch 41/100\n",
            "121/121 [==============================] - 2s 17ms/step - loss: 0.6920 - accuracy: 0.5080 - val_loss: 0.7046 - val_accuracy: 0.4198\n",
            "Epoch 42/100\n",
            "121/121 [==============================] - 2s 17ms/step - loss: 0.6929 - accuracy: 0.5000 - val_loss: 0.6850 - val_accuracy: 0.5802\n",
            "Epoch 43/100\n",
            "121/121 [==============================] - 2s 17ms/step - loss: 0.6943 - accuracy: 0.5101 - val_loss: 0.6978 - val_accuracy: 0.4321\n",
            "Epoch 44/100\n",
            "121/121 [==============================] - 2s 17ms/step - loss: 0.6918 - accuracy: 0.5194 - val_loss: 0.6805 - val_accuracy: 0.5802\n",
            "Epoch 45/100\n",
            "121/121 [==============================] - 2s 17ms/step - loss: 0.6937 - accuracy: 0.5047 - val_loss: 0.6830 - val_accuracy: 0.5802\n",
            "Epoch 46/100\n",
            "121/121 [==============================] - 2s 17ms/step - loss: 0.6927 - accuracy: 0.5049 - val_loss: 0.6965 - val_accuracy: 0.4383\n",
            "Epoch 47/100\n",
            "121/121 [==============================] - 2s 17ms/step - loss: 0.6924 - accuracy: 0.5119 - val_loss: 0.6935 - val_accuracy: 0.4691\n",
            "Epoch 48/100\n",
            "121/121 [==============================] - 2s 17ms/step - loss: 0.6911 - accuracy: 0.5228 - val_loss: 0.7228 - val_accuracy: 0.4198\n",
            "Epoch 49/100\n",
            "121/121 [==============================] - 2s 18ms/step - loss: 0.6916 - accuracy: 0.5197 - val_loss: 0.6849 - val_accuracy: 0.5802\n",
            "Epoch 50/100\n",
            "121/121 [==============================] - 2s 17ms/step - loss: 0.6918 - accuracy: 0.5117 - val_loss: 0.7012 - val_accuracy: 0.4198\n",
            "Epoch 51/100\n",
            "121/121 [==============================] - 2s 18ms/step - loss: 0.6925 - accuracy: 0.5101 - val_loss: 0.6937 - val_accuracy: 0.4506\n",
            "Epoch 52/100\n",
            "121/121 [==============================] - 2s 17ms/step - loss: 0.6929 - accuracy: 0.5080 - val_loss: 0.6900 - val_accuracy: 0.5988\n",
            "Epoch 53/100\n",
            "121/121 [==============================] - 2s 17ms/step - loss: 0.6925 - accuracy: 0.5145 - val_loss: 0.6994 - val_accuracy: 0.4321\n",
            "Epoch 54/100\n",
            "121/121 [==============================] - 2s 17ms/step - loss: 0.6938 - accuracy: 0.5098 - val_loss: 0.7045 - val_accuracy: 0.4198\n",
            "Epoch 55/100\n",
            "121/121 [==============================] - 2s 17ms/step - loss: 0.6929 - accuracy: 0.5192 - val_loss: 0.6893 - val_accuracy: 0.5741\n",
            "Epoch 56/100\n",
            "121/121 [==============================] - 2s 17ms/step - loss: 0.6921 - accuracy: 0.5184 - val_loss: 0.7031 - val_accuracy: 0.4198\n",
            "Epoch 57/100\n",
            "121/121 [==============================] - 2s 17ms/step - loss: 0.6925 - accuracy: 0.5124 - val_loss: 0.6939 - val_accuracy: 0.4691\n",
            "Epoch 58/100\n",
            "121/121 [==============================] - 2s 17ms/step - loss: 0.6921 - accuracy: 0.5093 - val_loss: 0.6913 - val_accuracy: 0.5556\n",
            "Epoch 59/100\n",
            "121/121 [==============================] - 2s 17ms/step - loss: 0.6917 - accuracy: 0.5148 - val_loss: 0.6918 - val_accuracy: 0.5309\n",
            "Epoch 60/100\n",
            "121/121 [==============================] - 2s 17ms/step - loss: 0.6920 - accuracy: 0.5246 - val_loss: 0.7041 - val_accuracy: 0.4198\n",
            "Epoch 61/100\n",
            "121/121 [==============================] - 2s 17ms/step - loss: 0.6921 - accuracy: 0.5091 - val_loss: 0.6879 - val_accuracy: 0.5926\n",
            "Epoch 62/100\n",
            "121/121 [==============================] - 2s 17ms/step - loss: 0.6920 - accuracy: 0.5140 - val_loss: 0.7026 - val_accuracy: 0.4259\n",
            "Epoch 63/100\n",
            "121/121 [==============================] - 2s 17ms/step - loss: 0.6925 - accuracy: 0.5109 - val_loss: 0.7013 - val_accuracy: 0.4198\n",
            "Epoch 64/100\n",
            "121/121 [==============================] - 2s 17ms/step - loss: 0.6922 - accuracy: 0.5047 - val_loss: 0.6975 - val_accuracy: 0.4383\n",
            "Epoch 65/100\n",
            "121/121 [==============================] - 2s 17ms/step - loss: 0.6923 - accuracy: 0.5135 - val_loss: 0.6999 - val_accuracy: 0.4321\n",
            "Epoch 66/100\n",
            "121/121 [==============================] - 2s 17ms/step - loss: 0.6919 - accuracy: 0.5197 - val_loss: 0.7068 - val_accuracy: 0.4198\n",
            "Epoch 67/100\n",
            "121/121 [==============================] - 2s 17ms/step - loss: 0.6924 - accuracy: 0.5111 - val_loss: 0.7083 - val_accuracy: 0.4198\n",
            "Epoch 68/100\n",
            "121/121 [==============================] - 2s 17ms/step - loss: 0.6923 - accuracy: 0.5016 - val_loss: 0.6896 - val_accuracy: 0.5679\n",
            "Epoch 69/100\n",
            "121/121 [==============================] - 2s 17ms/step - loss: 0.6916 - accuracy: 0.5218 - val_loss: 0.6987 - val_accuracy: 0.4383\n",
            "Epoch 70/100\n",
            "121/121 [==============================] - 2s 17ms/step - loss: 0.6914 - accuracy: 0.5150 - val_loss: 0.7036 - val_accuracy: 0.4259\n",
            "Epoch 71/100\n",
            "121/121 [==============================] - 2s 17ms/step - loss: 0.6928 - accuracy: 0.5057 - val_loss: 0.6856 - val_accuracy: 0.5864\n",
            "Epoch 72/100\n",
            "121/121 [==============================] - 2s 17ms/step - loss: 0.6911 - accuracy: 0.5187 - val_loss: 0.7074 - val_accuracy: 0.4383\n",
            "Epoch 73/100\n",
            "121/121 [==============================] - 2s 17ms/step - loss: 0.6912 - accuracy: 0.5086 - val_loss: 0.6805 - val_accuracy: 0.5802\n",
            "Epoch 74/100\n",
            "121/121 [==============================] - 2s 17ms/step - loss: 0.6915 - accuracy: 0.5200 - val_loss: 0.7090 - val_accuracy: 0.4383\n",
            "Epoch 75/100\n",
            "121/121 [==============================] - 2s 16ms/step - loss: 0.6924 - accuracy: 0.5117 - val_loss: 0.6920 - val_accuracy: 0.5370\n",
            "Epoch 76/100\n",
            "121/121 [==============================] - 2s 17ms/step - loss: 0.6917 - accuracy: 0.5158 - val_loss: 0.6958 - val_accuracy: 0.4444\n",
            "Epoch 77/100\n",
            "121/121 [==============================] - 2s 17ms/step - loss: 0.6912 - accuracy: 0.5213 - val_loss: 0.7472 - val_accuracy: 0.4198\n",
            "Epoch 78/100\n",
            "121/121 [==============================] - 2s 17ms/step - loss: 0.6919 - accuracy: 0.5132 - val_loss: 0.6864 - val_accuracy: 0.5864\n",
            "Epoch 79/100\n",
            "121/121 [==============================] - 2s 17ms/step - loss: 0.6907 - accuracy: 0.5207 - val_loss: 0.7146 - val_accuracy: 0.4198\n",
            "Epoch 80/100\n",
            "121/121 [==============================] - 2s 17ms/step - loss: 0.6908 - accuracy: 0.5187 - val_loss: 0.7113 - val_accuracy: 0.4198\n",
            "Epoch 81/100\n",
            "121/121 [==============================] - 2s 18ms/step - loss: 0.6914 - accuracy: 0.5202 - val_loss: 0.7069 - val_accuracy: 0.4198\n",
            "Epoch 82/100\n",
            "121/121 [==============================] - 2s 18ms/step - loss: 0.6917 - accuracy: 0.5148 - val_loss: 0.7085 - val_accuracy: 0.4198\n",
            "Epoch 83/100\n",
            "121/121 [==============================] - 2s 18ms/step - loss: 0.6912 - accuracy: 0.5150 - val_loss: 0.6902 - val_accuracy: 0.5556\n",
            "Epoch 84/100\n",
            "121/121 [==============================] - 2s 17ms/step - loss: 0.6904 - accuracy: 0.5277 - val_loss: 0.7663 - val_accuracy: 0.4198\n",
            "Epoch 85/100\n",
            "121/121 [==============================] - 2s 17ms/step - loss: 0.6929 - accuracy: 0.5143 - val_loss: 0.6935 - val_accuracy: 0.4815\n",
            "Epoch 86/100\n",
            "121/121 [==============================] - 2s 17ms/step - loss: 0.6920 - accuracy: 0.5143 - val_loss: 0.6984 - val_accuracy: 0.4321\n",
            "Epoch 87/100\n",
            "121/121 [==============================] - 2s 18ms/step - loss: 0.6928 - accuracy: 0.5114 - val_loss: 0.6869 - val_accuracy: 0.5679\n",
            "Epoch 88/100\n",
            "121/121 [==============================] - 2s 18ms/step - loss: 0.6913 - accuracy: 0.5197 - val_loss: 0.6860 - val_accuracy: 0.5864\n",
            "Epoch 89/100\n",
            "121/121 [==============================] - 2s 17ms/step - loss: 0.6926 - accuracy: 0.5303 - val_loss: 0.6833 - val_accuracy: 0.5864\n",
            "Epoch 90/100\n",
            "121/121 [==============================] - 2s 17ms/step - loss: 0.6919 - accuracy: 0.5308 - val_loss: 0.7263 - val_accuracy: 0.4321\n",
            "Epoch 91/100\n",
            "121/121 [==============================] - 2s 17ms/step - loss: 0.6913 - accuracy: 0.5143 - val_loss: 0.6943 - val_accuracy: 0.4691\n",
            "Epoch 92/100\n",
            "121/121 [==============================] - 2s 17ms/step - loss: 0.6912 - accuracy: 0.5117 - val_loss: 0.7161 - val_accuracy: 0.4259\n",
            "Epoch 93/100\n",
            "121/121 [==============================] - 2s 17ms/step - loss: 0.6904 - accuracy: 0.5166 - val_loss: 0.7198 - val_accuracy: 0.4321\n",
            "Epoch 94/100\n",
            "121/121 [==============================] - 2s 17ms/step - loss: 0.6909 - accuracy: 0.5257 - val_loss: 0.7006 - val_accuracy: 0.4383\n",
            "Epoch 95/100\n",
            "121/121 [==============================] - 2s 17ms/step - loss: 0.6909 - accuracy: 0.5132 - val_loss: 0.7092 - val_accuracy: 0.4198\n",
            "Epoch 96/100\n",
            "121/121 [==============================] - 2s 17ms/step - loss: 0.7020 - accuracy: 0.5277 - val_loss: 0.7026 - val_accuracy: 0.4259\n",
            "Epoch 97/100\n",
            "121/121 [==============================] - 2s 17ms/step - loss: 0.6919 - accuracy: 0.5101 - val_loss: 0.7308 - val_accuracy: 0.4136\n",
            "Epoch 98/100\n",
            "121/121 [==============================] - 2s 17ms/step - loss: 0.6912 - accuracy: 0.5207 - val_loss: 0.7188 - val_accuracy: 0.4321\n",
            "Epoch 99/100\n",
            "121/121 [==============================] - 2s 18ms/step - loss: 0.6904 - accuracy: 0.5244 - val_loss: 0.7136 - val_accuracy: 0.4383\n",
            "Epoch 100/100\n",
            "121/121 [==============================] - 2s 18ms/step - loss: 0.6940 - accuracy: 0.5166 - val_loss: 0.7978 - val_accuracy: 0.4198\n"
          ],
          "name": "stdout"
        },
        {
          "output_type": "execute_result",
          "data": {
            "text/plain": [
              "<tensorflow.python.keras.callbacks.History at 0x7f15906902d0>"
            ]
          },
          "metadata": {
            "tags": []
          },
          "execution_count": 45
        }
      ]
    },
    {
      "cell_type": "markdown",
      "metadata": {
        "id": "DWMwgHmtXuEp"
      },
      "source": [
        "**Here, Val Accuracy is not on either extremes it is in between which is near about 50%. That states that model can not classify the positive or negative return too. So in total we can't predict the Stock Price or Return using LSTM only as they depend on many other factors too. It's not as easy as to just observe the pattern in them and make a future prediction.**"
      ]
    }
  ]
}